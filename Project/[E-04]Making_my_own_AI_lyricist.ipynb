{
 "cells": [
  {
   "cell_type": "markdown",
   "id": "1fca0a6f",
   "metadata": {},
   "source": [
    "# Exploration 4 - 멋진 인공지능 작사가 만들기 🎵"
   ]
  },
  {
   "cell_type": "markdown",
   "id": "7432ae89",
   "metadata": {},
   "source": [
    "### Step 1. 라이브러리 불러오기"
   ]
  },
  {
   "cell_type": "code",
   "execution_count": 2,
   "id": "376cac28",
   "metadata": {},
   "outputs": [],
   "source": [
    "import os, re \n",
    "import numpy as np\n",
    "import tensorflow as tf"
   ]
  },
  {
   "cell_type": "markdown",
   "id": "4449c621",
   "metadata": {},
   "source": [
    "### Step 2. 데이터 읽어오기\n",
    "- glob 를 활용하여 모든 txt 파일을 읽어온 후, raw_corpus 리스트에 문장 단위로 저장하기"
   ]
  },
  {
   "cell_type": "code",
   "execution_count": 3,
   "id": "9266c291",
   "metadata": {},
   "outputs": [
    {
     "name": "stdout",
     "output_type": "stream",
     "text": [
      "데이터 크기: 187088\n",
      "Examples:\n",
      " [\"Now I've heard there was a secret chord\", 'That David played, and it pleased the Lord', \"But you don't really care for music, do you?\"]\n"
     ]
    }
   ],
   "source": [
    "import glob\n",
    "\n",
    "txt_file_path = os.getenv('HOME')+'/aiffel/lyricist/data/lyrics/*'\n",
    "\n",
    "txt_list = glob.glob(txt_file_path)\n",
    "\n",
    "raw_corpus = []\n",
    "\n",
    "# 여러개의 txt 파일을 모두 읽어서 raw_corpus 에 담습니다.\n",
    "for txt_file in txt_list:\n",
    "    with open(txt_file, \"r\") as f:\n",
    "        raw = f.read().splitlines()  # 행(줄) 단위로 담기\n",
    "        raw_corpus.extend(raw)\n",
    "\n",
    "print(\"데이터 크기:\", len(raw_corpus))\n",
    "print(\"Examples:\\n\", raw_corpus[:3])"
   ]
  },
  {
   "cell_type": "markdown",
   "id": "226489d2",
   "metadata": {},
   "source": [
    "### Step 3. 데이터 정제하기\n",
    "<!-- \n",
    "# 입력된 문장을\n",
    "#     1. 소문자로 바꾸고, 양쪽 공백을 지웁니다\n",
    "#     2. 특수문자 양쪽에 공백을 넣고\n",
    "#     3. 여러개의 공백은 하나의 공백으로 바꿉니다\n",
    "#     4. a-zA-Z?.!,¿가 아닌 모든 문자를 하나의 공백으로 바꿉니다\n",
    "#     5. 다시 양쪽 공백을 지웁니다\n",
    "#     6. 문장 시작에는 <start>, 끝에는 <end>를 추가합니다\n",
    "# 이 순서로 처리해주면 문제가 되는 상황을 방지할 수 있겠네요! -->"
   ]
  },
  {
   "cell_type": "markdown",
   "id": "98b37ac7",
   "metadata": {},
   "source": [
    "토큰화하기: 정규표현식(Regex)을 이용 `import re`\n",
    "1. 문장 부호 양쪽에 공백을 추가 \n",
    "2.모든 문자들을 소문자로 변환  \n",
    "3.특수문자들은 모두 제거 "
   ]
  },
  {
   "cell_type": "code",
   "execution_count": 4,
   "id": "03f0609d",
   "metadata": {},
   "outputs": [
    {
     "name": "stdout",
     "output_type": "stream",
     "text": [
      "<start> this is sample sentence . <end>\n"
     ]
    }
   ],
   "source": [
    "def preprocess_sentence(sentence):\n",
    "    sentence = sentence.lower().strip() # 1\n",
    "    sentence = re.sub(r\"([?.!,¿])\", r\" \\1 \", sentence) # 2\n",
    "    sentence = re.sub(r'[\" \"]+', \" \", sentence) # 3\n",
    "    sentence = re.sub(r\"[^a-zA-Z?.!,¿]+\", \" \", sentence) # 4\n",
    "    sentence = sentence.strip() # 5\n",
    "    sentence = '<start> ' + sentence + ' <end>' # \n",
    "    return sentence\n",
    "\n",
    "# 이 문장이 어떻게 필터링되는지 확인해 보세요.\n",
    "print(preprocess_sentence(\"This @_is ;;;sample        sentence.\"))"
   ]
  },
  {
   "cell_type": "markdown",
   "id": "4d2a5b5b",
   "metadata": {},
   "source": [
    "문장을 토큰화 했을 때 토큰의 개수가 15개를 넘어가는 문장을 학습 데이터에서 제외하기"
   ]
  },
  {
   "cell_type": "code",
   "execution_count": 5,
   "id": "36a2b7b3",
   "metadata": {},
   "outputs": [
    {
     "data": {
      "text/plain": [
       "['<start> now i ve heard there was a secret chord <end>',\n",
       " '<start> that david played , and it pleased the lord <end>',\n",
       " '<start> but you don t really care for music , do you ? <end>',\n",
       " '<start> it goes like this <end>',\n",
       " '<start> the fourth , the fifth <end>',\n",
       " '<start> the minor fall , the major lift <end>',\n",
       " '<start> the baffled king composing hallelujah hallelujah <end>',\n",
       " '<start> hallelujah <end>',\n",
       " '<start> hallelujah <end>',\n",
       " '<start> hallelujah your faith was strong but you needed proof <end>']"
      ]
     },
     "execution_count": 5,
     "metadata": {},
     "output_type": "execute_result"
    }
   ],
   "source": [
    "# 여기에 정제된 문장을 모을겁니다\n",
    "corpus = []\n",
    "\n",
    "for sentence in raw_corpus:\n",
    "    # 우리가 원하지 않는 문장은 건너뜁니다\n",
    "    if len(sentence) == 0: continue\n",
    "    if sentence[-1] == \":\": continue  # 문장의 끝이 : 인 문장은 건너뜁니다.\n",
    "    \n",
    "    # 정제를 하고 담아주세요\n",
    "    preprocessed_sentence = preprocess_sentence(sentence)\n",
    "    \n",
    "    # 토큰의 개수가 15개를 넘어가는 문장은 제외합니다.\n",
    "    if len(preprocessed_sentence.split()) > 15: continue\n",
    "    corpus.append(preprocessed_sentence)\n",
    "    \n",
    "        \n",
    "# 정제된 결과를 10개만 확인해보죠\n",
    "corpus[:10]"
   ]
  },
  {
   "cell_type": "markdown",
   "id": "274b3c3d",
   "metadata": {},
   "source": [
    "벡터화(vectorize)하기\n",
    "- tf.keras.preprocessing.text.Tokenizer 패키지는 정제된 데이터를 토큰화하고, 데이터를 숫자로 변환. \n",
    "- 숫자로 변환된 데이터: 텐서(tensor)\n",
    "\n",
    "####  단어장의 크기는 12,000 이상 으로 설정\n",
    "#### 문장 길이 15로 제한: maxlen 사용"
   ]
  },
  {
   "cell_type": "code",
   "execution_count": 6,
   "id": "c1bcd5a0",
   "metadata": {},
   "outputs": [
    {
     "name": "stdout",
     "output_type": "stream",
     "text": [
      "[[   2   50    4 ...    0    0    0]\n",
      " [   2   15 2967 ...    0    0    0]\n",
      " [   2   33    7 ...   46    3    0]\n",
      " ...\n",
      " [   2    4  118 ...    0    0    0]\n",
      " [   2  258  194 ...   12    3    0]\n",
      " [   2    7   34 ...    0    0    0]] <keras_preprocessing.text.Tokenizer object at 0x7f22e52c6fd0>\n"
     ]
    }
   ],
   "source": [
    "# 토큰화 할 때 텐서플로우의 Tokenizer와 pad_sequences를 사용합니다\n",
    "# 더 잘 알기 위해 아래 문서들을 참고하면 좋습니다\n",
    "# https://www.tensorflow.org/api_docs/python/tf/keras/preprocessing/text/Tokenizer\n",
    "# https://www.tensorflow.org/api_docs/python/tf/keras/preprocessing/sequence/pad_sequences\n",
    "def tokenize(corpus):\n",
    "    # 12000단어를 기억할 수 있는 tokenizer(단어장)를 만들겁니다\n",
    "    # 우리는 이미 문장을 정제했으니 filters가 필요없어요\n",
    "    # 12000단어에 포함되지 못한 단어는 '<unk>'로 바꿀거에요\n",
    "    tokenizer = tf.keras.preprocessing.text.Tokenizer(\n",
    "        num_words=12000,  \n",
    "        filters=' ',\n",
    "        oov_token=\"<unk>\"\n",
    "    )\n",
    "    # corpus를 이용해 tokenizer 내부의 단어장을 완성합니다 - 문자 데이터 입력 받아 리스트 형태로 반환\n",
    "    tokenizer.fit_on_texts(corpus)\n",
    "    \n",
    "    # 준비한 tokenizer를 이용해 corpus를 Tensor(시퀀스)로 변환합니다\n",
    "    tensor = tokenizer.texts_to_sequences(corpus)   \n",
    "    \n",
    "    # 입력 데이터의 시퀀스 길이를 일정하게 맞춰줍니다\n",
    "    # 만약 시퀀스가 짧다면 문장 뒤에 패딩을 붙여 길이를 맞춰줍니다.\n",
    "    # 문장 앞에 패딩을 붙여 길이를 맞추고 싶다면 padding='pre'를 사용합니다\n",
    "    tensor = tf.keras.preprocessing.sequence.pad_sequences(tensor, padding='post', maxlen=15) # maxlen 사용하여 문장길이 제한 \n",
    "    \n",
    "    print(tensor,tokenizer)\n",
    "    return tensor, tokenizer\n",
    "\n",
    "tensor, tokenizer = tokenize(corpus)"
   ]
  },
  {
   "cell_type": "markdown",
   "id": "b5783ed0",
   "metadata": {},
   "source": [
    "표준정규분포에서 95% 확률 이내로 포함하게 하는 식 사용: mean + 2*std\n",
    "- 원하는 문장 길이가 나오지 않아 사용하지 않기로 함...pass"
   ]
  },
  {
   "cell_type": "code",
   "execution_count": 7,
   "id": "7d4d0847",
   "metadata": {},
   "outputs": [],
   "source": [
    "# # 토큰화 할 때 텐서플로우의 Tokenizer와 pad_sequences를 사용합니다\n",
    "# # 더 잘 알기 위해 아래 문서들을 참고하면 좋습니다\n",
    "# # https://www.tensorflow.org/api_docs/python/tf/keras/preprocessing/text/Tokenizer\n",
    "# # https://www.tensorflow.org/api_docs/python/tf/keras/preprocessing/sequence/pad_sequences\n",
    "# def tokenize(corpus):\n",
    "#     # 12000단어를 기억할 수 있는 tokenizer(단어장)를 만들겁니다\n",
    "#     # 우리는 이미 문장을 정제했으니 filters가 필요없어요\n",
    "#     # 12000단어에 포함되지 못한 단어는 '<unk>'로 바꿀거에요\n",
    "#     tokenizer = tf.keras.preprocessing.text.Tokenizer(\n",
    "#         num_words=12000,  \n",
    "#         filters=' ',\n",
    "#         oov_token=\"<unk>\"\n",
    "#     )\n",
    "#     # corpus를 이용해 tokenizer 내부의 단어장을 완성합니다 - 문자 데이터 입력 받아 리스트 형태로 반환\n",
    "#     tokenizer.fit_on_texts(corpus)\n",
    "    \n",
    "#     # 준비한 tokenizer를 이용해 corpus를 Tensor(시퀀스)로 변환합니다\n",
    "#     tensor = tokenizer.texts_to_sequences(corpus)   \n",
    "    \n",
    "#     # 입력 데이터의 시퀀스 길이를 일정하게 맞춰줍니다\n",
    "#     # 만약 시퀀스가 짧다면 문장 뒤에 패딩을 붙여 길이를 맞춰줍니다.\n",
    "#     # 문장 앞에 패딩을 붙여 길이를 맞추고 싶다면 padding='pre'를 사용합니다\n",
    "#     tensor = tokenizer.texts_to_sequences(corpus)   # tokenizer는 구축한 사전으로부터 corpus를 해석해 Tensor로 변환합니다.\n",
    "\n",
    "#     total_data_text = list(tensor)\n",
    "#     num_tokens = [len(tokens) for tokens in total_data_text]\n",
    "#     max_tokens = np.mean(num_tokens) + 2 * np.std(num_tokens)\n",
    "#     maxlen = int(max_tokens)\n",
    "#     # 입력 데이터의 시퀀스 길이를 일정하게 맞추기 위한 padding  메소드를 제공합니다.\n",
    "#     # maxlen의 디폴트값은 None입니다. 이 경우 corpus의 가장 긴 문장을 기준으로 시퀀스 길이가 맞춰집니다.\n",
    "#     tensor = tf.keras.preprocessing.sequence.pad_sequences(tensor, padding='post', maxlen=maxlen) # maxlen 사용하여 문장길이 제한 \n",
    "    \n",
    "#     print(tensor,tokenizer)\n",
    "#     return tensor, tokenizer\n",
    "\n",
    "# tensor, tokenizer = tokenize(corpus)"
   ]
  },
  {
   "cell_type": "code",
   "execution_count": 7,
   "id": "8e5997d0",
   "metadata": {
    "scrolled": true
   },
   "outputs": [
    {
     "name": "stdout",
     "output_type": "stream",
     "text": [
      "Now I've heard there was a secret chord\n",
      "That David played, and it pleased the Lord\n",
      "But you don't really care for music, do you?\n",
      "It goes like this\n",
      "The fourth, the fifth\n",
      "The minor fall, the major lift\n",
      "The baffled king composing Hallelujah Hallelujah\n",
      "Hallelujah\n",
      "Hallelujah\n",
      "Hallelujah Your faith was strong but you needed proof\n"
     ]
    }
   ],
   "source": [
    "for idx, sentence in enumerate(raw_corpus):\n",
    "    if len(sentence) == 0: continue   # 길이가 0인 문장은 건너뜁니다.\n",
    "    if sentence[-1] == \":\": continue  # 문장의 끝이 : 인 문장은 건너뜁니다.\n",
    "\n",
    "    if idx > 9: break   # 일단 문장 10개만 확인해 볼 겁니다.\n",
    "        \n",
    "    print(sentence)"
   ]
  },
  {
   "cell_type": "markdown",
   "id": "d3224a60",
   "metadata": {},
   "source": [
    "생성된 텐서 데이터 5행까지 출력해보기 "
   ]
  },
  {
   "cell_type": "code",
   "execution_count": 8,
   "id": "75bfc66c",
   "metadata": {
    "scrolled": false
   },
   "outputs": [
    {
     "name": "stdout",
     "output_type": "stream",
     "text": [
      "[[   2   50    4   95  303   62   53    9  946 6263    3    0    0    0\n",
      "     0]\n",
      " [   2   15 2967  871    5    8   11 5739    6  374    3    0    0    0\n",
      "     0]\n",
      " [   2   33    7   40   16  164  288   28  333    5   48    7   46    3\n",
      "     0]\n",
      " [   2   11  335   23   41    3    0    0    0    0    0    0    0    0\n",
      "     0]\n",
      " [   2    6 4486    5    6 2039    3    0    0    0    0    0    0    0\n",
      "     0]]\n"
     ]
    }
   ],
   "source": [
    "# tokenizer에 구축된 단어 사전의 인덱스 출력\n",
    "print(tensor[:5, :]) "
   ]
  },
  {
   "cell_type": "markdown",
   "id": "cc32d80c",
   "metadata": {},
   "source": [
    "정제된 후 텐서, 문장 크기 출력해보기"
   ]
  },
  {
   "cell_type": "code",
   "execution_count": 9,
   "id": "1d787f92",
   "metadata": {},
   "outputs": [
    {
     "name": "stdout",
     "output_type": "stream",
     "text": [
      "156013 156013\n"
     ]
    }
   ],
   "source": [
    "print(len(tensor), len(corpus))"
   ]
  },
  {
   "cell_type": "markdown",
   "id": "28c22190",
   "metadata": {},
   "source": [
    "단어 사전이 어떻게 구축되었는지 확인해보기"
   ]
  },
  {
   "cell_type": "code",
   "execution_count": 10,
   "id": "6efa4969",
   "metadata": {
    "scrolled": true
   },
   "outputs": [
    {
     "name": "stdout",
     "output_type": "stream",
     "text": [
      "1 : <unk>\n",
      "2 : <start>\n",
      "3 : <end>\n",
      "4 : i\n",
      "5 : ,\n",
      "6 : the\n",
      "7 : you\n",
      "8 : and\n",
      "9 : a\n",
      "10 : to\n"
     ]
    }
   ],
   "source": [
    "for idx in tokenizer.index_word:\n",
    "    print(idx, \":\", tokenizer.index_word[idx])\n",
    "\n",
    "    if idx >= 10: break"
   ]
  },
  {
   "cell_type": "markdown",
   "id": "1a050e1d",
   "metadata": {},
   "source": [
    " 생성된 텐서를 소스와 타겟으로 분리하기"
   ]
  },
  {
   "cell_type": "code",
   "execution_count": 11,
   "id": "ed08c029",
   "metadata": {
    "scrolled": true
   },
   "outputs": [
    {
     "name": "stdout",
     "output_type": "stream",
     "text": [
      "[   2   50    4   95  303   62   53    9  946 6263    3    0    0    0]\n",
      "[  50    4   95  303   62   53    9  946 6263    3    0    0    0    0]\n"
     ]
    }
   ],
   "source": [
    "# tensor에서 마지막 토큰을 잘라내서 소스 문장을 생성합니다\n",
    "# 마지막 토큰은 <end>가 아니라 <pad>일 가능성이 높습니다.\n",
    "src_input = tensor[:, :-1]  \n",
    "# tensor에서 <start>를 잘라내서 타겟 문장을 생성합니다.\n",
    "tgt_input = tensor[:, 1:]    \n",
    "\n",
    "print(src_input[0])\n",
    "print(tgt_input[0])"
   ]
  },
  {
   "cell_type": "markdown",
   "id": "e1cc7fd8",
   "metadata": {},
   "source": [
    "### Step 4. 평가 데이터셋 분리\n",
    "- 총 데이터의 20% 를 평가 데이터셋으로 사용"
   ]
  },
  {
   "cell_type": "code",
   "execution_count": 12,
   "id": "d207e9a0",
   "metadata": {},
   "outputs": [],
   "source": [
    "from sklearn.model_selection import train_test_split"
   ]
  },
  {
   "cell_type": "code",
   "execution_count": 13,
   "id": "43abe305",
   "metadata": {},
   "outputs": [],
   "source": [
    "enc_train, enc_val, dec_train, dec_val = train_test_split(src_input, \n",
    "                                                    tgt_input, \n",
    "                                                    test_size=0.2, \n",
    "                                                    random_state=42)"
   ]
  },
  {
   "cell_type": "code",
   "execution_count": 14,
   "id": "3c2d36b4",
   "metadata": {},
   "outputs": [
    {
     "name": "stdout",
     "output_type": "stream",
     "text": [
      "Source Train: (124810, 14)\n",
      "Target Train: (124810, 14)\n"
     ]
    }
   ],
   "source": [
    "print(\"Source Train:\", enc_train.shape)\n",
    "print(\"Target Train:\", dec_train.shape)"
   ]
  },
  {
   "cell_type": "markdown",
   "id": "4de1d5ff",
   "metadata": {},
   "source": [
    "텐서로 생성된 데이터를 이용해 tf.data.Dataset 객체 생성하기\n",
    "- shuffle(), batch() 등 다양한 데이터셋 관련 기능 포함"
   ]
  },
  {
   "cell_type": "code",
   "execution_count": 15,
   "id": "efad3b73",
   "metadata": {},
   "outputs": [
    {
     "name": "stdout",
     "output_type": "stream",
     "text": [
      "<BatchDataset shapes: ((256, 14), (256, 14)), types: (tf.int32, tf.int32)>\n",
      "<BatchDataset shapes: ((256, 14), (256, 14)), types: (tf.int32, tf.int32)>\n"
     ]
    }
   ],
   "source": [
    "BUFFER_SIZE = len(enc_train)\n",
    "BATCH_SIZE = 256\n",
    "steps_per_epoch = len(enc_train) // BATCH_SIZE\n",
    "\n",
    " # tokenizer가 구축한 단어사전 내 12000개와, 여기 포함되지 않은 0:<pad>를 포함하여 12001개\n",
    "LYRIC_SIZE = tokenizer.num_words + 1   \n",
    "\n",
    "# 준비한 데이터 소스로부터 데이터셋을 만듭니다\n",
    "# 데이터셋에 대해서는 아래 문서를 참고하세요\n",
    "# 자세히 알아둘수록 도움이 많이 되는 중요한 문서입니다\n",
    "# https://www.tensorflow.org/api_docs/python/tf/data/Dataset\n",
    "\n",
    "# train 데이터셋 만들기 --> 자세히 알수록 중요함\n",
    "train_dataset = tf.data.Dataset.from_tensor_slices((enc_train, dec_train))\n",
    "train_dataset = train_dataset.shuffle(BUFFER_SIZE)\n",
    "train_dataset = train_dataset.batch(BATCH_SIZE, drop_remainder=True)\n",
    "print(train_dataset)\n",
    "\n",
    "# test 데이터셋 만들기\n",
    "test_dataset = tf.data.Dataset.from_tensor_slices((enc_val, dec_val))\n",
    "test_dataset = test_dataset.shuffle(BUFFER_SIZE)\n",
    "test_dataset = test_dataset.batch(BATCH_SIZE, drop_remainder=True)\n",
    "print(test_dataset)"
   ]
  },
  {
   "cell_type": "markdown",
   "id": "d1fe6b5a",
   "metadata": {},
   "source": [
    "### Step 5. 인공지능 만들기\n",
    "\n",
    "- 모델의 Embedding Size와 Hidden Size를 조절하며 10 Epoch 안에 val_loss 값을 2.2 수준으로 줄일 수 있는 모델을 설계하세요! (Loss는 아래 제시된 Loss 함수를 그대로 사용!)"
   ]
  },
  {
   "cell_type": "markdown",
   "id": "9636d5d4",
   "metadata": {},
   "source": [
    "model에 데이터를 아주 조금 태워 보기"
   ]
  },
  {
   "cell_type": "code",
   "execution_count": 20,
   "id": "1fd1a6a5",
   "metadata": {},
   "outputs": [],
   "source": [
    "class TextGenerator(tf.keras.Model):\n",
    "    def __init__(self, vocab_size, embedding_size, hidden_size):\n",
    "        super().__init__()\n",
    "        \n",
    "        self.embedding = tf.keras.layers.Embedding(vocab_size, embedding_size)\n",
    "        self.rnn_1 = tf.keras.layers.LSTM(hidden_size, return_sequences=True)\n",
    "        self.rnn_2 = tf.keras.layers.LSTM(hidden_size, return_sequences=True)\n",
    "        self.linear = tf.keras.layers.Dense(vocab_size)\n",
    "        \n",
    "    def call(self, x):\n",
    "        out = self.embedding(x)\n",
    "        out = self.rnn_1(out)\n",
    "        out = self.rnn_2(out)\n",
    "        out = self.linear(out)\n",
    "        \n",
    "        return out\n",
    "    \n",
    "embedding_size = 1024  # 값이 커질수록 단어의 추상적인 특징들을 더 잡아낼 수 있지만, 데이터 양이 충분해야함\n",
    "hidden_size = 2048   # 모델에 얼마나 많은 일꾼을 둘 것인가, 충분한 데이터가 주어져야 배가 산으로 가지 않음\n",
    "lyricist = TextGenerator(tokenizer.num_words + 1, embedding_size , hidden_size)"
   ]
  },
  {
   "cell_type": "code",
   "execution_count": 21,
   "id": "510c128c",
   "metadata": {
    "scrolled": true
   },
   "outputs": [
    {
     "data": {
      "text/plain": [
       "<tf.Tensor: shape=(256, 14, 12001), dtype=float32, numpy=\n",
       "array([[[ 5.01896939e-05,  3.29882430e-04, -5.51342819e-05, ...,\n",
       "          6.67699089e-04,  2.40379144e-04,  3.65873857e-04],\n",
       "        [ 2.08770871e-05,  5.62457659e-04,  2.93285611e-05, ...,\n",
       "          1.11232232e-03,  2.79974745e-04,  9.37446079e-04],\n",
       "        [-1.05041559e-04,  7.88373174e-04, -6.80911980e-05, ...,\n",
       "          1.29787659e-03,  3.00088104e-05,  1.20658195e-03],\n",
       "        ...,\n",
       "        [ 2.53458600e-03,  3.29848239e-03, -9.48704197e-04, ...,\n",
       "          8.36240302e-04, -3.36623378e-03,  1.54756824e-03],\n",
       "        [ 3.27609177e-03,  3.70352971e-03, -1.22581411e-03, ...,\n",
       "          3.96622519e-04, -4.16732393e-03,  1.42839004e-03],\n",
       "        [ 4.00099205e-03,  4.07682732e-03, -1.47672335e-03, ...,\n",
       "         -3.24660869e-05, -4.85852314e-03,  1.36008870e-03]],\n",
       "\n",
       "       [[ 5.01896939e-05,  3.29882430e-04, -5.51342819e-05, ...,\n",
       "          6.67699089e-04,  2.40379144e-04,  3.65873857e-04],\n",
       "        [ 7.79621405e-05,  7.59693212e-04,  1.74541739e-04, ...,\n",
       "          2.37619897e-04, -2.33982180e-04,  1.08590315e-03],\n",
       "        [ 4.37098701e-04,  1.28803356e-03,  1.86878620e-04, ...,\n",
       "         -3.29984003e-04, -4.75399866e-04,  8.90052528e-04],\n",
       "        ...,\n",
       "        [ 1.06240052e-03, -1.99995466e-05, -1.51136750e-03, ...,\n",
       "         -1.88680424e-04, -1.51581643e-03, -1.01899117e-04],\n",
       "        [ 8.84710287e-04, -1.32503905e-04, -1.30064215e-03, ...,\n",
       "          1.20579745e-04, -1.64924504e-03, -2.20063725e-04],\n",
       "        [ 8.58346524e-04, -2.08511119e-06, -8.86093825e-04, ...,\n",
       "          3.39210615e-04, -1.19308091e-03,  7.02141988e-05]],\n",
       "\n",
       "       [[ 5.01896939e-05,  3.29882430e-04, -5.51342819e-05, ...,\n",
       "          6.67699089e-04,  2.40379144e-04,  3.65873857e-04],\n",
       "        [ 1.28509884e-04,  6.34487369e-04,  7.04631850e-04, ...,\n",
       "          1.19618315e-03,  3.22828331e-04,  4.39279247e-04],\n",
       "        [-1.38705189e-04,  7.96926033e-04,  1.03273662e-03, ...,\n",
       "          1.41351076e-03,  4.57363902e-04,  7.02002260e-04],\n",
       "        ...,\n",
       "        [ 4.65179281e-03,  4.49285191e-03, -1.18578086e-03, ...,\n",
       "         -1.14625867e-03, -4.72937152e-03,  2.83568254e-04],\n",
       "        [ 5.33823203e-03,  4.82133077e-03, -1.39650877e-03, ...,\n",
       "         -1.41569821e-03, -5.50289918e-03,  2.82727735e-04],\n",
       "        [ 5.99681912e-03,  5.09522390e-03, -1.59026252e-03, ...,\n",
       "         -1.66536181e-03, -6.11010706e-03,  3.59509926e-04]],\n",
       "\n",
       "       ...,\n",
       "\n",
       "       [[ 5.01896939e-05,  3.29882430e-04, -5.51342819e-05, ...,\n",
       "          6.67699089e-04,  2.40379144e-04,  3.65873857e-04],\n",
       "        [ 2.08770871e-05,  5.62457659e-04,  2.93285611e-05, ...,\n",
       "          1.11232232e-03,  2.79974745e-04,  9.37446079e-04],\n",
       "        [-1.92115131e-05,  4.31897613e-04, -9.29842136e-05, ...,\n",
       "          1.57047308e-03,  3.76920332e-04,  9.44653293e-04],\n",
       "        ...,\n",
       "        [ 1.89603900e-03,  1.01075182e-03, -1.20588252e-03, ...,\n",
       "          1.88207324e-03, -3.11737228e-03,  1.71884848e-03],\n",
       "        [ 2.58587231e-03,  1.60168321e-03, -1.02705846e-03, ...,\n",
       "          1.50549482e-03, -3.94766638e-03,  1.46799232e-03],\n",
       "        [ 3.27006937e-03,  2.21998827e-03, -9.19585582e-04, ...,\n",
       "          1.08443771e-03, -4.75266855e-03,  1.22207438e-03]],\n",
       "\n",
       "       [[ 5.01896939e-05,  3.29882430e-04, -5.51342819e-05, ...,\n",
       "          6.67699089e-04,  2.40379144e-04,  3.65873857e-04],\n",
       "        [ 3.62967519e-04,  3.48938280e-04, -4.33653651e-04, ...,\n",
       "          8.42493202e-04,  3.61405953e-04, -7.24754573e-05],\n",
       "        [ 9.01530875e-05,  2.20982722e-04, -9.21920640e-04, ...,\n",
       "          8.47430550e-04,  2.53741251e-04, -6.13586803e-04],\n",
       "        ...,\n",
       "        [ 2.20169360e-03, -8.93721066e-04, -3.88346351e-04, ...,\n",
       "         -2.61664391e-04, -8.18470435e-04, -6.14491582e-04],\n",
       "        [ 2.59609707e-03, -4.46175545e-04, -4.76777961e-04, ...,\n",
       "         -6.49097317e-04, -1.81750348e-03, -6.43870910e-04],\n",
       "        [ 3.02991131e-03,  1.67768507e-04, -5.74616948e-04, ...,\n",
       "         -9.84212500e-04, -2.89725605e-03, -6.91327150e-04]],\n",
       "\n",
       "       [[ 5.01896939e-05,  3.29882430e-04, -5.51342819e-05, ...,\n",
       "          6.67699089e-04,  2.40379144e-04,  3.65873857e-04],\n",
       "        [ 1.78012022e-04,  2.25918775e-04, -3.48892470e-04, ...,\n",
       "          6.23590371e-04,  7.83102703e-04,  2.04432974e-04],\n",
       "        [ 2.43221366e-04, -1.08050037e-04, -7.72781787e-04, ...,\n",
       "          2.14364409e-04,  1.42240548e-03, -1.96507957e-04],\n",
       "        ...,\n",
       "        [-1.94743823e-03, -2.57116812e-03, -2.78602680e-03, ...,\n",
       "         -3.08800052e-04,  3.27559980e-03, -8.80069041e-04],\n",
       "        [-1.47651008e-03, -1.89441652e-03, -2.43691495e-03, ...,\n",
       "         -2.63444726e-05,  2.44365470e-03, -6.57055760e-04],\n",
       "        [-7.94526190e-04, -1.13029103e-03, -2.19519343e-03, ...,\n",
       "          5.62434361e-05,  1.19469617e-03, -5.95004472e-04]]],\n",
       "      dtype=float32)>"
      ]
     },
     "execution_count": 21,
     "metadata": {},
     "output_type": "execute_result"
    }
   ],
   "source": [
    "# 데이터셋에서 데이터 한 배치만 불러오는 방법입니다.\n",
    "# 지금은 동작 원리에 너무 빠져들지 마세요~\n",
    "for src_sample, tgt_sample in train_dataset.take(1): break\n",
    "\n",
    "# 한 배치만 불러온 데이터를 모델에 넣어봅니다\n",
    "lyricist(src_sample)"
   ]
  },
  {
   "cell_type": "markdown",
   "id": "c5f12901",
   "metadata": {},
   "source": [
    "- 모델의 파라미터 사이즈 측정 --> 대략 29million\n",
    "- 입력 시퀀스의 길이를 모르기 때문에 Output Shape를 특정할 수 없"
   ]
  },
  {
   "cell_type": "code",
   "execution_count": 22,
   "id": "03b640d8",
   "metadata": {},
   "outputs": [
    {
     "name": "stdout",
     "output_type": "stream",
     "text": [
      "Model: \"text_generator_1\"\n",
      "_________________________________________________________________\n",
      "Layer (type)                 Output Shape              Param #   \n",
      "=================================================================\n",
      "embedding_1 (Embedding)      multiple                  12289024  \n",
      "_________________________________________________________________\n",
      "lstm_2 (LSTM)                multiple                  25174016  \n",
      "_________________________________________________________________\n",
      "lstm_3 (LSTM)                multiple                  33562624  \n",
      "_________________________________________________________________\n",
      "dense_1 (Dense)              multiple                  24590049  \n",
      "=================================================================\n",
      "Total params: 95,615,713\n",
      "Trainable params: 95,615,713\n",
      "Non-trainable params: 0\n",
      "_________________________________________________________________\n"
     ]
    }
   ],
   "source": [
    "lyricist.summary()"
   ]
  },
  {
   "cell_type": "code",
   "execution_count": 23,
   "id": "b13d8d02",
   "metadata": {},
   "outputs": [
    {
     "name": "stdout",
     "output_type": "stream",
     "text": [
      "Epoch 1/10\n",
      "487/487 [==============================] - 277s 564ms/step - loss: 3.2157 - accuracy: 0.5077 - val_loss: 2.8535 - val_accuracy: 0.5328\n",
      "Epoch 2/10\n",
      "487/487 [==============================] - 275s 565ms/step - loss: 2.6651 - accuracy: 0.5489 - val_loss: 2.5948 - val_accuracy: 0.5573\n",
      "Epoch 3/10\n",
      "487/487 [==============================] - 276s 566ms/step - loss: 2.3311 - accuracy: 0.5808 - val_loss: 2.4130 - val_accuracy: 0.5825\n",
      "Epoch 4/10\n",
      "487/487 [==============================] - 276s 567ms/step - loss: 2.0040 - accuracy: 0.6212 - val_loss: 2.2793 - val_accuracy: 0.6068\n",
      "Epoch 5/10\n",
      "487/487 [==============================] - 276s 567ms/step - loss: 1.7003 - accuracy: 0.6686 - val_loss: 2.1865 - val_accuracy: 0.6291\n",
      "Epoch 6/10\n",
      "487/487 [==============================] - 276s 567ms/step - loss: 1.4427 - accuracy: 0.7156 - val_loss: 2.1376 - val_accuracy: 0.6480\n",
      "Epoch 7/10\n",
      "487/487 [==============================] - 277s 568ms/step - loss: 1.2433 - accuracy: 0.7558 - val_loss: 2.1199 - val_accuracy: 0.6608\n",
      "Epoch 8/10\n",
      "487/487 [==============================] - 277s 568ms/step - loss: 1.1062 - accuracy: 0.7861 - val_loss: 2.1307 - val_accuracy: 0.6661\n",
      "Epoch 9/10\n",
      "487/487 [==============================] - 277s 568ms/step - loss: 1.0277 - accuracy: 0.8027 - val_loss: 2.1488 - val_accuracy: 0.6699\n",
      "Epoch 10/10\n",
      "487/487 [==============================] - 277s 568ms/step - loss: 0.9882 - accuracy: 0.8099 - val_loss: 2.1717 - val_accuracy: 0.6711\n"
     ]
    }
   ],
   "source": [
    "optimizer = tf.keras.optimizers.Adam()\n",
    "\n",
    "#Loss\n",
    "loss = tf.keras.losses.SparseCategoricalCrossentropy(\n",
    "    from_logits=True,\n",
    "    reduction='none'\n",
    ")\n",
    "\n",
    "lyricist.compile(loss=loss, optimizer=optimizer, metrics=['accuracy'])\n",
    "history = lyricist.fit(train_dataset, \n",
    "                       validation_data=test_dataset, \n",
    "                       epochs=10, \n",
    "                       verbose=1)"
   ]
  },
  {
   "cell_type": "markdown",
   "id": "0fe9d1df",
   "metadata": {},
   "source": [
    "loss와 accuracy 그래프로 그려보기"
   ]
  },
  {
   "cell_type": "code",
   "execution_count": 26,
   "id": "51b25aa7",
   "metadata": {},
   "outputs": [],
   "source": [
    "import matplotlib.pyplot as plt\n",
    "\n",
    "def plot_curve(epochs, hist, list_of_metrics):\n",
    "    \n",
    "    fig, ax = plt.subplots(1,2,figsize = (12, 8))\n",
    "    \n",
    "    for i in range(len(ax)):\n",
    "        ax[i].set_xlabel('Epochs')\n",
    "        ax[i].set_ylabel('Value')\n",
    "        \n",
    "        for n in range(len(list_of_metrics)):\n",
    "            if i == 0:\n",
    "                y = hist[list_of_metrics[n]]\n",
    "                if n == 0:\n",
    "                    ax[i].plot(epochs, y, label=\"train\")\n",
    "                else:\n",
    "                    ax[i].plot(epochs, y, label=\"val\")\n",
    "                ax[i].set_title('Loss')\n",
    "                ax[i].legend(loc='upper right')\n",
    "                if n == 1:\n",
    "                    break\n",
    "            else:\n",
    "                if n >= 2:\n",
    "                    y = hist[list_of_metrics[n]]\n",
    "                    if n == 2:\n",
    "                        ax[i].plot(epochs, y, label=\"train\")\n",
    "                    else:\n",
    "                        ax[i].plot(epochs, y, label=\"val\")\n",
    "                    ax[i].set_title('Accuracy')\n",
    "                    ax[i].legend(loc='lower right')\n",
    "                    \n",
    "    plt.show()"
   ]
  },
  {
   "cell_type": "code",
   "execution_count": 27,
   "id": "8f3b6e49",
   "metadata": {},
   "outputs": [
    {
     "data": {
      "image/png": "[encoded data removed]",
      "text/plain": [
       "<Figure size 864x576 with 2 Axes>"
      ]
     },
     "metadata": {
      "needs_background": "light"
     },
     "output_type": "display_data"
    }
   ],
   "source": [
    "plot_curve(history.epoch, history.history, ['loss', 'val_loss', 'accuracy', 'val_accuracy'])"
   ]
  },
  {
   "cell_type": "markdown",
   "id": "0a7fafa8",
   "metadata": {},
   "source": [
    "모델이 생성한 가사 한 줄 출력"
   ]
  },
  {
   "cell_type": "code",
   "execution_count": 28,
   "id": "1de33356",
   "metadata": {},
   "outputs": [],
   "source": [
    "def generate_text(lyricist, tokenizer, init_sentence=\"<start>\", max_len=20):\n",
    "    # 테스트를 위해서 입력받은 init_sentence도 텐서로 변환합니다\n",
    "    test_input = tokenizer.texts_to_sequences([init_sentence])\n",
    "    test_tensor = tf.convert_to_tensor(test_input, dtype=tf.int64)\n",
    "    end_token = tokenizer.word_index[\"<end>\"]\n",
    "\n",
    "    # 단어 하나씩 예측해 문장을 만듭니다\n",
    "    #    1. 입력받은 문장의 텐서를 입력합니다\n",
    "    #    2. 예측된 값 중 가장 높은 확률인 word index를 뽑아냅니다\n",
    "    #    3. 2에서 예측된 word index를 문장 뒤에 붙입니다\n",
    "    #    4. 모델이 <end>를 예측했거나, max_len에 도달했다면 문장 생성을 마칩니다\n",
    "    while True:\n",
    "        # 1\n",
    "        predict = lyricist(test_tensor) \n",
    "        # 2\n",
    "        predict_word = tf.argmax(tf.nn.softmax(predict, axis=-1), axis=-1)[:, -1] \n",
    "        # 3 \n",
    "        test_tensor = tf.concat([test_tensor, tf.expand_dims(predict_word, axis=0)], axis=-1)\n",
    "        # 4\n",
    "        if predict_word.numpy()[0] == end_token: break\n",
    "        if test_tensor.shape[1] >= max_len: break\n",
    "\n",
    "    generated = \"\"\n",
    "    # tokenizer를 이용해 word index를 단어로 하나씩 변환합니다 \n",
    "    for word_index in test_tensor[0].numpy():\n",
    "        generated += tokenizer.index_word[word_index] + \" \"\n",
    "\n",
    "    return generated"
   ]
  },
  {
   "cell_type": "code",
   "execution_count": 29,
   "id": "6c204fcd",
   "metadata": {
    "scrolled": true
   },
   "outputs": [
    {
     "data": {
      "text/plain": [
       "'<start> i love you , i m not gonna crack <end> '"
      ]
     },
     "execution_count": 29,
     "metadata": {},
     "output_type": "execute_result"
    }
   ],
   "source": [
    "generate_text(lyricist, tokenizer, init_sentence=\"<start> i love\", max_len=20)"
   ]
  },
  {
   "cell_type": "markdown",
   "id": "49fe559e",
   "metadata": {},
   "source": [
    "### 결과 Report"
   ]
  },
  {
   "cell_type": "markdown",
   "id": "d24ff3f1",
   "metadata": {},
   "source": [
    "- 생성된 문장: '<start> i love you , i m not gonna crack <end> '\n",
    "- 최종 val_loss: 2.1717 "
   ]
  },
  {
   "cell_type": "markdown",
   "id": "44183d62",
   "metadata": {},
   "source": [
    "## 회고"
   ]
  },
  {
   "cell_type": "markdown",
   "id": "1774f24b",
   "metadata": {},
   "source": [
    "- 이번 프로젝트는 만드는 내내 조금 재미있었습니다. 인간의 영역이라고만 생각했던 '창조'를 AI가 학습을 통해 어떻게든 해낸다는게 대견하기도 하고 뿌듯하네요. 그러나 여러 문제점들이 발생하기는 했습니다...  \n",
    "\n",
    "- 토큰화할 때 정규표현식(Regex)을 이용해야 했는데 사용하는 것에 익숙하지가 않아서 조금 어려웠습니다. 자연어처리를 깊이있게 연구하려면 공부가 더 필요할 것 같다는 생각입니다. \n",
    "\n",
    "- train data, test data를 분리했는데도 train_dataset, test_dataset을 만들어서 lyricist.fit(train_dataset, test_dataset, epochs=10)에 넣어서 모델을 학습시켜야 되는지 완전히 이해하지는 못한 것 같습니다... 아직 해결되지 않은 부분입니다. \n",
    "\n",
    "- 문장 길이를 15로 제한하는 것에 대해서 왜 if len(preprocessed_sentence.split()) > 15: continue:을 했는데 또 maxlen=15로 지정해야하는지 의문이 생겨 한참을 고민하고 찾아보다가 알아내는 과정에서 많이 배운 것 같습니다. 만약 앞에 있는 if문을 추가해주지 않으면 한 문장에 15개 단어가 넘는 것들이 걸러지는 것이 아니라 15개 단어에서 잘려서 나올 것이기 때문에 둘 다 필요하다는 것을 알게되었습니다. \n",
    "\n",
    "`total_data_text = list(tensor)\n",
    "num_tokens = [len(tokens) for tokens in total_data_text]\n",
    "max_tokens = np.mean(num_tokens) + 2 * np.std(num_tokens)\n",
    "maxlen = int(max_tokens)`\n",
    "- max_len을 이런식으로 표준정규분포에서 95% 확률 이내로 포함하게 하는 식(mean + 2*std)을 사용해서 지정해줄 수 있는데, 이렇게 통계학에서 배웠던 지식을 활용해 여러 방법들을 생각해보는건 재미있었습니다. \n",
    "\n",
    "- 갈길이 먼 것 같긴 하지만 .... 앞으로도 열심히 배우겠습니다 !!! 💘💘💘"
   ]
  },
  {
   "cell_type": "code",
   "execution_count": null,
   "id": "a2bef38e",
   "metadata": {},
   "outputs": [],
   "source": []
  },
  {
   "cell_type": "code",
   "execution_count": null,
   "id": "d5f7cbf6",
   "metadata": {},
   "outputs": [],
   "source": []
  }
 ],
 "metadata": {
  "kernelspec": {
   "display_name": "Python 3 (ipykernel)",
   "language": "python",
   "name": "python3"
  },
  "language_info": {
   "codemirror_mode": {
    "name": "ipython",
    "version": 3
   },
   "file_extension": ".py",
   "mimetype": "text/x-python",
   "name": "python",
   "nbconvert_exporter": "python",
   "pygments_lexer": "ipython3",
   "version": "3.9.7"
  }
 },
 "nbformat": 4,
 "nbformat_minor": 5
}
