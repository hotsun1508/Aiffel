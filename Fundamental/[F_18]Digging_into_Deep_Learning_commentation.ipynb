{
  "cells": [
    {
      "cell_type": "markdown",
      "id": "6a46a5c3",
      "metadata": {
        "id": "6a46a5c3"
      },
      "source": [
        "# FUNDAMENTAL 18. 딥러닝 들여다보기  🪐\n",
        "> 학습목표: 딥러닝 프레임워크를 사용하지 않고, Numpy만을 이용해 딥러닝 모델과 훈련 과정을 직접 구현해 본다.\n",
        "\n",
        "## 인공 신경망(Neural Network)이란❓\n",
        "우리 뇌 속의 신경망 구조에 착안해서 **퍼셉트론(Perceptron)**이라는 형태를 제안하며 이를 연결한 형태\n",
        "\n",
        "\n",
        "## 🔮 MNIST 이미지 분류기 모델\n",
        "- 숫자 이미지 데이터셋"
      ]
    },
    {
      "cell_type": "code",
      "execution_count": null,
      "id": "925290ab",
      "metadata": {
        "id": "925290ab"
      },
      "outputs": [],
      "source": [
        "# import lib\n",
        "import tensorflow as tf\n",
        "from tensorflow import keras\n",
        "import numpy as np\n",
        "import matplotlib.pyplot as plt"
      ]
    },
    {
      "cell_type": "code",
      "execution_count": null,
      "id": "7a89ef79",
      "metadata": {
        "id": "7a89ef79"
      },
      "outputs": [],
      "source": [
        "# MNIST 데이터를 로드. 다운로드하지 않았다면 다운로드까지 자동으로 진행됩니다. \n",
        "mnist = keras.datasets.mnist\n",
        "(x_train, y_train), (x_test, y_test) = mnist.load_data()"
      ]
    },
    {
      "cell_type": "markdown",
      "id": "6a054583",
      "metadata": {
        "id": "6a054583"
      },
      "source": [
        "### ✨ reshape() 함수\n",
        "https://yganalyst.github.io/data_handling/memo_5/"
      ]
    },
    {
      "cell_type": "code",
      "execution_count": null,
      "id": "f6b599b3",
      "metadata": {
        "id": "f6b599b3",
        "outputId": "e33e7445-d86a-49b8-a920-aa633921e7e8"
      },
      "outputs": [
        {
          "data": {
            "text/plain": [
              "array([[ 0,  1,  2,  3],\n",
              "       [ 4,  5,  6,  7],\n",
              "       [ 8,  9, 10, 11]])"
            ]
          },
          "execution_count": 10,
          "metadata": {},
          "output_type": "execute_result"
        }
      ],
      "source": [
        "x = np.arange(12)\n",
        "x.reshape(3,4)"
      ]
    },
    {
      "cell_type": "code",
      "execution_count": null,
      "id": "57908b41",
      "metadata": {
        "id": "57908b41",
        "outputId": "8d4a8e11-e9a8-42d4-90fe-59c2c3f8ea2e"
      },
      "outputs": [
        {
          "name": "stdout",
          "output_type": "stream",
          "text": [
            "[ 0  1  2  3  4  5  6  7  8  9 10 11]\n",
            "[[ 0]\n",
            " [ 1]\n",
            " [ 2]\n",
            " [ 3]\n",
            " [ 4]\n",
            " [ 5]\n",
            " [ 6]\n",
            " [ 7]\n",
            " [ 8]\n",
            " [ 9]\n",
            " [10]\n",
            " [11]]\n"
          ]
        },
        {
          "data": {
            "text/plain": [
              "array([[ 0,  1],\n",
              "       [ 2,  3],\n",
              "       [ 4,  5],\n",
              "       [ 6,  7],\n",
              "       [ 8,  9],\n",
              "       [10, 11]])"
            ]
          },
          "execution_count": 8,
          "metadata": {},
          "output_type": "execute_result"
        }
      ],
      "source": [
        "print(x.reshape(-1))  # 1차원 배열 반환\n",
        "print(x.reshape(-1, 1))  # 2차원 배열 반환\n",
        "x.reshape(-1, 2)"
      ]
    },
    {
      "cell_type": "markdown",
      "id": "5aec12eb",
      "metadata": {
        "id": "5aec12eb"
      },
      "source": [
        "### ❓❓❓모델에 맞는 사이즈 어떻게 알 수 있는지 -> 스케일링"
      ]
    },
    {
      "cell_type": "code",
      "execution_count": null,
      "id": "4c55c4a1",
      "metadata": {
        "id": "4c55c4a1"
      },
      "outputs": [],
      "source": [
        "# 모델에 맞게 데이터 가공\n",
        "x_train_norm, x_test_norm = x_train / 255.0, x_test / 255.0  # scaling -> 0~1 데이터 크기\n",
        "x_train_reshaped = x_train_norm.reshape(-1, x_train_norm.shape[1]*x_train_norm.shape[2])\n",
        "x_test_reshaped = x_test_norm.reshape(-1, x_test_norm.shape[1]*x_test_norm.shape[2])"
      ]
    },
    {
      "cell_type": "code",
      "execution_count": null,
      "id": "c2297940",
      "metadata": {
        "id": "c2297940",
        "outputId": "0e0d97f1-50f1-48e1-a6f1-fbde3763a91f"
      },
      "outputs": [
        {
          "data": {
            "text/plain": [
              "((60000, 28, 28), (10000, 28, 28))"
            ]
          },
          "execution_count": 12,
          "metadata": {},
          "output_type": "execute_result"
        }
      ],
      "source": [
        "x_train_norm.shape, x_test_norm.shape"
      ]
    },
    {
      "cell_type": "code",
      "execution_count": null,
      "id": "21d70274",
      "metadata": {
        "id": "21d70274",
        "outputId": "72b78679-7c22-404e-c0bd-86eda775dcbc"
      },
      "outputs": [
        {
          "data": {
            "text/plain": [
              "((60000, 784), (10000, 784))"
            ]
          },
          "execution_count": 13,
          "metadata": {},
          "output_type": "execute_result"
        }
      ],
      "source": [
        "x_train_reshaped.shape, x_test_reshaped.shape"
      ]
    },
    {
      "cell_type": "code",
      "execution_count": null,
      "id": "efc15b85",
      "metadata": {
        "id": "efc15b85",
        "outputId": "b6553050-3cf3-42a0-980b-48547fdc7f51"
      },
      "outputs": [
        {
          "name": "stdout",
          "output_type": "stream",
          "text": [
            "Model: \"sequential\"\n",
            "_________________________________________________________________\n",
            "Layer (type)                 Output Shape              Param #   \n",
            "=================================================================\n",
            "dense (Dense)                (None, 50)                39250     \n",
            "_________________________________________________________________\n",
            "dense_1 (Dense)              (None, 10)                510       \n",
            "=================================================================\n",
            "Total params: 39,760\n",
            "Trainable params: 39,760\n",
            "Non-trainable params: 0\n",
            "_________________________________________________________________\n"
          ]
        }
      ],
      "source": [
        "# 딥러닝 모델 구성 - 2 Layer Perceptron\n",
        "model = keras.models.Sequential()  # 다른 방법도 있지만, 순서대로 써주면 됨(편리해서)\n",
        "model.add(keras.layers.Dense(50, activation='sigmoid', input_shape=(784,)))  # 입력층 d=784, 은닉층 레이어 H=50\n",
        "model.add(keras.layers.Dense(10, activation='softmax'))   # 출력층 레이어 K=10\n",
        "model.summary()"
      ]
    },
    {
      "cell_type": "markdown",
      "id": "a41b97ce",
      "metadata": {
        "id": "a41b97ce"
      },
      "source": [
        "![image.png](attachment:image.png)"
      ]
    },
    {
      "cell_type": "code",
      "execution_count": null,
      "id": "8179d172",
      "metadata": {
        "id": "8179d172",
        "outputId": "e2682c8b-85ce-4c76-d1c6-ac320368aec6"
      },
      "outputs": [
        {
          "name": "stdout",
          "output_type": "stream",
          "text": [
            "Epoch 1/10\n",
            "1875/1875 [==============================] - 4s 1ms/step - loss: 0.5024 - accuracy: 0.8792\n",
            "Epoch 2/10\n",
            "1875/1875 [==============================] - 3s 1ms/step - loss: 0.2324 - accuracy: 0.9343\n",
            "Epoch 3/10\n",
            "1875/1875 [==============================] - 3s 1ms/step - loss: 0.1810 - accuracy: 0.9484\n",
            "Epoch 4/10\n",
            "1875/1875 [==============================] - 3s 1ms/step - loss: 0.1495 - accuracy: 0.9576\n",
            "Epoch 5/10\n",
            "1875/1875 [==============================] - 3s 1ms/step - loss: 0.1277 - accuracy: 0.9637\n",
            "Epoch 6/10\n",
            "1875/1875 [==============================] - 3s 2ms/step - loss: 0.1121 - accuracy: 0.9684\n",
            "Epoch 7/10\n",
            "1875/1875 [==============================] - 3s 1ms/step - loss: 0.0992 - accuracy: 0.9716\n",
            "Epoch 8/10\n",
            "1875/1875 [==============================] - 3s 1ms/step - loss: 0.0894 - accuracy: 0.9744\n",
            "Epoch 9/10\n",
            "1875/1875 [==============================] - 3s 1ms/step - loss: 0.0805 - accuracy: 0.9766\n",
            "Epoch 10/10\n",
            "1875/1875 [==============================] - 3s 1ms/step - loss: 0.0736 - accuracy: 0.9794\n"
          ]
        },
        {
          "data": {
            "text/plain": [
              "<keras.callbacks.History at 0x7f651ce3e0d0>"
            ]
          },
          "execution_count": 15,
          "metadata": {},
          "output_type": "execute_result"
        }
      ],
      "source": [
        "# 모델 구성과 학습\n",
        "model.compile(optimizer='adam',\n",
        "             loss='sparse_categorical_crossentropy',\n",
        "             metrics=['accuracy'])\n",
        "model.fit(x_train_reshaped, y_train, epochs=10)"
      ]
    },
    {
      "cell_type": "markdown",
      "id": "2ab4c80f",
      "metadata": {
        "id": "2ab4c80f"
      },
      "source": [
        "https://www.tensorflow.org/api_docs/python/tf/keras/Model\n",
        "![image.png](attachment:image.png)\n",
        "![image-2.png](attachment:image-2.png)"
      ]
    },
    {
      "cell_type": "code",
      "execution_count": null,
      "id": "17c3381a",
      "metadata": {
        "id": "17c3381a",
        "outputId": "d505a208-87e4-4fe8-e01a-1b4ec4638ddc"
      },
      "outputs": [
        {
          "name": "stdout",
          "output_type": "stream",
          "text": [
            "313/313 - 0s - loss: 0.1041 - accuracy: 0.9699\n",
            "test_loss: 0.10405939072370529 \n",
            "test_accuracy: 0.9699000120162964\n"
          ]
        }
      ],
      "source": [
        "# 모델 테스트 결과\n",
        "test_loss, test_accuracy = model.evaluate(x_test_reshaped, y_test, verbose=2)\n",
        "print(\"test_loss: {} \".format(test_loss))\n",
        "print(\"test_accuracy: {}\".format(test_accuracy))"
      ]
    },
    {
      "cell_type": "markdown",
      "id": "ff1afed1",
      "metadata": {
        "id": "ff1afed1"
      },
      "source": [
        "![image.png](attachment:image.png)\n",
        "![image-2.png](attachment:image-2.png)\n",
        "https://www.tensorflow.org/api_docs/python/tf/keras/Model"
      ]
    },
    {
      "cell_type": "markdown",
      "id": "159f8268",
      "metadata": {
        "id": "159f8268"
      },
      "source": [
        "## 🔮다층 퍼셉트론(Multi-Layer Perceptron; MLP)\n",
        "![image.png](attachment:image.png)\n",
        "#### input layer, output layer, hidden layer(입력층과 출력층 사이에 있는 모든 층)\n",
        "- 은닉층: 노드 수가 아니라 노드와 노드 사이 연결하는 부분 = 2 layer\n",
        "\n",
        "### DNN(Deep Neural Network) \n",
        "충분히 깊은 인공신경망, 은닉층이 많아질수록 Deep해진다.\n",
        "\n",
        "### Fully-Connected Neural Network\n",
        "서로 다른 층에 위치한 노드 간에는 연결 관계가 존재하지 않으며, 인접한 층에 위치한 노드들 간의 연결만 존재한다는 의미를 내포한다.\n",
        "- MLP의 다른 용어  "
      ]
    },
    {
      "cell_type": "markdown",
      "id": "6d1da39b",
      "metadata": {
        "id": "6d1da39b"
      },
      "source": [
        "## 🪐 bias 왜 필요한지에 대한 설명 \n",
        "https://stackoverflow.com/questions/2480650/what-is-the-role-of-the-bias-in-neural-networks\n"
      ]
    },
    {
      "cell_type": "markdown",
      "id": "6c538d05",
      "metadata": {
        "id": "6c538d05"
      },
      "source": [
        "##  🔮 MLP 기반 딥러닝 모델을 Numpy로 만들기"
      ]
    },
    {
      "cell_type": "code",
      "execution_count": null,
      "id": "783c3826",
      "metadata": {
        "id": "783c3826",
        "outputId": "e24c435b-0921-44ab-e3b8-44ff76127206"
      },
      "outputs": [
        {
          "name": "stdout",
          "output_type": "stream",
          "text": [
            "(60000, 784)\n",
            "(5, 784)\n"
          ]
        }
      ],
      "source": [
        "# 입력층 데이터의 모양(shape)\n",
        "print(x_train_reshaped.shape)\n",
        "\n",
        "# 테스트를 위해 x_train_reshaped의 앞 5개의 데이터를 가져온다.\n",
        "X = x_train_reshaped[:5]\n",
        "print(X.shape)"
      ]
    },
    {
      "cell_type": "markdown",
      "id": "a1e46b9e",
      "metadata": {
        "id": "a1e46b9e"
      },
      "source": [
        "### Parameters/Weights\n",
        "*Parameter에는 `bias`노드도 포함*\n",
        "- 입력값: 100개, 은닉 노드: 20개 --> 입력층-은닉층: 100 x 20 행렬   \n",
        "- 은닉 노드: 20개, 출력층: 10개 --> 은닉층-출력층: 20 x 10 행렬  \n",
        "\n",
        "![image.png](attachment:image.png)"
      ]
    },
    {
      "cell_type": "markdown",
      "id": "73d1de43",
      "metadata": {
        "id": "73d1de43"
      },
      "source": [
        "### ❓❓❓`weight_init_std` 왜 처음에 0.1인지 ❓❓ \n",
        "### `bias`의 shape ❓❓ 해결 ~\n",
        "hidden layer 개수만큼 하나씩 더 있다는게 저렇게 표현되는건가"
      ]
    },
    {
      "cell_type": "code",
      "execution_count": null,
      "id": "e90ade42",
      "metadata": {
        "id": "e90ade42",
        "outputId": "6dcfe59d-741c-43d7-85df-31d206abb5b6"
      },
      "outputs": [
        {
          "name": "stdout",
          "output_type": "stream",
          "text": [
            "(784, 50)\n",
            "(50,)\n",
            "(5, 50)\n"
          ]
        },
        {
          "data": {
            "text/plain": [
              "(array([[ 0.15511939,  0.0192341 , -0.14065185, ..., -0.02256295,\n",
              "          0.11082909,  0.13495951],\n",
              "        [ 0.00571681, -0.14709428, -0.13186894, ..., -0.00702023,\n",
              "         -0.05811252,  0.10939162],\n",
              "        [ 0.20768485,  0.28484874, -0.03684593, ...,  0.02786551,\n",
              "         -0.25230963, -0.03874338],\n",
              "        ...,\n",
              "        [-0.1331832 , -0.09543737, -0.01319316, ...,  0.0793486 ,\n",
              "          0.03945002,  0.06740256],\n",
              "        [-0.01930643,  0.11250525,  0.04630111, ...,  0.02291236,\n",
              "          0.0704527 ,  0.10042411],\n",
              "        [ 0.08076216,  0.17456881,  0.10766559, ...,  0.10658715,\n",
              "         -0.04210391,  0.11483752]]),\n",
              " array([0., 0., 0., 0., 0., 0., 0., 0., 0., 0., 0., 0., 0., 0., 0., 0., 0.,\n",
              "        0., 0., 0., 0., 0., 0., 0., 0., 0., 0., 0., 0., 0., 0., 0., 0., 0.,\n",
              "        0., 0., 0., 0., 0., 0., 0., 0., 0., 0., 0., 0., 0., 0., 0., 0.]),\n",
              " array([[-0.15909829, -0.40374779, -0.23081506, -1.21810575,  0.19366324,\n",
              "          0.49100084, -0.70853788, -0.29126854,  1.20166971,  0.02928311,\n",
              "          0.67217314,  0.29170768, -0.3333772 ,  1.35220733, -0.87620832,\n",
              "          0.08737999,  0.24445782, -0.4972821 , -2.14598874, -0.45531325,\n",
              "         -0.63653735, -0.21481197, -0.9648519 ,  1.54544875, -0.55464128,\n",
              "          1.53250052,  0.86637825, -0.29673821, -0.69331969, -0.80510587,\n",
              "         -0.43337967,  0.50688941,  1.26995619, -0.77507197,  0.73043577,\n",
              "         -0.4179209 ,  1.34860055, -1.94918397, -0.68597367,  1.44912181,\n",
              "         -0.16041413, -1.57354095,  0.45340817,  1.11265054, -0.40496958,\n",
              "          0.50856251, -0.11515813,  0.19072284,  1.09751966,  0.37855471],\n",
              "        [-0.76089471,  1.04390398,  0.76435833, -1.57561746,  2.30943074,\n",
              "          0.15407463,  0.83016199, -0.13233231,  0.2940311 , -0.13561551,\n",
              "          1.96770507,  0.87607938,  0.24667483,  0.12383909,  0.37258555,\n",
              "          0.81788929,  0.11932311, -1.05392365,  0.47343833, -0.2893374 ,\n",
              "         -0.02161882, -0.63880598,  0.14697184,  1.21083083, -0.25842754,\n",
              "          2.46583665,  0.04099254,  1.21609703,  0.37166142, -0.46246962,\n",
              "         -0.39135853,  0.30050057, -0.34980494, -1.14218259,  0.33365597,\n",
              "         -1.40536462,  1.05714701,  0.15454808, -1.23672762,  0.11879745,\n",
              "         -1.22186552, -1.43213148, -0.82533672,  2.25349792,  0.86338025,\n",
              "          0.25674582,  0.73784649,  1.2088428 ,  1.11618937, -0.14208879],\n",
              "        [-1.01827468, -1.2350891 ,  0.57590115, -0.38104768,  0.16366283,\n",
              "         -0.70020874, -0.41802986,  0.42778887,  0.22003178, -1.42358997,\n",
              "          0.49951835, -0.18010223,  0.51087046,  0.01148106,  0.58288372,\n",
              "          0.15021421, -0.24649389,  0.64545326, -1.48539165, -1.38460234,\n",
              "         -1.12130332,  0.75708358,  1.30424255, -1.07313272, -0.23769614,\n",
              "          0.59045541, -0.7357114 ,  0.10332517, -0.25225456, -0.57434877,\n",
              "          0.07617339,  1.33664994,  0.6914712 , -0.29729228, -0.71491696,\n",
              "          0.19701212, -0.64131126,  0.23143189, -0.38333903, -0.12711318,\n",
              "          0.1329478 ,  0.13234873, -1.7003358 ,  0.82667263,  0.69022628,\n",
              "         -1.58642036,  1.25319734,  0.1857875 ,  0.618524  , -0.12610393],\n",
              "        [-0.2154662 ,  0.31160484,  0.39662979, -0.90943578,  0.87159713,\n",
              "          0.29187744, -0.86304417, -0.05753058,  0.51378166,  0.77042439,\n",
              "          0.10671229,  1.57743718, -0.41139696, -0.20232501, -0.1269033 ,\n",
              "         -0.33623172, -0.82135193, -0.75362858, -1.22694105,  0.96158098,\n",
              "          0.6556408 , -0.58387264,  0.62028843,  0.15392797, -0.45407871,\n",
              "          1.00770657,  0.12402108,  0.75689241, -0.27863712,  0.57656049,\n",
              "         -0.41083067,  1.12031165,  1.15313763,  0.28475819,  0.1472899 ,\n",
              "          0.05682829,  0.93245438,  0.04976638,  0.15079662,  0.48825006,\n",
              "          0.31311397,  0.65537323, -0.1907159 , -0.40681311,  2.0275074 ,\n",
              "         -0.55472911,  0.14718164,  0.37192297,  0.40448167, -0.09887154],\n",
              "        [-0.3838473 ,  0.07014525, -0.05969193, -1.59095116,  1.13745336,\n",
              "          0.096989  , -1.80296878,  0.15795667, -0.32882199,  0.25527492,\n",
              "         -0.38536326,  0.84833553,  0.88756186, -1.95041936,  0.72047869,\n",
              "          1.48551707,  0.02951699,  0.29330532, -0.68161903,  0.43074479,\n",
              "          0.39598605, -0.52623151,  0.41521471,  0.94152504, -0.58330808,\n",
              "          0.75856708,  0.25741882, -0.33110942,  0.51470448,  0.80463873,\n",
              "          2.12378932,  1.14662932,  0.77588681, -1.90692522, -1.64207973,\n",
              "         -1.09604714,  0.13802439,  0.53914049, -0.67946223, -0.05229597,\n",
              "          0.47148745, -0.29193103, -0.3861534 , -0.13113931,  0.84908518,\n",
              "         -0.75986041, -0.33313003,  1.04350646,  0.20093895,  0.20050584]]))"
            ]
          },
          "execution_count": 18,
          "metadata": {},
          "output_type": "execute_result"
        }
      ],
      "source": [
        "weight_init_std = 0.1  # 표준편차, 적당한 숫자, Dense layer 초기값 Xavier 0~1로 맞춰주기 위함?\n",
        "input_size = 784\n",
        "hidden_size = 50\n",
        "\n",
        "# 인접 레이어간 관계를 나타내는 파라미터 W를 생성하고 random 초기화\n",
        "W1 = weight_init_std * np.random.randn(input_size, hidden_size)  # 표준정규분포(0,1)를 따르는 값, 표준편차=1 좀 높여줌..골고루\n",
        "\n",
        "# 바이어스 파라미터 b를 생성하고 Zero로 초기화\n",
        "b1 = np.zeros(hidden_size)\n",
        "\n",
        "a1 = np.dot(X, W1) + b1   # 은닉층 출력\n",
        "\n",
        "print(W1.shape)\n",
        "print(b1.shape)\n",
        "print(a1.shape)\n",
        "W1, b1, a1"
      ]
    },
    {
      "cell_type": "markdown",
      "id": "daccc88d",
      "metadata": {
        "id": "daccc88d"
      },
      "source": [
        "### 활성화 함수 (Activation Functions)\n",
        "- 보통 비선형 함수 : MLP 안에 포함시키면 모델의 표현력이 좋아짐\n",
        "- 레이어 사이에 이 비선형 함수가 포함되지 않은 MLP는 한 개의 레이어로 이루어진 모델과 수학적으로 다른 점이 없다\n",
        "https://stackoverflow.com/questions/9782071/why-must-a-nonlinear-activation-function-be-used-in-a-backpropagation-neural-net/54503251#54503251\n",
        "\n",
        "### ✨ Vanishing Gradient Problem\n",
        "https://brunch.co.kr/@chris-song/39"
      ]
    },
    {
      "cell_type": "markdown",
      "id": "6c20c27c",
      "metadata": {
        "id": "6c20c27c"
      },
      "source": [
        "##  🔮 MLP 레이어 함수로 구현\n",
        "> ![image.png](attachment:image.png)\n",
        "### 1. 첫 번째 은닉층의 출력 a1에다가 sigmoid를 적용한다."
      ]
    },
    {
      "cell_type": "code",
      "execution_count": null,
      "id": "70c298b8",
      "metadata": {
        "scrolled": true,
        "id": "70c298b8",
        "outputId": "5c661c55-a326-4776-ff33-43a643e476c2"
      },
      "outputs": [
        {
          "name": "stdout",
          "output_type": "stream",
          "text": [
            "[0.46030911 0.40041223 0.44255106 0.22826997 0.54826505 0.62034218\n",
            " 0.329922   0.42769334 0.76882168 0.50732025 0.66198959 0.57241415\n",
            " 0.41741913 0.79449027 0.29396412 0.52183111 0.56081191 0.3781796\n",
            " 0.10470666 0.38809824 0.3460297  0.44650257 0.27590782 0.82425542\n",
            " 0.36478827 0.82237188 0.70399153 0.42635505 0.333295   0.30893438\n",
            " 0.39331959 0.624077   0.78073525 0.31538296 0.67490089 0.39701437\n",
            " 0.79390074 0.12464236 0.33492935 0.80986324 0.45998224 0.17171219\n",
            " 0.61144925 0.75262292 0.40011893 0.62446943 0.47124224 0.5475367\n",
            " 0.74979508 0.59352447]\n"
          ]
        }
      ],
      "source": [
        "# 위 수식의 sigmoid 함수를 구현해 봅니다.\n",
        "def sigmoid(x):\n",
        "    return 1 / (1 + np.exp(-x))  \n",
        "\n",
        "\n",
        "z1 = sigmoid(a1)\n",
        "print(z1[0])  # sigmoid의 출력은 모든 element가 0에서 1사이"
      ]
    },
    {
      "cell_type": "markdown",
      "id": "43cb63bc",
      "metadata": {
        "id": "43cb63bc"
      },
      "source": [
        "### 2. sigmoid 다음에 다시 Dense 레이어가 출현"
      ]
    },
    {
      "cell_type": "code",
      "execution_count": null,
      "id": "194a18ec",
      "metadata": {
        "id": "194a18ec"
      },
      "outputs": [],
      "source": [
        "# 단일 레이어 구현 함수\n",
        "def affine_layer_forward(X, W, b):\n",
        "    y = np.dot(X, W) + b\n",
        "    cache = (X, W, b)  # 중간값 저장 -> 나중에 backpropagation할 때 쓰려고 저장\n",
        "    return y, cache"
      ]
    },
    {
      "cell_type": "markdown",
      "id": "fb38484f",
      "metadata": {
        "id": "fb38484f"
      },
      "source": [
        "### ❓❓cache가 뭔가요❓왜필요❓"
      ]
    },
    {
      "cell_type": "code",
      "execution_count": null,
      "id": "a1c5ec86",
      "metadata": {
        "id": "a1c5ec86",
        "outputId": "6c5b5902-69cc-49b4-c9c0-f5258681cc43"
      },
      "outputs": [
        {
          "data": {
            "text/plain": [
              "((784, 50), (50,), (50, 10), (10,))"
            ]
          },
          "execution_count": 25,
          "metadata": {},
          "output_type": "execute_result"
        }
      ],
      "source": [
        "input_size = 784\n",
        "hidden_size = 50\n",
        "output_size = 10\n",
        "\n",
        "W1 = weight_init_std * np.random.randn(input_size, hidden_size)\n",
        "b1 = np.zeros(hidden_size)\n",
        "W2 = weight_init_std * np.random.randn(hidden_size, output_size)\n",
        "b2 = np.zeros(output_size)\n",
        "\n",
        "W1.shape, b1.shape, W2.shape, b2.shape"
      ]
    },
    {
      "cell_type": "markdown",
      "id": "6cd0fec9",
      "metadata": {
        "id": "6cd0fec9"
      },
      "source": [
        "### ❓❓a1❓❓❓ 해결~\n",
        "a1에는 y = Wx + b 계산한 값이 들어감"
      ]
    },
    {
      "cell_type": "code",
      "execution_count": null,
      "id": "3e6e03d5",
      "metadata": {
        "id": "3e6e03d5",
        "outputId": "a00bf020-d86d-45ce-bf22-fc07864ed185"
      },
      "outputs": [
        {
          "data": {
            "text/plain": [
              "(5, 50)"
            ]
          },
          "execution_count": 51,
          "metadata": {},
          "output_type": "execute_result"
        }
      ],
      "source": [
        "a1, cache1 = affine_layer_forward(X, W1, b1)\n",
        "a1.shape"
      ]
    },
    {
      "cell_type": "code",
      "execution_count": null,
      "id": "62ae49c3",
      "metadata": {
        "id": "62ae49c3"
      },
      "outputs": [],
      "source": [
        "z1 = sigmoid(a1)\n",
        "a2, cache2 = affine_layer_forward(z1, W2, b2)    # z1이 다시 두번째 레이어의 입력이 됩니다. "
      ]
    },
    {
      "cell_type": "code",
      "execution_count": null,
      "id": "48ab4c2a",
      "metadata": {
        "id": "48ab4c2a",
        "outputId": "84de4a41-b709-467f-d12a-801cfdcbbc6c"
      },
      "outputs": [
        {
          "name": "stdout",
          "output_type": "stream",
          "text": [
            "[ 0.12957414  0.46184385  0.19024832  0.27631695  0.71352109  0.40362443\n",
            " -0.20417687  0.84639688 -0.20558258  0.54762212]\n"
          ]
        }
      ],
      "source": [
        "print(a2[0])  # 최종 출력이 output_size만큼의 벡터가 되었습니다. 총 10개."
      ]
    },
    {
      "cell_type": "markdown",
      "id": "a0e064d1",
      "metadata": {
        "id": "a0e064d1"
      },
      "source": [
        "## 🔮오차를 구하는 방법 \n",
        "### ✨ Softmax 활성화 함수\n",
        "[딥러닝 - 소프트맥스 함수](https://leedakyeong.tistory.com/entry/%EB%B0%91%EB%B0%94%EB%8B%A5%EB%B6%80%ED%84%B0-%EC%8B%9C%EC%9E%91%ED%95%98%EB%8A%94-%EB%94%A5%EB%9F%AC%EB%8B%9D-%EC%86%8C%ED%94%84%ED%8A%B8%EB%A7%A5%EC%8A%A4-%ED%95%A8%EC%88%98-%EA%B5%AC%ED%98%84%ED%95%98%EA%B8%B0-in-%ED%8C%8C%EC%9D%B4%EC%8D%AC-softmax-in-python)\n",
        "- 신경망의 출력층에서 사용한다\n",
        "- 분류 문제에서 소프트 맥스는 각각의 결과 값을 확률로 바꿔주기 위해 사용한다.\n",
        "- MLE(최대 우도 추정)로 y가 어느 범주일지 확률을 추정하게 된다.\n",
        "![image.png](attachment:image.png)\n",
        "\n",
        "### ❓오버플로우란\n",
        "컴퓨터가 표현할 수 있는 수의 범위가 너무 한정되어, 너무 큰 값은 표현할 수 없는 문제\n",
        "- 최댓값을 빼는 방식 \n",
        "> ❓❓❓식변형❓이해안감 \n",
        "![image-2.png](attachment:image-2.png)\n",
        "\n",
        "### 3. 모델의 최종 출력인 a2에 softmax 함수 적용. \n",
        "- 모델의 출력은 입력 X가 10가지 숫자 중 하나일 확률의 형태로 가공됩니다"
      ]
    },
    {
      "cell_type": "code",
      "execution_count": null,
      "id": "dc860511",
      "metadata": {
        "id": "dc860511"
      },
      "outputs": [],
      "source": [
        "def softmax(x):  # 원래 flatten해줘서 1차원으로 구해야 함. \n",
        "    if x.ndim == 2:  # 2차원 형태로 입력된 ??????????????????????\n",
        "        x = x.T # 원래는 column vector니까 열 기준인데 transpose 해준 후\n",
        "        x = x - np.max(x, axis=0)  # overflow 방지, 행 기준\n",
        "        y = np.exp(x) / np.sum(np.exp(x), axis=0) # exp가 기하급수적으로 커짐, 2^0=1이니까 x - 최댓값 해줌으로써 1보다 작은값에서 놀게함.. \n",
        "        return y.T  # 2차원 행렬 ............................\n",
        "\n",
        "    x = x - np.max(x) # 오버플로 대책\n",
        "    return np.exp(x) / np.sum(np.exp(x))"
      ]
    },
    {
      "cell_type": "markdown",
      "id": "dac057d4",
      "metadata": {
        "id": "dac057d4"
      },
      "source": [
        "### ❓❓왜 transpose 해주는거지 ❓❓❓\n",
        "- 행렬의 크기 맞추기 위함\n",
        "- softmax 해주기 전에 flatten 해줘야 하는데, 그거 대신에 수동으로 맞춰줌...\n",
        "\n",
        "[numpy.ndarray.T](https://numpy.org/doc/stable/reference/generated/numpy.ndarray.T.html)\n",
        "\n",
        "> ### 🌷ndim vs. shape\n",
        "[링크](https://datascienceschool.net/01%20python/03.01%20%EB%84%98%ED%8C%8C%EC%9D%B4%20%EB%B0%B0%EC%97%B4.html#:~:text=%EB%B0%B0%EC%97%B4%EC%9D%98%20%EC%B0%A8%EC%9B%90%EA%B3%BC%20%ED%81%AC%EA%B8%B0%20%EC%95%8C%EC%95%84%EB%82%B4%EA%B8%B0,-ndim&text=%EB%B0%B0%EC%97%B4%EC%9D%98%20%EC%B0%A8%EC%9B%90%20%EB%B0%8F%20%ED%81%AC%EA%B8%B0,%EC%9D%98%20%ED%81%AC%EA%B8%B0%EB%A5%BC%20%EB%B0%98%ED%99%98%ED%95%9C%EB%8B%A4.)\n",
        ">- `ndim`: 배열의 차원  \n",
        "> - `shape`: 배열의 크기 "
      ]
    },
    {
      "cell_type": "code",
      "execution_count": null,
      "id": "4c7b6896",
      "metadata": {
        "scrolled": true,
        "id": "4c7b6896",
        "outputId": "74e779f2-c72a-4fb1-90ca-35bf443a1ebc"
      },
      "outputs": [
        {
          "name": "stdout",
          "output_type": "stream",
          "text": [
            "2\n"
          ]
        },
        {
          "data": {
            "text/plain": [
              "((5, 50), (50, 5))"
            ]
          },
          "execution_count": 48,
          "metadata": {},
          "output_type": "execute_result"
        }
      ],
      "source": [
        "print(a1.ndim)\n",
        "a1.shape, a1.T.shape"
      ]
    },
    {
      "cell_type": "code",
      "execution_count": null,
      "id": "4208bf8c",
      "metadata": {
        "id": "4208bf8c",
        "outputId": "8cd89b98-5a7f-424f-b586-b13db6d39a89"
      },
      "outputs": [
        {
          "data": {
            "text/plain": [
              "(5, 50)"
            ]
          },
          "execution_count": 111,
          "metadata": {},
          "output_type": "execute_result"
        }
      ],
      "source": [
        "a1.shape"
      ]
    },
    {
      "cell_type": "code",
      "execution_count": null,
      "id": "f3670d4e",
      "metadata": {
        "id": "f3670d4e",
        "outputId": "c420acbb-574e-4e85-afdf-a9217b711c39"
      },
      "outputs": [
        {
          "name": "stdout",
          "output_type": "stream",
          "text": [
            "[[ 1.29574136e-01  4.61843851e-01  1.90248322e-01  2.76316949e-01\n",
            "   7.13521093e-01  4.03624432e-01 -2.04176868e-01  8.46396882e-01\n",
            "  -2.05582582e-01  5.47622124e-01]\n",
            " [ 3.01311986e-01  2.99331014e-01  2.29264605e-01  1.72033731e-01\n",
            "   7.32210222e-01  5.24563176e-01 -3.61977114e-01  1.10821319e+00\n",
            "  -2.92505362e-01  7.20162432e-01]\n",
            " [ 1.56507899e-01  3.61404775e-01  1.20932718e-01  2.69148660e-01\n",
            "   6.44112322e-01  4.64961293e-01 -2.77237808e-01  8.89477436e-01\n",
            "  -3.50659264e-01  6.84379956e-01]\n",
            " [ 1.61490362e-02  1.63984619e-01 -4.32326949e-02  2.76741855e-01\n",
            "   5.81380229e-01  2.60532555e-01 -2.55102677e-01  9.02932339e-01\n",
            "  -4.38093510e-01  4.87829075e-01]\n",
            " [-1.79403234e-02  5.62863813e-01 -1.01660001e-03  1.48282797e-01\n",
            "   3.50914275e-01  2.84938323e-01 -2.11604412e-01  9.06029350e-01\n",
            "  -4.65101973e-01  5.28525324e-01]]\n",
            "(5, 10)\n",
            "2\n",
            "[ 0.12957414  0.46184385  0.19024832  0.27631695  0.71352109  0.40362443\n",
            " -0.20417687  0.84639688 -0.20558258  0.54762212] [ 0.30131199  0.29933101  0.22926461  0.17203373  0.73221022  0.52456318\n",
            " -0.36197711  1.10821319 -0.29250536  0.72016243] [ 0.1565079   0.36140477  0.12093272  0.26914866  0.64411232  0.46496129\n",
            " -0.27723781  0.88947744 -0.35065926  0.68437996] [-0.01794032  0.56286381 -0.0010166   0.1482828   0.35091428  0.28493832\n",
            " -0.21160441  0.90602935 -0.46510197  0.52852532]\n"
          ]
        },
        {
          "data": {
            "text/plain": [
              "((5, 10), (10, 5))"
            ]
          },
          "execution_count": 62,
          "metadata": {},
          "output_type": "execute_result"
        }
      ],
      "source": [
        "# print(a2)\n",
        "# print(a2.shape)\n",
        "# print(a2.ndim)\n",
        "# print(a2[0], a2[1], a2[2], a2[4])\n",
        "# a2.shape, a2.T.shape"
      ]
    },
    {
      "cell_type": "code",
      "execution_count": null,
      "id": "7cda2186",
      "metadata": {
        "id": "7cda2186",
        "outputId": "bd9c8f81-bba1-48e5-dccc-93e1cd187729"
      },
      "outputs": [
        {
          "data": {
            "text/plain": [
              "array([0.07860716, 0.1095885 , 0.08352424, 0.0910315 , 0.14095063,\n",
              "       0.1033905 , 0.05630097, 0.16098086, 0.05622188, 0.11940376])"
            ]
          },
          "execution_count": 40,
          "metadata": {},
          "output_type": "execute_result"
        }
      ],
      "source": [
        "y_hat = softmax(a2)\n",
        "y_hat[0]  # 10개의 숫자 중 하나일 확률이 되었습니다."
      ]
    },
    {
      "cell_type": "markdown",
      "id": "8656d08c",
      "metadata": {
        "id": "8656d08c"
      },
      "source": [
        "## 🔮 손실함수(Loss function)\n",
        "비선형 활성화 함수를 가진 여러 개의 은닉층을 거친 다음 신호 정보들은 출력층으로 전달할 때, 우리가 원하는 정답과 전달된 신호 정보들 사이의 차이를 계산하고, 이 **차이**를 줄이기 위해 각 파라미터들을 조정하는 것이 딥러닝의 전체적인 학습 흐름입니다. \n",
        "- 차이를 구할 때 사용 \n",
        "\n",
        "\n",
        "### 평균제곱오차 (MSE: Mean Square Error)\n",
        "![image.png](attachment:image.png)\n",
        "\n",
        "### Cross entropy\n",
        "- 두 확률분포 사이의 유사도가 클수록 작아지는 값입니다. \n",
        "> ✨ 분류 문제에 있어서는 예측한 분류가 정답을 맞췄는지 아닌지가 더 중요한 문제다. 즉, 정답이 '고양이'인 데이터에 대해서 '개'라고 예측한 경우에는, 단순히 확률값과 정답의 차이만큼이 아닌 더 큰 패널티를 줘야한다. 이때 크로스 엔트로피(cross entropy)를 사용한다. 엔트로피란 '불확실성의 정도'라고 알려져 있는데, 여기서는 '정보량'의 개념으로 이해하면 된다. 크로스엔트로피는 '정답'과 예측한 '확률값' 사이에서 얼마나 차이가 발생하는지(얼마나 정보가 발생되는지)를 계산한다. 계산식을 살펴보면 다음과 같다.\n",
        "- 별로 학습되지 않은 현재의 모델이 출력하는 softmax 값 $\\hat{y}$ 은 10개의 숫자 각각의 확률이 대부분 0.1 근처를 오가는 정도\n",
        "\n",
        "### 4. $\\hat{y}$과 정답 비교\n",
        "> ### ❓❓식 이해안감❓❓❓![image-2.png](attachment:image-2.png)\n",
        "\n",
        "## 원핫인코딩\n",
        "ex) 범주형 input data가 문자열일 때 원핫 인코딩으로 변경\n"
      ]
    },
    {
      "cell_type": "code",
      "execution_count": null,
      "id": "2833b86a",
      "metadata": {
        "id": "2833b86a"
      },
      "outputs": [],
      "source": [
        "# 정답 라벨을 One-hot 인코딩하는 함수\n",
        "def _change_one_hot_label(X, num_category): # 0-1만 가지고 인코딩, 0,1로 이루어진 정답라벨과 비교 위함\n",
        "    T = np.zeros((X.size, num_category))  # x가 한개만 들어가면 정답데이터 라벨 값은 5 // X.size에 따라 1차원 or 2차원일지 모르니까 0행렬\n",
        "    for idx, row in enumerate(T):  # 그래서 원핫 인코딩으로 바꿔줌 \n",
        "        row[X[idx]] = 1  # row(행)별로 보면서 정답값이 있는곳에 1을 집어넣어주는 코드\n",
        "        \n",
        "    return T"
      ]
    },
    {
      "cell_type": "code",
      "execution_count": null,
      "id": "bd33598b",
      "metadata": {
        "id": "bd33598b",
        "outputId": "c3b9c6dc-63e6-4cd9-a7c7-279901372828"
      },
      "outputs": [
        {
          "data": {
            "text/plain": [
              "array([5, 0, 4, 1, 9], dtype=uint8)"
            ]
          },
          "execution_count": 82,
          "metadata": {},
          "output_type": "execute_result"
        }
      ],
      "source": [
        "Y_digit = y_train[:5]\n",
        "Y_digit"
      ]
    },
    {
      "cell_type": "code",
      "execution_count": null,
      "id": "11f3e06c",
      "metadata": {
        "id": "11f3e06c",
        "outputId": "542778b0-80f6-4a18-f9fb-414dafdfc77d"
      },
      "outputs": [
        {
          "data": {
            "text/plain": [
              "array([[0., 0., 0., 0., 0., 1., 0., 0., 0., 0.],\n",
              "       [1., 0., 0., 0., 0., 0., 0., 0., 0., 0.],\n",
              "       [0., 0., 0., 0., 1., 0., 0., 0., 0., 0.],\n",
              "       [0., 1., 0., 0., 0., 0., 0., 0., 0., 0.],\n",
              "       [0., 0., 0., 0., 0., 0., 0., 0., 0., 1.]])"
            ]
          },
          "execution_count": 83,
          "metadata": {},
          "output_type": "execute_result"
        }
      ],
      "source": [
        "t = _change_one_hot_label(Y_digit, 10)  # 첫째줄 숫자: 5 (1 x 784의 첫번째 값)\n",
        "t     # 정답 라벨의 One-hot 인코딩"
      ]
    },
    {
      "cell_type": "code",
      "execution_count": null,
      "id": "b79dfdca",
      "metadata": {
        "scrolled": true,
        "id": "b79dfdca",
        "outputId": "7ac9d2d0-0561-4951-a614-8c114ba8fc2f"
      },
      "outputs": [
        {
          "name": "stdout",
          "output_type": "stream",
          "text": [
            "[0.07860716 0.1095885  0.08352424 0.0910315  0.14095063 0.1033905\n",
            " 0.05630097 0.16098086 0.05622188 0.11940376]\n",
            "[0. 0. 0. 0. 0. 1. 0. 0. 0. 0.]\n"
          ]
        }
      ],
      "source": [
        "print(y_hat[0])  # 우리 모델의 최종 출력인 softmax(a2)\n",
        "print(t[0])  # 정답 라벨의 One-hot 인코딩의 분포"
      ]
    },
    {
      "cell_type": "markdown",
      "id": "e9b27647",
      "metadata": {
        "id": "e9b27647"
      },
      "source": [
        "### ❓❓reshape 왜함❓정답 레이블의 인덱스로 반환하는 부분 어디❓❓\n",
        "- `y`: 우리 모델의 최종 출력인 softmax(a2)  \n",
        "- `t`: 정답 라벨의 One-hot 인코딩의 분포"
      ]
    },
    {
      "cell_type": "code",
      "execution_count": null,
      "id": "a01adae9",
      "metadata": {
        "id": "a01adae9",
        "outputId": "820f6d8d-1220-4e48-f7bb-d3d2b7885632"
      },
      "outputs": [
        {
          "data": {
            "text/plain": [
              "array([[0., 0., 0., 0., 0., 1., 0., 0., 0., 0.],\n",
              "       [1., 0., 0., 0., 0., 0., 0., 0., 0., 0.],\n",
              "       [0., 0., 0., 0., 1., 0., 0., 0., 0., 0.],\n",
              "       [0., 1., 0., 0., 0., 0., 0., 0., 0., 0.],\n",
              "       [0., 0., 0., 0., 0., 0., 0., 0., 0., 1.]])"
            ]
          },
          "execution_count": 85,
          "metadata": {},
          "output_type": "execute_result"
        }
      ],
      "source": [
        "def cross_entropy_error(y, t):\n",
        "    if y.ndim == 1:\n",
        "        t = t.reshape(1, t.size) # 정답데이터 target을 원핫인코딩한 것도 -> (1,10) 2차원 배열로 바꿔줌\n",
        "        y = y.reshape(1, y.size) # (1,10) 2차원 배열로 바꿔줌\n",
        "        \n",
        "    # 훈련 데이터가 원-핫 벡터라면 정답 레이블의 인덱스로 반환\n",
        "    if t.size == y.size:\n",
        "        t = t.argmax(axis=1)\n",
        "             \n",
        "    batch_size = y.shape[0]\n",
        "    return -np.sum(np.log(y[np.arange(batch_size), t])) / batch_size\n",
        "\n",
        "t"
      ]
    },
    {
      "cell_type": "code",
      "execution_count": null,
      "id": "fda4b36d",
      "metadata": {
        "id": "fda4b36d",
        "outputId": "e6c10b27-fc5e-4e10-8c5b-ce584b9edeb6"
      },
      "outputs": [
        {
          "data": {
            "text/plain": [
              "2.2383399253361858"
            ]
          },
          "execution_count": 86,
          "metadata": {},
          "output_type": "execute_result"
        }
      ],
      "source": [
        "Loss = cross_entropy_error(y_hat, t)\n",
        "Loss"
      ]
    },
    {
      "cell_type": "markdown",
      "id": "6ec7aa0c",
      "metadata": {
        "id": "6ec7aa0c"
      },
      "source": [
        "## 🔮 경사하강법(Gradient Descent)\n",
        "![image.png](attachment:image.png)\n",
        "각 시점에서의 기울기가 가리키는 방향으로 이동해나가는 것.\n",
        "\n",
        "### ✨학습률(learning rate)\n",
        "학습률을 곱한 만큼만 발걸음을 내딛는 것. \n",
        "![image-4.png](attachment:image-4.png)\n",
        "https://aileen93.tistory.com/71\n",
        "\n",
        "\n",
        "### ✨ 가중치 초기화 (Weight Initialization)\n",
        "\n",
        "![image-2.png](attachment:image-2.png)\n",
        "\n",
        "1. LeCun Initialization\n",
        "- LeCun은 LeNet의 창시자\n",
        "\n",
        "2. Xavier Initialization\n",
        "- Xaiver함수는 비선형함수(ex. sigmoid, tanh)에서 효과적인 결과를 보여준다. 하지만 ReLU함수에서 사용 시 출력 값이 0으로 수렴하게 되는 현상\n",
        "\n",
        "3.He Initialization\n",
        "- ReLU를 활성화 함수에 사용 가능\n",
        "\n",
        "https://reniew.github.io/13/"
      ]
    },
    {
      "cell_type": "markdown",
      "id": "479ec643",
      "metadata": {
        "id": "479ec643"
      },
      "source": [
        "### 1.  파라미터 W의 변화에 따른 오차(Loss) L의 변화량 구하기\n",
        "- 오차 기울기가 커지는 방향의 반대 방향으로 파라미터를 조정\n",
        "- 단, 조정을 너무 많이 해주면 안 되기 때문에 적절한 step size 역할을 하는 learning rate가 필수적\n",
        "\n",
        "### ✨ X-Y 좌표축의 기울기\n",
        "X의 변화에 따른 Y의 변화량을 의미합니다. Y를 X로 미분해서 구할 수 있습니다.\n",
        "- `dy`: ![image.png](attachment:image.png)\n",
        "- `dx`: ![image-2.png](attachment:image-2.png)"
      ]
    },
    {
      "cell_type": "markdown",
      "id": "3f3b9720",
      "metadata": {
        "id": "3f3b9720"
      },
      "source": [
        "### ❓❓'softmax값의 출력으로 Loss를 미분한 값' 식이 이렇게 나옴 ❓❓❓❓❓\n",
        "기울기 구하는 공식인건 알겠는데, 왜 x의 변화량 = batch num 인가요? "
      ]
    },
    {
      "cell_type": "code",
      "execution_count": null,
      "id": "9841b7ed",
      "metadata": {
        "id": "9841b7ed",
        "outputId": "7aa96169-3246-403c-ead1-54d3222da6b3"
      },
      "outputs": [
        {
          "name": "stdout",
          "output_type": "stream",
          "text": [
            "5\n",
            "(5, 10)\n"
          ]
        },
        {
          "data": {
            "text/plain": [
              "array([[ 0.01572143,  0.0219177 ,  0.01670485,  0.0182063 ,  0.02819013,\n",
              "        -0.1793219 ,  0.01126019,  0.03219617,  0.01124438,  0.02388075],\n",
              "       [-0.18249383,  0.01747152,  0.01628926,  0.01538318,  0.02693567,\n",
              "         0.02188506,  0.00901837,  0.03923049,  0.00966717,  0.0266131 ],\n",
              "       [ 0.01622289,  0.01991196,  0.01565591,  0.01815715, -0.17358247,\n",
              "         0.02208452,  0.01051369,  0.03376393,  0.00976941,  0.02750301],\n",
              "       [ 0.01554798, -0.18197488,  0.0146516 ,  0.02017661,  0.02736219,\n",
              "         0.01985219,  0.01185416,  0.03773976,  0.00987186,  0.02491851],\n",
              "       [ 0.01482031,  0.02649094,  0.01507326,  0.01750037,  0.02143132,\n",
              "         0.020063  ,  0.01221097,  0.03733639,  0.00947671, -0.17440328]])"
            ]
          },
          "execution_count": 94,
          "metadata": {},
          "output_type": "execute_result"
        }
      ],
      "source": [
        "batch_num = y_hat.shape[0]  # 행의 개수를 가져와서 batch_num으로 사용한건가 ? \n",
        "print(batch_num)\n",
        "print(y_hat.shape)\n",
        "dy = (y_hat - t) / batch_num  # loss값을 1/n으로 나눔 -> 수치 안정화를 위함 \n",
        "dy    # softmax값의 출력으로 Loss를 미분한 값"
      ]
    },
    {
      "cell_type": "markdown",
      "id": "21a96e16",
      "metadata": {
        "id": "21a96e16"
      },
      "source": [
        "### ✨Chain Rule \n",
        "- y가 구해지면 다른 기울기들은 chain-rule로 쉽게 구해집니다.\n",
        "- 학습해야 할 모든 파라미터 W1, b1, W2, b2에 대한 기울기를 모두 얻을 수 있습니다.\n",
        "![image.png](attachment:image.png)\n",
        "\n",
        "### ❓❓❓❓여기 밑에 코드들 같이 보고 싶음❓❓"
      ]
    },
    {
      "cell_type": "code",
      "execution_count": null,
      "id": "d5b574a2",
      "metadata": {
        "scrolled": true,
        "id": "d5b574a2",
        "outputId": "9f3e9019-24c2-4d1a-c20b-6c6e186d78bc"
      },
      "outputs": [
        {
          "data": {
            "text/plain": [
              "array([[-0.10853421, -0.02322066,  0.0357407 ,  0.03955792, -0.02656483,\n",
              "        -0.02975251,  0.02410237,  0.08250513,  0.02253779, -0.01637172],\n",
              "       [-0.12954265, -0.04451966,  0.06257731,  0.07014575, -0.01636832,\n",
              "        -0.10292301,  0.04323989,  0.14330696,  0.03985479, -0.06577106],\n",
              "       [-0.10112161, -0.10230536,  0.06065539,  0.06949054, -0.01152666,\n",
              "        -0.07688812,  0.04270782,  0.14059506,  0.03881295, -0.06042001],\n",
              "       [-0.06664257, -0.07173926,  0.04304178,  0.0493084 , -0.02022446,\n",
              "        -0.06636231,  0.0301451 ,  0.0989341 ,  0.02759133, -0.02405211],\n",
              "       [-0.07472459, -0.05428161,  0.03856192,  0.04413024, -0.05156633,\n",
              "         0.00483383,  0.02705365,  0.09058205,  0.02439642, -0.04898559],\n",
              "       [-0.07035705, -0.05853751,  0.03578967,  0.04049046, -0.02881711,\n",
              "        -0.08715038,  0.02424928,  0.08036545,  0.0230011 ,  0.04096609],\n",
              "       [-0.08329907, -0.01929206,  0.03501794,  0.03887276,  0.00537399,\n",
              "        -0.07410139,  0.02394485,  0.07970508,  0.02231752, -0.02853963],\n",
              "       [-0.07990984,  0.00923822,  0.0371344 ,  0.04103577, -0.04539675,\n",
              "        -0.05576454,  0.02527521,  0.08411813,  0.02349238, -0.03922298],\n",
              "       [-0.02861523, -0.04968022,  0.04152813,  0.04809425, -0.04950058,\n",
              "        -0.03692057,  0.02982722,  0.09604074,  0.02655788, -0.07733162],\n",
              "       [ 0.00296132, -0.08601398,  0.02178529,  0.02669341, -0.01707929,\n",
              "         0.01433321,  0.01647994,  0.05265491,  0.01406049, -0.04587529],\n",
              "       [-0.1180237 , -0.06869903,  0.04991448,  0.05633958, -0.02698353,\n",
              "        -0.05521144,  0.03431032,  0.1152937 ,  0.03174679, -0.01868717],\n",
              "       [-0.04391409, -0.04111926,  0.02657232,  0.03039535,  0.00037918,\n",
              "        -0.03419003,  0.01877512,  0.06169162,  0.01699742, -0.03558763],\n",
              "       [-0.08616249, -0.032946  ,  0.04796158,  0.05387352, -0.06782986,\n",
              "        -0.0899962 ,  0.03267291,  0.10795273,  0.03059544,  0.00387837],\n",
              "       [-0.03440412, -0.07704631,  0.04198004,  0.04887798, -0.02689471,\n",
              "        -0.04688559,  0.03017074,  0.09737459,  0.02696   , -0.0601326 ],\n",
              "       [-0.09448288, -0.00089614,  0.03184428,  0.03478446, -0.02967753,\n",
              "        -0.05749673,  0.0211115 ,  0.07181263,  0.02013269,  0.00286773],\n",
              "       [-0.03851779, -0.04111433,  0.04245267,  0.0483861 , -0.06835042,\n",
              "        -0.10731811,  0.02930578,  0.09437233,  0.02732948,  0.01345427],\n",
              "       [-0.0893889 , -0.05007285,  0.04600112,  0.05191715, -0.0609891 ,\n",
              "        -0.07237491,  0.03138864,  0.10436   ,  0.02933461,  0.00982423],\n",
              "       [-0.0306506 , -0.04748046,  0.01777264,  0.02082399,  0.00080607,\n",
              "         0.01085803,  0.01291075,  0.04295102,  0.01130767, -0.03929909],\n",
              "       [-0.08464749, -0.02284302,  0.04603029,  0.05141153,  0.0062915 ,\n",
              "        -0.11466247,  0.03179823,  0.10409747,  0.02946548, -0.04694152],\n",
              "       [-0.03072845, -0.029506  ,  0.0164541 ,  0.01893091, -0.04084263,\n",
              "         0.0018557 ,  0.01135089,  0.03819395,  0.01042487,  0.00386667],\n",
              "       [-0.13071785, -0.06529645,  0.04609775,  0.05172339, -0.0301762 ,\n",
              "        -0.03957074,  0.03129597,  0.10673887,  0.02921504,  0.00069021],\n",
              "       [-0.0272215 , -0.02069507,  0.03741858,  0.0429933 , -0.06016055,\n",
              "        -0.02371148,  0.02679323,  0.08641773,  0.02380781, -0.08564206],\n",
              "       [-0.0694879 , -0.04522514,  0.03585817,  0.04042107, -0.01267059,\n",
              "        -0.08356139,  0.02454921,  0.08104276,  0.02300041,  0.00607339],\n",
              "       [-0.0949148 , -0.06360024,  0.04925627,  0.05602047, -0.02875913,\n",
              "        -0.04090989,  0.03444918,  0.11446156,  0.03133178, -0.05733519],\n",
              "       [-0.03252217, -0.04196029,  0.03846022,  0.04411633, -0.05577809,\n",
              "        -0.07220044,  0.02695237,  0.08686119,  0.02469524, -0.01862437],\n",
              "       [-0.0739863 , -0.08861434,  0.05333437,  0.06130907, -0.0187165 ,\n",
              "        -0.07467552,  0.03769387,  0.12316263,  0.03419096, -0.05369824],\n",
              "       [-0.06845346, -0.04782047,  0.03840526,  0.04370401, -0.03655635,\n",
              "        -0.03825715,  0.02674783,  0.08860707,  0.02445674, -0.03083348],\n",
              "       [-0.02526523, -0.0346541 ,  0.02662509,  0.03070858, -0.03608768,\n",
              "        -0.02929851,  0.0188616 ,  0.06117221,  0.01703265, -0.02909462],\n",
              "       [ 0.00334921, -0.02782299,  0.03536959,  0.04115711, -0.06585966,\n",
              "        -0.0445364 ,  0.02558536,  0.08066462,  0.02269404, -0.07060086],\n",
              "       [-0.02454349, -0.07336542,  0.02535663,  0.03002352, -0.01106946,\n",
              "        -0.00314599,  0.01847435,  0.06025491,  0.01627008, -0.03825514],\n",
              "       [-0.08687517, -0.06382049,  0.03353328,  0.0379624 , -0.01909295,\n",
              "        -0.03895558,  0.02284703,  0.07740157,  0.0213665 ,  0.01563341],\n",
              "       [-0.11064259, -0.02114717,  0.04168344,  0.04586926, -0.02651954,\n",
              "        -0.10920682,  0.02765046,  0.09295647,  0.02658328,  0.0327732 ],\n",
              "       [-0.04438166, -0.00528305,  0.0434593 ,  0.04912678, -0.09021516,\n",
              "        -0.06961442,  0.03014905,  0.09769073,  0.02769292, -0.0386245 ],\n",
              "       [-0.06745109, -0.08657851,  0.04540386,  0.05234221, -0.01875807,\n",
              "        -0.05314829,  0.03207532,  0.10529617,  0.02908981, -0.03827142],\n",
              "       [-0.07242878, -0.04271129,  0.03317708,  0.0375192 , -0.05217776,\n",
              "        -0.03179038,  0.02260679,  0.07598599,  0.02107639,  0.00874276],\n",
              "       [-0.09902081, -0.06018036,  0.03797925,  0.04279577, -0.01322172,\n",
              "        -0.04601709,  0.02594223,  0.08771866,  0.02417014, -0.00016607],\n",
              "       [-0.09677269, -0.00843035,  0.04276655,  0.04737107, -0.03561946,\n",
              "        -0.08007383,  0.02900301,  0.09666203,  0.02716563, -0.02207194],\n",
              "       [-0.02905716, -0.09925619,  0.03122451,  0.03669138,  0.00739646,\n",
              "        -0.07463454,  0.02219661,  0.07153202,  0.02032938,  0.01357754],\n",
              "       [-0.03948395, -0.05219566,  0.03473748,  0.04027036, -0.0448397 ,\n",
              "        -0.00395754,  0.02488287,  0.08145674,  0.02210324, -0.06297383],\n",
              "       [-0.02499373, -0.04282527,  0.04638056,  0.05324473, -0.05201595,\n",
              "        -0.1053168 ,  0.03277188,  0.10434842,  0.0298726 , -0.04146644],\n",
              "       [-0.09090004, -0.09212048,  0.05804272,  0.06638567, -0.00420985,\n",
              "        -0.09531295,  0.04082417,  0.13371382,  0.03722175, -0.05364481],\n",
              "       [-0.07091587,  0.00820621,  0.04187666,  0.04697712, -0.08519572,\n",
              "        -0.01030155,  0.02912897,  0.09654539,  0.02635444, -0.08267565],\n",
              "       [-0.0881617 , -0.02018659,  0.03220202,  0.0357117 , -0.01735271,\n",
              "        -0.0429359 ,  0.02181039,  0.07381957,  0.02039432, -0.01530112],\n",
              "       [-0.09734643, -0.0172592 ,  0.03971865,  0.0444418 , -0.0619095 ,\n",
              "        -0.00147781,  0.02728158,  0.0924039 ,  0.02496245, -0.05081544],\n",
              "       [-0.04475231, -0.06329259,  0.04085428,  0.04702536, -0.05451676,\n",
              "        -0.06628668,  0.02857485,  0.09292062,  0.02622531, -0.00675207],\n",
              "       [-0.06790598, -0.0265821 ,  0.0380407 ,  0.04268674, -0.01370824,\n",
              "        -0.08546865,  0.0262122 ,  0.08602457,  0.02433931, -0.02363856],\n",
              "       [-0.03110474,  0.003498  ,  0.02969489,  0.03334856, -0.07326176,\n",
              "        -0.06123509,  0.02030115,  0.06576487,  0.01894027, -0.00594615],\n",
              "       [ 0.00333396, -0.06310005,  0.02462228,  0.02939576, -0.05127046,\n",
              "        -0.02010714,  0.01787146,  0.0567874 ,  0.01589773, -0.01343093],\n",
              "       [-0.08073963, -0.03355027,  0.03249758,  0.03636558, -0.00829636,\n",
              "        -0.0486115 ,  0.02222102,  0.07462671,  0.02067168, -0.01518481],\n",
              "       [-0.04516809, -0.06675808,  0.04615415,  0.05350201, -0.05727926,\n",
              "        -0.02120155,  0.03306069,  0.1075813 ,  0.02943979, -0.07933097]])"
            ]
          },
          "execution_count": 95,
          "metadata": {},
          "output_type": "execute_result"
        }
      ],
      "source": [
        "dW2 = np.dot(z1.T, dy)    \n",
        "dW2"
      ]
    },
    {
      "cell_type": "code",
      "execution_count": null,
      "id": "5f0334c2",
      "metadata": {
        "id": "5f0334c2"
      },
      "outputs": [],
      "source": [
        "dW2 = np.dot(z1.T, dy)\n",
        "db2 = np.sum(dy, axis=0)"
      ]
    },
    {
      "cell_type": "markdown",
      "id": "929b0537",
      "metadata": {
        "id": "929b0537"
      },
      "source": [
        "#### sigmoid 활성화함수에 대한 gradient도 고려해야 함."
      ]
    },
    {
      "cell_type": "code",
      "execution_count": null,
      "id": "aca53c82",
      "metadata": {
        "id": "aca53c82"
      },
      "outputs": [],
      "source": [
        "def sigmoid_grad(x):\n",
        "    return (1.0 - sigmoid(x)) * sigmoid(x)"
      ]
    },
    {
      "cell_type": "code",
      "execution_count": null,
      "id": "ad62b8f4",
      "metadata": {
        "id": "ad62b8f4"
      },
      "outputs": [],
      "source": [
        "dz1 = np.dot(dy, W2.T)\n",
        "da1 = sigmoid_grad(a1) * dz1  # A @ X -> 차원 맞추기 위해 A.T @ X -> X에 대한 미분하면 A.T만 남음 \n",
        "dW1 = np.dot(X.T, da1)\n",
        "db1 = np.sum(dz1, axis=0)"
      ]
    },
    {
      "cell_type": "markdown",
      "id": "b1c6a218",
      "metadata": {
        "id": "b1c6a218"
      },
      "source": [
        "#### 파라미터를 업데이트하는 함수 생각해보면, learning_rate도 고려해야함"
      ]
    },
    {
      "cell_type": "code",
      "execution_count": null,
      "id": "946932af",
      "metadata": {
        "id": "946932af"
      },
      "outputs": [],
      "source": [
        "learning_rate = 0.1\n",
        "\n",
        "def update_params(W1, b1, W2, b2, dW1, db1, dW2, db2, learning_rate):\n",
        "    W1 = W1 - learning_rate*dW1\n",
        "    b1 = b1 - learning_rate*db1\n",
        "    W2 = W2 - learning_rate*dW2\n",
        "    b2 = b2 - learning_rate*db2\n",
        "    return W1, b1, W2, b2"
      ]
    },
    {
      "cell_type": "markdown",
      "id": "3a7bf108",
      "metadata": {
        "id": "3a7bf108"
      },
      "source": [
        "## 오차역전파법(Backpropagation)이란❓\n",
        "- MLP를 학습시키기 위한 일반적인 알고리즘 중 하나\n",
        "> 출력층의 결과와 내가 뽑고자 하는 target 값과의 차이를 구한 뒤, \n",
        "그 오차 값을 각 레이어들을 지나며 역전파 해가며 각 노드가 가지고 있는 변수들을 갱신해 나가는 방식\n",
        "![image.png](attachment:image.png)\n",
        "\n",
        "### 이전의 affine_layer_forward(X, W, b)에 대응하여 생각해 보면 해당 레이어의 backpropagation 함수 구하기\n",
        "### ❓❓Transpose하는 이유❓❓ 뒤에서부터니까 ...\n",
        "\n",
        "## 행렬곱\n",
        "- element-wise로 구하는 것과\n",
        "- 앞에 행렬을 transpose한 후 행렬을 곱해주는 것과\n",
        "## => 결과가 같음 !!"
      ]
    },
    {
      "cell_type": "code",
      "execution_count": null,
      "id": "20a5496a",
      "metadata": {
        "id": "20a5496a"
      },
      "outputs": [],
      "source": [
        "def affine_layer_backward(dy, cache):  # 차원을 맞추기 위해 transpose함. mx1(앞에 거를 .T) @ mx1 \n",
        "    X, W, b = cache\n",
        "    dX = np.dot(dy, W.T)\n",
        "    dW = np.dot(X.T, dy)\n",
        "    db = np.sum(dy, axis=0)\n",
        "    return dX, dW, db"
      ]
    },
    {
      "cell_type": "markdown",
      "id": "b3548da5",
      "metadata": {
        "id": "b3548da5"
      },
      "source": [
        "###  Forward Propagation과 Backward Propagation "
      ]
    },
    {
      "cell_type": "code",
      "execution_count": null,
      "id": "13fff700",
      "metadata": {
        "id": "13fff700",
        "outputId": "edff59d5-5d71-445f-890b-8016d7c5ddd1"
      },
      "outputs": [
        {
          "name": "stdout",
          "output_type": "stream",
          "text": [
            "[[0.13355827 0.08937073 0.07903762 0.17384696 0.06815047 0.08435169\n",
            "  0.087697   0.07993332 0.08129333 0.12276062]\n",
            " [0.11882467 0.10742063 0.08243648 0.15224994 0.05535796 0.09389445\n",
            "  0.08158218 0.08800139 0.08903144 0.13120088]\n",
            " [0.14555393 0.09024114 0.08981381 0.15811941 0.04411773 0.10569583\n",
            "  0.07035596 0.0764035  0.09177503 0.12792365]\n",
            " [0.13869399 0.08722412 0.09352525 0.16564375 0.04750776 0.09331116\n",
            "  0.07983102 0.07081231 0.09358487 0.12986578]\n",
            " [0.13110399 0.10001777 0.08150702 0.15036312 0.04669475 0.09476586\n",
            "  0.08592356 0.07321139 0.09973281 0.13667973]]\n",
            "[[0. 0. 0. 0. 0. 1. 0. 0. 0. 0.]\n",
            " [1. 0. 0. 0. 0. 0. 0. 0. 0. 0.]\n",
            " [0. 0. 0. 0. 1. 0. 0. 0. 0. 0.]\n",
            " [0. 1. 0. 0. 0. 0. 0. 0. 0. 0.]\n",
            " [0. 0. 0. 0. 0. 0. 0. 0. 0. 1.]]\n",
            "Loss:  2.4306298702441325\n"
          ]
        }
      ],
      "source": [
        "# 파라미터 초기화\n",
        "W1 = weight_init_std * np.random.randn(input_size, hidden_size)\n",
        "b1 = np.zeros(hidden_size)\n",
        "W2 = weight_init_std * np.random.randn(hidden_size, output_size)\n",
        "b2 = np.zeros(output_size)\n",
        "\n",
        "# Forward Propagation\n",
        "a1, cache1 = affine_layer_forward(X, W1, b1)\n",
        "z1 = sigmoid(a1)\n",
        "a2, cache2 = affine_layer_forward(z1, W2, b2)\n",
        "\n",
        "# 추론과 오차(Loss) 계산\n",
        "y_hat = softmax(a2)\n",
        "t = _change_one_hot_label(Y_digit, 10)   # 정답 One-hot 인코딩\n",
        "Loss = cross_entropy_error(y_hat, t)\n",
        "\n",
        "print(y_hat)\n",
        "print(t)\n",
        "print('Loss: ', Loss)\n",
        "        \n",
        "dy = (y_hat - t) / X.shape[0]\n",
        "dz1, dW2, db2 = affine_layer_backward(dy, cache2)\n",
        "da1 = sigmoid_grad(a1) * dz1\n",
        "dX, dW1, db1 = affine_layer_backward(da1, cache1)\n",
        "\n",
        "# 경사하강법을 통한 파라미터 업데이트    \n",
        "learning_rate = 0.1\n",
        "W1, b1, W2, b2 = update_params(W1, b1, W2, b2, dW1, db1, dW2, db2, learning_rate)"
      ]
    },
    {
      "cell_type": "markdown",
      "id": "7445f983",
      "metadata": {
        "id": "7445f983"
      },
      "source": [
        "## ❓❓ 18-(6) 코드 쭉 같이 보기...❓❓❓\n",
        "어떻습니까? 모델이 추론한 확률값 y_hat이 정답의 One-hot 인코딩 t값에 조금씩 근접하는 것과, Loss가 점점 감소하는 것이 확인되십니까?"
      ]
    },
    {
      "cell_type": "code",
      "execution_count": null,
      "id": "e02e0f2b",
      "metadata": {
        "id": "e02e0f2b"
      },
      "outputs": [],
      "source": [
        "W1 = weight_init_std * np.random.randn(input_size, hidden_size)\n",
        "b1 = np.zeros(hidden_size)\n",
        "W2 = weight_init_std * np.random.randn(hidden_size, output_size)\n",
        "b2 = np.zeros(output_size)\n",
        "\n",
        "def train_step(X, Y, W1, b1, W2, b2, learning_rate=0.1, verbose=False):\n",
        "    a1, cache1 = affine_layer_forward(X, W1, b1)\n",
        "    z1 = sigmoid(a1)\n",
        "    a2, cache2 = affine_layer_forward(z1, W2, b2)\n",
        "    y_hat = softmax(a2)\n",
        "    t = _change_one_hot_label(Y, 10)\n",
        "    Loss = cross_entropy_error(y_hat, t)\n",
        "\n",
        "    if verbose:  # detailed logging information\n",
        "        print('---------')\n",
        "        print(y_hat)\n",
        "        print(t)\n",
        "        print('Loss: ', Loss)\n",
        "        \n",
        "    dy = (y_hat - t) / X.shape[0]\n",
        "    dz1, dW2, db2 = affine_layer_backward(dy, cache2)\n",
        "    da1 = sigmoid_grad(a1) * dz1\n",
        "    dX, dW1, db1 = affine_layer_backward(da1, cache1)\n",
        "    \n",
        "    W1, b1, W2, b2 = update_params(W1, b1, W2, b2, dW1, db1, dW2, db2, learning_rate)\n",
        "    \n",
        "    return W1, b1, W2, b2, Loss"
      ]
    },
    {
      "cell_type": "code",
      "execution_count": null,
      "id": "fcf5d823",
      "metadata": {
        "id": "fcf5d823",
        "outputId": "a38ce687-43af-4102-f4de-d41316b467ba"
      },
      "outputs": [
        {
          "name": "stdout",
          "output_type": "stream",
          "text": [
            "---------\n",
            "[[0.13541599 0.04925694 0.04395207 0.12844265 0.11792209 0.1110696\n",
            "  0.1747739  0.06750919 0.06892686 0.10273073]\n",
            " [0.09847429 0.05614422 0.05877643 0.1263105  0.10046291 0.12902455\n",
            "  0.18319179 0.07527702 0.07021155 0.10212673]\n",
            " [0.09714764 0.07897821 0.0566165  0.09565279 0.08840883 0.14388991\n",
            "  0.18590355 0.07657741 0.08786527 0.08895988]\n",
            " [0.10024466 0.06704977 0.05886021 0.11685711 0.09611953 0.12445802\n",
            "  0.17540062 0.06358089 0.09094407 0.10648512]\n",
            " [0.10994892 0.06889738 0.0554753  0.11288977 0.08807801 0.14169105\n",
            "  0.15797521 0.09134732 0.07446772 0.09922932]]\n",
            "[[0. 0. 0. 0. 0. 1. 0. 0. 0. 0.]\n",
            " [1. 0. 0. 0. 0. 0. 0. 0. 0. 0.]\n",
            " [0. 0. 0. 0. 1. 0. 0. 0. 0. 0.]\n",
            " [0. 1. 0. 0. 0. 0. 0. 0. 0. 0.]\n",
            " [0. 0. 0. 0. 0. 0. 0. 0. 0. 1.]]\n",
            "Loss:  2.390796692753072\n",
            "---------\n",
            "[[0.15711577 0.05934298 0.04034975 0.10685325 0.13192996 0.13199043\n",
            "  0.13473331 0.05997564 0.06055162 0.1171573 ]\n",
            " [0.11970001 0.06667368 0.05445371 0.10727431 0.11217307 0.14798179\n",
            "  0.14350553 0.06796061 0.06226274 0.11801454]\n",
            " [0.10865594 0.09242452 0.05274455 0.08245224 0.1056211  0.15902368\n",
            "  0.14787341 0.06950129 0.07919146 0.10251181]\n",
            " [0.11290769 0.08209505 0.05515599 0.1001389  0.107832   0.13981199\n",
            "  0.14049529 0.0579178  0.08240409 0.12124119]\n",
            " [0.12534349 0.08097465 0.05134662 0.0947821  0.09970119 0.15787241\n",
            "  0.12278646 0.08198369 0.06647851 0.11873088]]\n",
            "[[0. 0. 0. 0. 0. 1. 0. 0. 0. 0.]\n",
            " [1. 0. 0. 0. 0. 0. 0. 0. 0. 0.]\n",
            " [0. 0. 0. 0. 1. 0. 0. 0. 0. 0.]\n",
            " [0. 1. 0. 0. 0. 0. 0. 0. 0. 0.]\n",
            " [0. 0. 0. 0. 0. 0. 0. 0. 0. 1.]]\n",
            "Loss:  2.2052926171126463\n",
            "---------\n",
            "[[0.17383512 0.06857073 0.03636809 0.08934537 0.14180878 0.14936362\n",
            "  0.10746352 0.05264692 0.05275347 0.12784439]\n",
            " [0.13881881 0.07599188 0.04954259 0.09149053 0.12037094 0.16184663\n",
            "  0.11611502 0.06060394 0.05470269 0.13051696]\n",
            " [0.11667608 0.10439165 0.04847096 0.07151817 0.12164454 0.16866882\n",
            "  0.12161974 0.06253657 0.07092253 0.11355093]\n",
            " [0.12217065 0.09704846 0.05100839 0.08641083 0.11689679 0.15068518\n",
            "  0.11627865 0.05233324 0.07425625 0.13291155]\n",
            " [0.1368941  0.09170245 0.0468426  0.08020513 0.10879145 0.16833326\n",
            "  0.09888803 0.07295553 0.05898483 0.13640262]]\n",
            "[[0. 0. 0. 0. 0. 1. 0. 0. 0. 0.]\n",
            " [1. 0. 0. 0. 0. 0. 0. 0. 0. 0.]\n",
            " [0. 0. 0. 0. 1. 0. 0. 0. 0. 0.]\n",
            " [0. 1. 0. 0. 0. 0. 0. 0. 0. 0.]\n",
            " [0. 0. 0. 0. 0. 0. 0. 0. 0. 1.]]\n",
            "Loss:  2.0614596860657333\n",
            "---------\n",
            "[[0.18655421 0.0770247  0.03257081 0.07548559 0.14868461 0.16394859\n",
            "  0.08797569 0.04615331 0.0460116  0.1355909 ]\n",
            " [0.15608737 0.0842056  0.04477038 0.07873787 0.12593197 0.1718078\n",
            "  0.09626477 0.05392064 0.04804828 0.14022533]\n",
            " [0.12195899 0.11502247 0.04435168 0.06264704 0.13676858 0.17436531\n",
            "  0.10255902 0.05625634 0.06359794 0.12247264]\n",
            " [0.12873121 0.11194457 0.04696767 0.07531536 0.12393644 0.15818208\n",
            "  0.09858672 0.04727132 0.06700573 0.1420589 ]\n",
            " [0.14536636 0.10122261 0.04254369 0.06864499 0.11593518 0.17461197\n",
            "  0.08177049 0.06494    0.05242898 0.15253574]]\n",
            "[[0. 0. 0. 0. 0. 1. 0. 0. 0. 0.]\n",
            " [1. 0. 0. 0. 0. 0. 0. 0. 0. 0.]\n",
            " [0. 0. 0. 0. 1. 0. 0. 0. 0. 0.]\n",
            " [0. 1. 0. 0. 0. 0. 0. 0. 0. 0.]\n",
            " [0. 0. 0. 0. 0. 0. 0. 0. 0. 1.]]\n",
            "Loss:  1.9450228916327603\n",
            "---------\n",
            "[[0.19618575 0.08473957 0.02915274 0.0645131  0.15337645 0.17651706\n",
            "  0.07353212 0.04059579 0.04033425 0.14105318]\n",
            " [0.17184257 0.09137633 0.0404105  0.06845201 0.1295135  0.17895179\n",
            "  0.08135233 0.04808029 0.04235772 0.14766295]\n",
            " [0.12514712 0.12438251 0.04058603 0.05543934 0.1512289  0.17735104\n",
            "  0.0881865  0.05077389 0.05727769 0.12962698]\n",
            " [0.13319626 0.12675791 0.04323807 0.06631348 0.12941151 0.16324062\n",
            "  0.08515341 0.04282238 0.06070862 0.14915773]\n",
            " [0.15144784 0.10960701 0.03865082 0.05943731 0.12157448 0.17798557\n",
            "  0.06901758 0.05803569 0.0468332  0.1674105 ]]\n",
            "[[0. 0. 0. 0. 0. 1. 0. 0. 0. 0.]\n",
            " [1. 0. 0. 0. 0. 0. 0. 0. 0. 0.]\n",
            " [0. 0. 0. 0. 1. 0. 0. 0. 0. 0.]\n",
            " [0. 1. 0. 0. 0. 0. 0. 0. 0. 0.]\n",
            " [0. 0. 0. 0. 0. 0. 0. 0. 0. 1.]]\n",
            "Loss:  1.8474515065271588\n"
          ]
        }
      ],
      "source": [
        "X = x_train_reshaped[:5]\n",
        "Y = y_train[:5]\n",
        "\n",
        "# train_step을 다섯 번 반복 돌립니다.\n",
        "for i in range(5):\n",
        "    W1, b1, W2, b2, _ = train_step(X, Y, W1, b1, W2, b2, learning_rate=0.1, verbose=True)"
      ]
    },
    {
      "cell_type": "markdown",
      "id": "70699dc1",
      "metadata": {
        "id": "70699dc1"
      },
      "source": [
        "### ✨5번 학습한 파라미터 W1, b1, W2, b2를 가지고 숫자를 인식(Predict) 및 정확도(Accuracy) 측정"
      ]
    },
    {
      "cell_type": "code",
      "execution_count": null,
      "id": "a1740e0c",
      "metadata": {
        "id": "a1740e0c"
      },
      "outputs": [],
      "source": [
        "def predict(W1, b1, W2, b2, X):\n",
        "    a1 = np.dot(X, W1) + b1\n",
        "    z1 = sigmoid(a1)\n",
        "    a2 = np.dot(z1, W2) + b2\n",
        "    y = softmax(a2)\n",
        "\n",
        "    return y"
      ]
    },
    {
      "cell_type": "code",
      "execution_count": null,
      "id": "bc575c8e",
      "metadata": {
        "id": "bc575c8e",
        "outputId": "3ea5e48f-cc35-48f1-9db2-106cd0a69e51"
      },
      "outputs": [
        {
          "data": {
            "text/plain": [
              "array([0.20348106, 0.09171675, 0.02615062, 0.05575017, 0.15645586,\n",
              "       0.18771094, 0.06251009, 0.03589451, 0.03558744, 0.14474255])"
            ]
          },
          "execution_count": 108,
          "metadata": {},
          "output_type": "execute_result"
        }
      ],
      "source": [
        "# X = x_train[:100] 에 대해 모델 추론을 시도합니다. \n",
        "X = x_train_reshaped[:100]\n",
        "Y = y_test[:100]\n",
        "result = predict(W1, b1, W2, b2, X)\n",
        "result[0]"
      ]
    },
    {
      "cell_type": "markdown",
      "id": "49c6d6ec",
      "metadata": {
        "id": "49c6d6ec"
      },
      "source": [
        "### 추론한 결과의 정확도 계산"
      ]
    },
    {
      "cell_type": "code",
      "execution_count": null,
      "id": "21a816ed",
      "metadata": {
        "id": "21a816ed"
      },
      "outputs": [],
      "source": [
        "def accuracy(W1, b1, W2, b2, x, y):\n",
        "    y_hat = predict(W1, b1, W2, b2, x)\n",
        "    y_hat = np.argmax(y_hat, axis=1)\n",
        "\n",
        "    accuracy = np.sum(y_hat == y) / float(x.shape[0]) # 일치하는 값의 개수 / 전체 개수 \n",
        "    return accuracy"
      ]
    },
    {
      "cell_type": "code",
      "execution_count": null,
      "id": "7f7f78f6",
      "metadata": {
        "id": "7f7f78f6",
        "outputId": "98a2f22f-766a-40e6-c02b-8c68a97a93a5"
      },
      "outputs": [
        {
          "name": "stdout",
          "output_type": "stream",
          "text": [
            "[0.20348106 0.09171675 0.02615062 0.05575017 0.15645586 0.18771094\n",
            " 0.06251009 0.03589451 0.03558744 0.14474255]\n",
            "[0. 0. 0. 0. 0. 0. 0. 1. 0. 0.]\n",
            "0.1\n"
          ]
        }
      ],
      "source": [
        "acc = accuracy(W1, b1, W2, b2, X, Y)\n",
        "\n",
        "t = _change_one_hot_label(Y, 10)\n",
        "print(result[0])\n",
        "print(t[0])\n",
        "print(acc)"
      ]
    },
    {
      "cell_type": "markdown",
      "id": "f274320f",
      "metadata": {
        "id": "f274320f"
      },
      "source": [
        "## 🔮 18-(8)  Accuracy, Loss 변화 시각화\n",
        "\n",
        "### ✨ RcParams\n",
        "matplotlib.pylab의 rcParams을 이용하여 차트 그림(figure)의 기본 설정을 지정할 수 있습니다  \n",
        "https://mirandaherr.tistory.com/18\n",
        "\n",
        "#### markers\n",
        "![image.png](attachment:image.png)\n",
        "https://matplotlib.org/stable/api/markers_api.html"
      ]
    },
    {
      "cell_type": "code",
      "execution_count": null,
      "id": "e17a3a44",
      "metadata": {
        "id": "e17a3a44"
      },
      "outputs": [],
      "source": [
        ""
      ]
    },
    {
      "cell_type": "code",
      "execution_count": null,
      "id": "20849df0",
      "metadata": {
        "id": "20849df0"
      },
      "outputs": [],
      "source": [
        ""
      ]
    }
  ],
  "metadata": {
    "kernelspec": {
      "display_name": "Python 3 (ipykernel)",
      "language": "python",
      "name": "python3"
    },
    "language_info": {
      "codemirror_mode": {
        "name": "ipython",
        "version": 3
      },
      "file_extension": ".py",
      "mimetype": "text/x-python",
      "name": "python",
      "nbconvert_exporter": "python",
      "pygments_lexer": "ipython3",
      "version": "3.9.7"
    },
    "colab": {
      "name": "[F-18]Digging_into_Deep_Learning.ipynb",
      "provenance": [],
      "collapsed_sections": [
        "a1e46b9e",
        "daccc88d",
        "479ec643",
        "3f3b9720"
      ]
    }
  },
  "nbformat": 4,
  "nbformat_minor": 5
}