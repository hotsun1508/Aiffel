{
 "cells": [
  {
   "cell_type": "markdown",
   "id": "a8457199",
   "metadata": {},
   "source": [
    "# Exploration 4 - 멋진 인공지능 작사가 만들기 🎵"
   ]
  },
  {
   "cell_type": "markdown",
   "id": "b73435f5",
   "metadata": {},
   "source": [
    "### Step 1. 라이브러리 불러오기"
   ]
  },
  {
   "cell_type": "code",
   "execution_count": 105,
   "id": "ebf24073",
   "metadata": {},
   "outputs": [],
   "source": [
    "import os, re \n",
    "import numpy as np\n",
    "import tensorflow as tf"
   ]
  },
  {
   "cell_type": "markdown",
   "id": "e68c9008",
   "metadata": {},
   "source": [
    "### Step 2. 데이터 읽어오기\n",
    "- glob 를 활용하여 모든 txt 파일을 읽어온 후, raw_corpus 리스트에 문장 단위로 저장하기"
   ]
  },
  {
   "cell_type": "code",
   "execution_count": 106,
   "id": "770278de",
   "metadata": {},
   "outputs": [
    {
     "name": "stdout",
     "output_type": "stream",
     "text": [
      "데이터 크기: 187088\n",
      "Examples:\n",
      " [\"Now I've heard there was a secret chord\", 'That David played, and it pleased the Lord', \"But you don't really care for music, do you?\"]\n"
     ]
    }
   ],
   "source": [
    "import glob\n",
    "\n",
    "txt_file_path = os.getenv('HOME')+'/aiffel/lyricist/data/lyrics/*'\n",
    "\n",
    "txt_list = glob.glob(txt_file_path)\n",
    "\n",
    "raw_corpus = []\n",
    "\n",
    "# 여러개의 txt 파일을 모두 읽어서 raw_corpus 에 담습니다.\n",
    "for txt_file in txt_list:\n",
    "    with open(txt_file, \"r\") as f:\n",
    "        raw = f.read().splitlines()  # 행(줄) 단위로 담기\n",
    "        raw_corpus.extend(raw)\n",
    "\n",
    "print(\"데이터 크기:\", len(raw_corpus))\n",
    "print(\"Examples:\\n\", raw_corpus[:3])"
   ]
  },
  {
   "cell_type": "markdown",
   "id": "e6a63315",
   "metadata": {},
   "source": [
    "### Step 3. 데이터 정제하기\n",
    "<!-- \n",
    "# 입력된 문장을\n",
    "#     1. 소문자로 바꾸고, 양쪽 공백을 지웁니다\n",
    "#     2. 특수문자 양쪽에 공백을 넣고\n",
    "#     3. 여러개의 공백은 하나의 공백으로 바꿉니다\n",
    "#     4. a-zA-Z?.!,¿가 아닌 모든 문자를 하나의 공백으로 바꿉니다\n",
    "#     5. 다시 양쪽 공백을 지웁니다\n",
    "#     6. 문장 시작에는 <start>, 끝에는 <end>를 추가합니다\n",
    "# 이 순서로 처리해주면 문제가 되는 상황을 방지할 수 있겠네요! -->"
   ]
  },
  {
   "cell_type": "markdown",
   "id": "077b2895",
   "metadata": {},
   "source": [
    "토큰화하기: 정규표현식(Regex)을 이용 `import re`\n",
    "1. 문장 부호 양쪽에 공백을 추가 \n",
    "2.모든 문자들을 소문자로 변환  \n",
    "3.특수문자들은 모두 제거 "
   ]
  },
  {
   "cell_type": "code",
   "execution_count": 108,
   "id": "b9f948e2",
   "metadata": {},
   "outputs": [
    {
     "name": "stdout",
     "output_type": "stream",
     "text": [
      "<start> this is sample sentence . <end>\n"
     ]
    }
   ],
   "source": [
    "def preprocess_sentence(sentence):\n",
    "    sentence = sentence.lower().strip() # 1\n",
    "    sentence = re.sub(r\"([?.!,¿])\", r\" \\1 \", sentence) # 2\n",
    "    sentence = re.sub(r'[\" \"]+', \" \", sentence) # 3\n",
    "    sentence = re.sub(r\"[^a-zA-Z?.!,¿]+\", \" \", sentence) # 4\n",
    "    sentence = sentence.strip() # 5\n",
    "    sentence = '<start> ' + sentence + ' <end>' # \n",
    "    return sentence\n",
    "\n",
    "# 이 문장이 어떻게 필터링되는지 확인해 보세요.\n",
    "print(preprocess_sentence(\"This @_is ;;;sample        sentence.\"))"
   ]
  },
  {
   "cell_type": "markdown",
   "id": "88585b3c",
   "metadata": {},
   "source": [
    "문장을 토큰화 했을 때 토큰의 개수가 15개를 넘어가는 문장을 학습 데이터에서 제외하기"
   ]
  },
  {
   "cell_type": "code",
   "execution_count": 109,
   "id": "cddc1a33",
   "metadata": {},
   "outputs": [
    {
     "data": {
      "text/plain": [
       "['<start> now i ve heard there was a secret chord <end>',\n",
       " '<start> that david played , and it pleased the lord <end>',\n",
       " '<start> but you don t really care for music , do you ? <end>',\n",
       " '<start> it goes like this <end>',\n",
       " '<start> the fourth , the fifth <end>',\n",
       " '<start> the minor fall , the major lift <end>',\n",
       " '<start> the baffled king composing hallelujah hallelujah <end>',\n",
       " '<start> hallelujah <end>',\n",
       " '<start> hallelujah <end>',\n",
       " '<start> hallelujah your faith was strong but you needed proof <end>']"
      ]
     },
     "execution_count": 109,
     "metadata": {},
     "output_type": "execute_result"
    }
   ],
   "source": [
    "# 여기에 정제된 문장을 모을겁니다\n",
    "corpus = []\n",
    "\n",
    "for sentence in raw_corpus:\n",
    "    # 우리가 원하지 않는 문장은 건너뜁니다\n",
    "    if len(sentence) == 0: continue\n",
    "    if sentence[-1] == \":\": continue  # 문장의 끝이 : 인 문장은 건너뜁니다.\n",
    "    \n",
    "    # 정제를 하고 담아주세요\n",
    "    preprocessed_sentence = preprocess_sentence(sentence)\n",
    "    corpus.append(preprocessed_sentence)\n",
    "    \n",
    "    # 토큰의 개수가 15개를 넘어가는 문장은 제외합니다.\n",
    "    if len(preprocessed_sentence.split()) > 15: continue\n",
    "        \n",
    "# 정제된 결과를 10개만 확인해보죠\n",
    "corpus[:10]"
   ]
  },
  {
   "cell_type": "markdown",
   "id": "46d28cb6",
   "metadata": {},
   "source": [
    "벡터화(vectorize)하기\n",
    "- tf.keras.preprocessing.text.Tokenizer 패키지는 정제된 데이터를 토큰화하고, 데이터를 숫자로 변환. \n",
    "- 숫자로 변환된 데이터: 텐서(tensor)\n",
    "\n",
    "####  단어장의 크기는 12,000 이상 으로 설정\n",
    "#### 문장 길이 15로 제한: maxlen 사용"
   ]
  },
  {
   "cell_type": "code",
   "execution_count": null,
   "id": "ed99af06",
   "metadata": {},
   "outputs": [],
   "source": [
    "# 토큰화 할 때 텐서플로우의 Tokenizer와 pad_sequences를 사용합니다\n",
    "# 더 잘 알기 위해 아래 문서들을 참고하면 좋습니다\n",
    "# https://www.tensorflow.org/api_docs/python/tf/keras/preprocessing/text/Tokenizer\n",
    "# https://www.tensorflow.org/api_docs/python/tf/keras/preprocessing/sequence/pad_sequences\n",
    "def tokenize(corpus):\n",
    "    # 12000단어를 기억할 수 있는 tokenizer(단어장)를 만들겁니다\n",
    "    # 우리는 이미 문장을 정제했으니 filters가 필요없어요\n",
    "    # 12000단어에 포함되지 못한 단어는 '<unk>'로 바꿀거에요\n",
    "    tokenizer = tf.keras.preprocessing.text.Tokenizer(\n",
    "        num_words=12000,  \n",
    "        filters=' ',\n",
    "        oov_token=\"<unk>\"\n",
    "    )\n",
    "    # corpus를 이용해 tokenizer 내부의 단어장을 완성합니다 - 문자 데이터 입력 받아 리스트 형태로 반환\n",
    "    tokenizer.fit_on_texts(corpus)\n",
    "    \n",
    "    # 준비한 tokenizer를 이용해 corpus를 Tensor(시퀀스)로 변환합니다\n",
    "    tensor = tokenizer.texts_to_sequences(corpus)   \n",
    "    \n",
    "    # 입력 데이터의 시퀀스 길이를 일정하게 맞춰줍니다\n",
    "    # 만약 시퀀스가 짧다면 문장 뒤에 패딩을 붙여 길이를 맞춰줍니다.\n",
    "    # 문장 앞에 패딩을 붙여 길이를 맞추고 싶다면 padding='pre'를 사용합니다\n",
    "    tensor = tf.keras.preprocessing.sequence.pad_sequences(tensor, padding='post', maxlen=15) # maxlen 사용하여 문장길이 제한 \n",
    "    \n",
    "    print(tensor,tokenizer)\n",
    "    return tensor, tokenizer\n",
    "\n",
    "tensor, tokenizer = tokenize(corpus)"
   ]
  },
  {
   "cell_type": "markdown",
   "id": "a51ced4b",
   "metadata": {},
   "source": [
    "표준정규분포에서 95% 확률 이내로 포함하게 하는 식 사용: mean + 2*std\n",
    "- 원하는 문장 길이가 나오지 않아 사용하지 않기로 함...pass"
   ]
  },
  {
   "cell_type": "code",
   "execution_count": 131,
   "id": "557a3fbc",
   "metadata": {},
   "outputs": [
    {
     "name": "stdout",
     "output_type": "stream",
     "text": [
      "[[   2   50    5 ...    0    0    0]\n",
      " [   2   17 2639 ...    0    0    0]\n",
      " [   2   36    7 ...    0    0    0]\n",
      " ...\n",
      " [   2  130    5 ...    0    0    0]\n",
      " [ 287   79  162 ...  877  647    3]\n",
      " [   2    7   34 ...    0    0    0]] <keras_preprocessing.text.Tokenizer object at 0x7fd6be305400>\n"
     ]
    }
   ],
   "source": [
    "# # 토큰화 할 때 텐서플로우의 Tokenizer와 pad_sequences를 사용합니다\n",
    "# # 더 잘 알기 위해 아래 문서들을 참고하면 좋습니다\n",
    "# # https://www.tensorflow.org/api_docs/python/tf/keras/preprocessing/text/Tokenizer\n",
    "# # https://www.tensorflow.org/api_docs/python/tf/keras/preprocessing/sequence/pad_sequences\n",
    "# def tokenize(corpus):\n",
    "#     # 12000단어를 기억할 수 있는 tokenizer(단어장)를 만들겁니다\n",
    "#     # 우리는 이미 문장을 정제했으니 filters가 필요없어요\n",
    "#     # 12000단어에 포함되지 못한 단어는 '<unk>'로 바꿀거에요\n",
    "#     tokenizer = tf.keras.preprocessing.text.Tokenizer(\n",
    "#         num_words=12000,  \n",
    "#         filters=' ',\n",
    "#         oov_token=\"<unk>\"\n",
    "#     )\n",
    "#     # corpus를 이용해 tokenizer 내부의 단어장을 완성합니다 - 문자 데이터 입력 받아 리스트 형태로 반환\n",
    "#     tokenizer.fit_on_texts(corpus)\n",
    "    \n",
    "#     # 준비한 tokenizer를 이용해 corpus를 Tensor(시퀀스)로 변환합니다\n",
    "#     tensor = tokenizer.texts_to_sequences(corpus)   \n",
    "    \n",
    "#     # 입력 데이터의 시퀀스 길이를 일정하게 맞춰줍니다\n",
    "#     # 만약 시퀀스가 짧다면 문장 뒤에 패딩을 붙여 길이를 맞춰줍니다.\n",
    "#     # 문장 앞에 패딩을 붙여 길이를 맞추고 싶다면 padding='pre'를 사용합니다\n",
    "#     tensor = tokenizer.texts_to_sequences(corpus)   # tokenizer는 구축한 사전으로부터 corpus를 해석해 Tensor로 변환합니다.\n",
    "\n",
    "#     total_data_text = list(tensor)\n",
    "#     num_tokens = [len(tokens) for tokens in total_data_text]\n",
    "#     max_tokens = np.mean(num_tokens) + 2 * np.std(num_tokens)\n",
    "#     maxlen = int(max_tokens)\n",
    "#     # 입력 데이터의 시퀀스 길이를 일정하게 맞추기 위한 padding  메소드를 제공합니다.\n",
    "#     # maxlen의 디폴트값은 None입니다. 이 경우 corpus의 가장 긴 문장을 기준으로 시퀀스 길이가 맞춰집니다.\n",
    "#     tensor = tf.keras.preprocessing.sequence.pad_sequences(tensor, padding='post', maxlen=maxlen) # maxlen 사용하여 문장길이 제한 \n",
    "    \n",
    "#     print(tensor,tokenizer)\n",
    "#     return tensor, tokenizer\n",
    "\n",
    "# tensor, tokenizer = tokenize(corpus)"
   ]
  },
  {
   "cell_type": "code",
   "execution_count": 132,
   "id": "15a133fe",
   "metadata": {},
   "outputs": [
    {
     "name": "stdout",
     "output_type": "stream",
     "text": [
      "Now I've heard there was a secret chord\n",
      "That David played, and it pleased the Lord\n",
      "But you don't really care for music, do you?\n",
      "It goes like this\n",
      "The fourth, the fifth\n",
      "The minor fall, the major lift\n",
      "The baffled king composing Hallelujah Hallelujah\n",
      "Hallelujah\n",
      "Hallelujah\n",
      "Hallelujah Your faith was strong but you needed proof\n"
     ]
    }
   ],
   "source": [
    "for idx, sentence in enumerate(raw_corpus):\n",
    "    if len(sentence) == 0: continue   # 길이가 0인 문장은 건너뜁니다.\n",
    "    if sentence[-1] == \":\": continue  # 문장의 끝이 : 인 문장은 건너뜁니다.\n",
    "\n",
    "    if idx > 9: break   # 일단 문장 10개만 확인해 볼 겁니다.\n",
    "        \n",
    "    print(sentence)"
   ]
  },
  {
   "cell_type": "markdown",
   "id": "0c1d8432",
   "metadata": {},
   "source": [
    "생성된 텐서 데이터 5행까지 출력해보기 "
   ]
  },
  {
   "cell_type": "code",
   "execution_count": 121,
   "id": "a0dcd953",
   "metadata": {
    "scrolled": false
   },
   "outputs": [
    {
     "name": "stdout",
     "output_type": "stream",
     "text": [
      "[[   2   50    5   91  297   65   57    9  969 6042    3    0    0    0\n",
      "     0    0    0    0    0    0]\n",
      " [   2   17 2639  873    4    8   11 6043    6  329    3    0    0    0\n",
      "     0    0    0    0    0    0]\n",
      " [   2   36    7   37   15  164  282   28  299    4   47    7   43    3\n",
      "     0    0    0    0    0    0]\n",
      " [   2   11  354   25   42    3    0    0    0    0    0    0    0    0\n",
      "     0    0    0    0    0    0]\n",
      " [   2    6 3604    4    6 2265    3    0    0    0    0    0    0    0\n",
      "     0    0    0    0    0    0]]\n"
     ]
    }
   ],
   "source": [
    "# tokenizer에 구축된 단어 사전의 인덱스 출력\n",
    "print(tensor[:5, :]) "
   ]
  },
  {
   "cell_type": "markdown",
   "id": "d93698ec",
   "metadata": {},
   "source": [
    "정제된 후 텐서, 문장 크기 출력해보기"
   ]
  },
  {
   "cell_type": "code",
   "execution_count": 129,
   "id": "afffb88c",
   "metadata": {},
   "outputs": [
    {
     "name": "stdout",
     "output_type": "stream",
     "text": [
      "175749 175749\n"
     ]
    }
   ],
   "source": [
    "print(len(tensor), len(corpus))"
   ]
  },
  {
   "cell_type": "markdown",
   "id": "ccb0a2a9",
   "metadata": {},
   "source": [
    "단어 사전이 어떻게 구축되었는지 확인해보기"
   ]
  },
  {
   "cell_type": "code",
   "execution_count": 123,
   "id": "b2a9d193",
   "metadata": {
    "scrolled": true
   },
   "outputs": [
    {
     "name": "stdout",
     "output_type": "stream",
     "text": [
      "1 : <unk>\n",
      "2 : <start>\n",
      "3 : <end>\n",
      "4 : ,\n",
      "5 : i\n",
      "6 : the\n",
      "7 : you\n",
      "8 : and\n",
      "9 : a\n",
      "10 : to\n"
     ]
    }
   ],
   "source": [
    "for idx in tokenizer.index_word:\n",
    "    print(idx, \":\", tokenizer.index_word[idx])\n",
    "\n",
    "    if idx >= 10: break"
   ]
  },
  {
   "cell_type": "markdown",
   "id": "70f4212b",
   "metadata": {},
   "source": [
    " 생성된 텐서를 소스와 타겟으로 분리하기"
   ]
  },
  {
   "cell_type": "code",
   "execution_count": 124,
   "id": "82c712ec",
   "metadata": {
    "scrolled": true
   },
   "outputs": [
    {
     "name": "stdout",
     "output_type": "stream",
     "text": [
      "[   2   50    5   91  297   65   57    9  969 6042    3    0    0    0\n",
      "    0    0    0    0    0]\n",
      "[  50    5   91  297   65   57    9  969 6042    3    0    0    0    0\n",
      "    0    0    0    0    0]\n"
     ]
    }
   ],
   "source": [
    "# tensor에서 마지막 토큰을 잘라내서 소스 문장을 생성합니다\n",
    "# 마지막 토큰은 <end>가 아니라 <pad>일 가능성이 높습니다.\n",
    "src_input = tensor[:, :-1]  \n",
    "# tensor에서 <start>를 잘라내서 타겟 문장을 생성합니다.\n",
    "tgt_input = tensor[:, 1:]    \n",
    "\n",
    "print(src_input[0])\n",
    "print(tgt_input[0])"
   ]
  },
  {
   "cell_type": "markdown",
   "id": "ba60aaa7",
   "metadata": {},
   "source": [
    "텐서로 생성된 데이터를 이용해 tf.data.Dataset 객체 생성하기\n",
    "- shuffle(), batch() 등 다양한 데이터셋 관련 기능 포함"
   ]
  },
  {
   "cell_type": "code",
   "execution_count": 125,
   "id": "fd1b30ff",
   "metadata": {},
   "outputs": [
    {
     "data": {
      "text/plain": [
       "<BatchDataset shapes: ((256, 19), (256, 19)), types: (tf.int32, tf.int32)>"
      ]
     },
     "execution_count": 125,
     "metadata": {},
     "output_type": "execute_result"
    }
   ],
   "source": [
    "BUFFER_SIZE = len(src_input)\n",
    "BATCH_SIZE = 256\n",
    "steps_per_epoch = len(src_input) // BATCH_SIZE\n",
    "\n",
    " # tokenizer가 구축한 단어사전 내 12000개와, 여기 포함되지 않은 0:<pad>를 포함하여 7001개\n",
    "VOCAB_SIZE = tokenizer.num_words + 1   \n",
    "\n",
    "# 준비한 데이터 소스로부터 데이터셋을 만듭니다\n",
    "# 데이터셋에 대해서는 아래 문서를 참고하세요\n",
    "# 자세히 알아둘수록 도움이 많이 되는 중요한 문서입니다\n",
    "# https://www.tensorflow.org/api_docs/python/tf/data/Dataset\n",
    "dataset = tf.data.Dataset.from_tensor_slices((src_input, tgt_input))\n",
    "dataset = dataset.shuffle(BUFFER_SIZE)\n",
    "dataset = dataset.batch(BATCH_SIZE, drop_remainder=True)\n",
    "dataset"
   ]
  },
  {
   "cell_type": "markdown",
   "id": "8d97381f",
   "metadata": {},
   "source": [
    "### Step 4. 평가 데이터셋 분리"
   ]
  },
  {
   "cell_type": "markdown",
   "id": "d71a438c",
   "metadata": {},
   "source": [
    "#### 총 데이터의 20% 를 평가 데이터셋으로 사용"
   ]
  },
  {
   "cell_type": "code",
   "execution_count": 126,
   "id": "2f44d427",
   "metadata": {},
   "outputs": [],
   "source": [
    "from sklearn.model_selection import train_test_split"
   ]
  },
  {
   "cell_type": "code",
   "execution_count": 127,
   "id": "65bdb596",
   "metadata": {},
   "outputs": [],
   "source": [
    "enc_train, enc_val, dec_train, dec_val = train_test_split(src_input, \n",
    "                                                    tgt_input, \n",
    "                                                    test_size=0.2, \n",
    "                                                    random_state=42)"
   ]
  },
  {
   "cell_type": "code",
   "execution_count": 128,
   "id": "9c744851",
   "metadata": {},
   "outputs": [
    {
     "name": "stdout",
     "output_type": "stream",
     "text": [
      "Source Train: (140599, 19)\n",
      "Target Train: (140599, 19)\n"
     ]
    }
   ],
   "source": [
    "print(\"Source Train:\", enc_train.shape)\n",
    "print(\"Target Train:\", dec_train.shape)"
   ]
  },
  {
   "cell_type": "code",
   "execution_count": null,
   "id": "f4bfbe83",
   "metadata": {},
   "outputs": [],
   "source": []
  },
  {
   "cell_type": "code",
   "execution_count": null,
   "id": "8bf6f77a",
   "metadata": {},
   "outputs": [],
   "source": []
  },
  {
   "cell_type": "code",
   "execution_count": null,
   "id": "38641421",
   "metadata": {},
   "outputs": [],
   "source": []
  },
  {
   "cell_type": "code",
   "execution_count": null,
   "id": "3d08ba79",
   "metadata": {},
   "outputs": [],
   "source": []
  },
  {
   "cell_type": "code",
   "execution_count": 38,
   "id": "3819af44",
   "metadata": {},
   "outputs": [],
   "source": [
    "class TextGenerator(tf.keras.Model):\n",
    "    def __init__(self, vocab_size, embedding_size, hidden_size):\n",
    "        super().__init__()\n",
    "        \n",
    "        self.embedding = tf.keras.layers.Embedding(vocab_size, embedding_size)\n",
    "        self.rnn_1 = tf.keras.layers.LSTM(hidden_size, return_sequences=True)\n",
    "        self.rnn_2 = tf.keras.layers.LSTM(hidden_size, return_sequences=True)\n",
    "        self.linear = tf.keras.layers.Dense(vocab_size)\n",
    "        \n",
    "    def call(self, x):\n",
    "        out = self.embedding(x)\n",
    "        out = self.rnn_1(out)\n",
    "        out = self.rnn_2(out)\n",
    "        out = self.linear(out)\n",
    "        \n",
    "        return out\n",
    "    \n",
    "embedding_size = 256\n",
    "hidden_size = 1024\n",
    "model = TextGenerator(tokenizer.num_words + 1, embedding_size , hidden_size)"
   ]
  },
  {
   "cell_type": "code",
   "execution_count": 39,
   "id": "e526958d",
   "metadata": {
    "scrolled": true
   },
   "outputs": [
    {
     "data": {
      "text/plain": [
       "<tf.Tensor: shape=(256, 346, 7001), dtype=float32, numpy=\n",
       "array([[[-6.3422485e-05, -4.8951997e-06,  3.5519279e-05, ...,\n",
       "          1.4170856e-04, -2.1200298e-04,  3.1335570e-04],\n",
       "        [-4.9308268e-04, -2.6116701e-04, -4.3154403e-04, ...,\n",
       "          5.6984933e-04, -1.4284829e-04,  7.0104899e-04],\n",
       "        [-6.0136931e-04, -2.4247836e-04, -1.0716727e-03, ...,\n",
       "          9.2858647e-04, -2.2962558e-04,  8.4470509e-04],\n",
       "        ...,\n",
       "        [-5.5636931e-03, -2.4230885e-03, -1.7864021e-03, ...,\n",
       "          3.4318154e-03,  1.0674139e-03,  3.3829203e-03],\n",
       "        [-5.5636941e-03, -2.4230895e-03, -1.7864017e-03, ...,\n",
       "          3.4318143e-03,  1.0674150e-03,  3.3829194e-03],\n",
       "        [-5.5636941e-03, -2.4230888e-03, -1.7864020e-03, ...,\n",
       "          3.4318136e-03,  1.0674152e-03,  3.3829189e-03]],\n",
       "\n",
       "       [[-6.3422485e-05, -4.8951997e-06,  3.5519279e-05, ...,\n",
       "          1.4170856e-04, -2.1200298e-04,  3.1335570e-04],\n",
       "        [-5.5239016e-05, -3.0156266e-04, -9.3214316e-05, ...,\n",
       "          7.1466598e-06, -3.2538353e-04,  4.1483823e-04],\n",
       "        [-2.5705557e-04, -3.1792850e-04, -3.2096487e-04, ...,\n",
       "          6.4576052e-05, -4.3927855e-04,  5.2504381e-04],\n",
       "        ...,\n",
       "        [-5.5636959e-03, -2.4230892e-03, -1.7864034e-03, ...,\n",
       "          3.4318164e-03,  1.0674169e-03,  3.3829187e-03],\n",
       "        [-5.5636964e-03, -2.4230899e-03, -1.7864043e-03, ...,\n",
       "          3.4318164e-03,  1.0674165e-03,  3.3829182e-03],\n",
       "        [-5.5636964e-03, -2.4230895e-03, -1.7864039e-03, ...,\n",
       "          3.4318147e-03,  1.0674169e-03,  3.3829177e-03]],\n",
       "\n",
       "       [[-6.3422485e-05, -4.8951997e-06,  3.5519279e-05, ...,\n",
       "          1.4170856e-04, -2.1200298e-04,  3.1335570e-04],\n",
       "        [-2.0472304e-04, -4.0633669e-05,  1.5062897e-04, ...,\n",
       "          3.2037005e-04, -7.4453937e-04,  2.6215956e-04],\n",
       "        [-3.1708574e-04, -1.1073117e-06, -3.2129942e-04, ...,\n",
       "          4.4709779e-04, -1.0498160e-03,  5.0910126e-04],\n",
       "        ...,\n",
       "        [-5.5636936e-03, -2.4230885e-03, -1.7864042e-03, ...,\n",
       "          3.4318164e-03,  1.0674156e-03,  3.3829180e-03],\n",
       "        [-5.5636945e-03, -2.4230888e-03, -1.7864042e-03, ...,\n",
       "          3.4318159e-03,  1.0674153e-03,  3.3829180e-03],\n",
       "        [-5.5636936e-03, -2.4230883e-03, -1.7864036e-03, ...,\n",
       "          3.4318147e-03,  1.0674152e-03,  3.3829184e-03]],\n",
       "\n",
       "       ...,\n",
       "\n",
       "       [[-6.3422485e-05, -4.8951997e-06,  3.5519279e-05, ...,\n",
       "          1.4170856e-04, -2.1200298e-04,  3.1335570e-04],\n",
       "        [-7.3679184e-05,  6.3923748e-05,  1.7314198e-04, ...,\n",
       "          6.2040961e-04, -5.6884589e-04,  2.9428143e-04],\n",
       "        [-4.5036402e-05,  4.5550539e-04,  5.8120443e-04, ...,\n",
       "          9.3082845e-04, -7.8004855e-04,  6.6175016e-05],\n",
       "        ...,\n",
       "        [-5.5636922e-03, -2.4230892e-03, -1.7864014e-03, ...,\n",
       "          3.4318175e-03,  1.0674139e-03,  3.3829163e-03],\n",
       "        [-5.5636931e-03, -2.4230890e-03, -1.7864017e-03, ...,\n",
       "          3.4318168e-03,  1.0674141e-03,  3.3829161e-03],\n",
       "        [-5.5636941e-03, -2.4230904e-03, -1.7864014e-03, ...,\n",
       "          3.4318173e-03,  1.0674143e-03,  3.3829168e-03]],\n",
       "\n",
       "       [[-6.3422485e-05, -4.8951997e-06,  3.5519279e-05, ...,\n",
       "          1.4170856e-04, -2.1200298e-04,  3.1335570e-04],\n",
       "        [-1.2880069e-04, -7.9297650e-05, -5.6758727e-05, ...,\n",
       "          2.8836291e-04, -3.9049512e-04,  5.6723540e-04],\n",
       "        [-3.3942130e-04, -2.6407547e-04, -8.6593449e-05, ...,\n",
       "          5.8264984e-04, -1.6328793e-04,  5.0527876e-04],\n",
       "        ...,\n",
       "        [-5.5636945e-03, -2.4230899e-03, -1.7864023e-03, ...,\n",
       "          3.4318154e-03,  1.0674157e-03,  3.3829177e-03],\n",
       "        [-5.5636936e-03, -2.4230902e-03, -1.7864031e-03, ...,\n",
       "          3.4318152e-03,  1.0674153e-03,  3.3829187e-03],\n",
       "        [-5.5636931e-03, -2.4230899e-03, -1.7864030e-03, ...,\n",
       "          3.4318161e-03,  1.0674151e-03,  3.3829189e-03]],\n",
       "\n",
       "       [[-6.3422485e-05, -4.8951997e-06,  3.5519279e-05, ...,\n",
       "          1.4170856e-04, -2.1200298e-04,  3.1335570e-04],\n",
       "        [ 7.4507761e-06, -3.5825135e-05, -3.9752805e-07, ...,\n",
       "          4.9479626e-04, -6.0804097e-05,  8.2763494e-04],\n",
       "        [-6.4124615e-05,  3.3246732e-05, -5.0839613e-04, ...,\n",
       "          6.8870734e-04, -4.2437281e-05,  1.3341277e-03],\n",
       "        ...,\n",
       "        [-5.5636927e-03, -2.4230897e-03, -1.7864028e-03, ...,\n",
       "          3.4318157e-03,  1.0674149e-03,  3.3829189e-03],\n",
       "        [-5.5636936e-03, -2.4230895e-03, -1.7864029e-03, ...,\n",
       "          3.4318145e-03,  1.0674151e-03,  3.3829189e-03],\n",
       "        [-5.5636941e-03, -2.4230899e-03, -1.7864029e-03, ...,\n",
       "          3.4318157e-03,  1.0674152e-03,  3.3829194e-03]]], dtype=float32)>"
      ]
     },
     "execution_count": 39,
     "metadata": {},
     "output_type": "execute_result"
    }
   ],
   "source": [
    "# 데이터셋에서 데이터 한 배치만 불러오는 방법입니다.\n",
    "# 지금은 동작 원리에 너무 빠져들지 마세요~\n",
    "for src_sample, tgt_sample in dataset.take(1): break\n",
    "\n",
    "# 한 배치만 불러온 데이터를 모델에 넣어봅니다\n",
    "model(src_sample)"
   ]
  },
  {
   "cell_type": "code",
   "execution_count": null,
   "id": "aac1642b",
   "metadata": {},
   "outputs": [],
   "source": []
  },
  {
   "cell_type": "code",
   "execution_count": null,
   "id": "24858533",
   "metadata": {},
   "outputs": [],
   "source": []
  },
  {
   "cell_type": "code",
   "execution_count": null,
   "id": "00d2797d",
   "metadata": {},
   "outputs": [],
   "source": []
  },
  {
   "cell_type": "code",
   "execution_count": null,
   "id": "2278572b",
   "metadata": {},
   "outputs": [],
   "source": []
  },
  {
   "cell_type": "code",
   "execution_count": null,
   "id": "9165d40e",
   "metadata": {},
   "outputs": [],
   "source": []
  },
  {
   "cell_type": "code",
   "execution_count": null,
   "id": "23fdf9db",
   "metadata": {},
   "outputs": [],
   "source": []
  },
  {
   "cell_type": "code",
   "execution_count": null,
   "id": "5c99a30e",
   "metadata": {},
   "outputs": [],
   "source": []
  }
 ],
 "metadata": {
  "kernelspec": {
   "display_name": "Python 3 (ipykernel)",
   "language": "python",
   "name": "python3"
  },
  "language_info": {
   "codemirror_mode": {
    "name": "ipython",
    "version": 3
   },
   "file_extension": ".py",
   "mimetype": "text/x-python",
   "name": "python",
   "nbconvert_exporter": "python",
   "pygments_lexer": "ipython3",
   "version": "3.9.7"
  }
 },
 "nbformat": 4,
 "nbformat_minor": 5
}
