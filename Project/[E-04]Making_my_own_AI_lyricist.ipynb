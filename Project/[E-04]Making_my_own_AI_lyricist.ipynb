{
 "cells": [
  {
   "cell_type": "markdown",
   "id": "8fe781ed",
   "metadata": {},
   "source": [
    "# Exploration 4 - 멋진 인공지능 작사가 만들기 🎵"
   ]
  },
  {
   "cell_type": "markdown",
   "id": "66d0c32d",
   "metadata": {},
   "source": [
    "### Step 1. 라이브러리 불러오기"
   ]
  },
  {
   "cell_type": "code",
   "execution_count": 2,
   "id": "c1dff543",
   "metadata": {},
   "outputs": [],
   "source": [
    "import os, re \n",
    "import numpy as np\n",
    "import tensorflow as tf"
   ]
  },
  {
   "cell_type": "markdown",
   "id": "9951b980",
   "metadata": {},
   "source": [
    "### Step 2. 데이터 읽어오기\n",
    "- glob 를 활용하여 모든 txt 파일을 읽어온 후, raw_corpus 리스트에 문장 단위로 저장하기"
   ]
  },
  {
   "cell_type": "code",
   "execution_count": 3,
   "id": "c599c237",
   "metadata": {},
   "outputs": [
    {
     "name": "stdout",
     "output_type": "stream",
     "text": [
      "데이터 크기: 187088\n",
      "Examples:\n",
      " [\"Now I've heard there was a secret chord\", 'That David played, and it pleased the Lord', \"But you don't really care for music, do you?\"]\n"
     ]
    }
   ],
   "source": [
    "import glob\n",
    "\n",
    "txt_file_path = os.getenv('HOME')+'/aiffel/lyricist/data/lyrics/*'\n",
    "\n",
    "txt_list = glob.glob(txt_file_path)\n",
    "\n",
    "raw_corpus = []\n",
    "\n",
    "# 여러개의 txt 파일을 모두 읽어서 raw_corpus 에 담습니다.\n",
    "for txt_file in txt_list:\n",
    "    with open(txt_file, \"r\") as f:\n",
    "        raw = f.read().splitlines()  # 행(줄) 단위로 담기\n",
    "        raw_corpus.extend(raw)\n",
    "\n",
    "print(\"데이터 크기:\", len(raw_corpus))\n",
    "print(\"Examples:\\n\", raw_corpus[:3])"
   ]
  },
  {
   "cell_type": "markdown",
   "id": "ceaf2007",
   "metadata": {},
   "source": [
    "### Step 3. 데이터 정제하기\n",
    "<!-- \n",
    "# 입력된 문장을\n",
    "#     1. 소문자로 바꾸고, 양쪽 공백을 지웁니다\n",
    "#     2. 특수문자 양쪽에 공백을 넣고\n",
    "#     3. 여러개의 공백은 하나의 공백으로 바꿉니다\n",
    "#     4. a-zA-Z?.!,¿가 아닌 모든 문자를 하나의 공백으로 바꿉니다\n",
    "#     5. 다시 양쪽 공백을 지웁니다\n",
    "#     6. 문장 시작에는 <start>, 끝에는 <end>를 추가합니다\n",
    "# 이 순서로 처리해주면 문제가 되는 상황을 방지할 수 있겠네요! -->"
   ]
  },
  {
   "cell_type": "markdown",
   "id": "c20e16a1",
   "metadata": {},
   "source": [
    "토큰화하기: 정규표현식(Regex)을 이용 `import re`\n",
    "1. 문장 부호 양쪽에 공백을 추가 \n",
    "2.모든 문자들을 소문자로 변환  \n",
    "3.특수문자들은 모두 제거 "
   ]
  },
  {
   "cell_type": "code",
   "execution_count": 4,
   "id": "985f2680",
   "metadata": {},
   "outputs": [
    {
     "name": "stdout",
     "output_type": "stream",
     "text": [
      "<start> this is sample sentence . <end>\n"
     ]
    }
   ],
   "source": [
    "def preprocess_sentence(sentence):\n",
    "    sentence = sentence.lower().strip() # 1\n",
    "    sentence = re.sub(r\"([?.!,¿])\", r\" \\1 \", sentence) # 2\n",
    "    sentence = re.sub(r'[\" \"]+', \" \", sentence) # 3\n",
    "    sentence = re.sub(r\"[^a-zA-Z?.!,¿]+\", \" \", sentence) # 4\n",
    "    sentence = sentence.strip() # 5\n",
    "    sentence = '<start> ' + sentence + ' <end>' # \n",
    "    return sentence\n",
    "\n",
    "# 이 문장이 어떻게 필터링되는지 확인해 보세요.\n",
    "print(preprocess_sentence(\"This @_is ;;;sample        sentence.\"))"
   ]
  },
  {
   "cell_type": "markdown",
   "id": "7a6f6762",
   "metadata": {},
   "source": [
    "문장을 토큰화 했을 때 토큰의 개수가 15개를 넘어가는 문장을 학습 데이터에서 제외하기"
   ]
  },
  {
   "cell_type": "code",
   "execution_count": 5,
   "id": "3efddd44",
   "metadata": {},
   "outputs": [
    {
     "data": {
      "text/plain": [
       "['<start> now i ve heard there was a secret chord <end>',\n",
       " '<start> that david played , and it pleased the lord <end>',\n",
       " '<start> but you don t really care for music , do you ? <end>',\n",
       " '<start> it goes like this <end>',\n",
       " '<start> the fourth , the fifth <end>',\n",
       " '<start> the minor fall , the major lift <end>',\n",
       " '<start> the baffled king composing hallelujah hallelujah <end>',\n",
       " '<start> hallelujah <end>',\n",
       " '<start> hallelujah <end>',\n",
       " '<start> hallelujah your faith was strong but you needed proof <end>']"
      ]
     },
     "execution_count": 5,
     "metadata": {},
     "output_type": "execute_result"
    }
   ],
   "source": [
    "# 여기에 정제된 문장을 모을겁니다\n",
    "corpus = []\n",
    "\n",
    "for sentence in raw_corpus:\n",
    "    # 우리가 원하지 않는 문장은 건너뜁니다\n",
    "    if len(sentence) == 0: continue\n",
    "    if sentence[-1] == \":\": continue  # 문장의 끝이 : 인 문장은 건너뜁니다.\n",
    "    \n",
    "    # 정제를 하고 담아주세요\n",
    "    preprocessed_sentence = preprocess_sentence(sentence)\n",
    "    corpus.append(preprocessed_sentence)\n",
    "    \n",
    "    # 토큰의 개수가 15개를 넘어가는 문장은 제외합니다.\n",
    "    if len(preprocessed_sentence.split()) > 15: continue\n",
    "        \n",
    "# 정제된 결과를 10개만 확인해보죠\n",
    "corpus[:10]"
   ]
  },
  {
   "cell_type": "markdown",
   "id": "f96a4473",
   "metadata": {},
   "source": [
    "벡터화(vectorize)하기\n",
    "- tf.keras.preprocessing.text.Tokenizer 패키지는 정제된 데이터를 토큰화하고, 데이터를 숫자로 변환. \n",
    "- 숫자로 변환된 데이터: 텐서(tensor)\n",
    "\n",
    "####  단어장의 크기는 12,000 이상 으로 설정\n",
    "#### 문장 길이 15로 제한: maxlen 사용"
   ]
  },
  {
   "cell_type": "code",
   "execution_count": 6,
   "id": "c5f4a6e4",
   "metadata": {},
   "outputs": [
    {
     "name": "stdout",
     "output_type": "stream",
     "text": [
      "[[   2   50    5 ...    0    0    0]\n",
      " [   2   17 2639 ...    0    0    0]\n",
      " [   2   36    7 ...   43    3    0]\n",
      " ...\n",
      " [   5   22    9 ...   10 1013    3]\n",
      " [  37   15 9049 ...  877  647    3]\n",
      " [   2    7   34 ...    0    0    0]] <keras_preprocessing.text.Tokenizer object at 0x7f08c46f0700>\n"
     ]
    }
   ],
   "source": [
    "# 토큰화 할 때 텐서플로우의 Tokenizer와 pad_sequences를 사용합니다\n",
    "# 더 잘 알기 위해 아래 문서들을 참고하면 좋습니다\n",
    "# https://www.tensorflow.org/api_docs/python/tf/keras/preprocessing/text/Tokenizer\n",
    "# https://www.tensorflow.org/api_docs/python/tf/keras/preprocessing/sequence/pad_sequences\n",
    "def tokenize(corpus):\n",
    "    # 12000단어를 기억할 수 있는 tokenizer(단어장)를 만들겁니다\n",
    "    # 우리는 이미 문장을 정제했으니 filters가 필요없어요\n",
    "    # 12000단어에 포함되지 못한 단어는 '<unk>'로 바꿀거에요\n",
    "    tokenizer = tf.keras.preprocessing.text.Tokenizer(\n",
    "        num_words=12000,  \n",
    "        filters=' ',\n",
    "        oov_token=\"<unk>\"\n",
    "    )\n",
    "    # corpus를 이용해 tokenizer 내부의 단어장을 완성합니다 - 문자 데이터 입력 받아 리스트 형태로 반환\n",
    "    tokenizer.fit_on_texts(corpus)\n",
    "    \n",
    "    # 준비한 tokenizer를 이용해 corpus를 Tensor(시퀀스)로 변환합니다\n",
    "    tensor = tokenizer.texts_to_sequences(corpus)   \n",
    "    \n",
    "    # 입력 데이터의 시퀀스 길이를 일정하게 맞춰줍니다\n",
    "    # 만약 시퀀스가 짧다면 문장 뒤에 패딩을 붙여 길이를 맞춰줍니다.\n",
    "    # 문장 앞에 패딩을 붙여 길이를 맞추고 싶다면 padding='pre'를 사용합니다\n",
    "    tensor = tf.keras.preprocessing.sequence.pad_sequences(tensor, padding='post', maxlen=15) # maxlen 사용하여 문장길이 제한 \n",
    "    \n",
    "    print(tensor,tokenizer)\n",
    "    return tensor, tokenizer\n",
    "\n",
    "tensor, tokenizer = tokenize(corpus)"
   ]
  },
  {
   "cell_type": "markdown",
   "id": "d3543cec",
   "metadata": {},
   "source": [
    "표준정규분포에서 95% 확률 이내로 포함하게 하는 식 사용: mean + 2*std\n",
    "- 원하는 문장 길이가 나오지 않아 사용하지 않기로 함...pass"
   ]
  },
  {
   "cell_type": "code",
   "execution_count": 131,
   "id": "1dbf65c7",
   "metadata": {},
   "outputs": [
    {
     "name": "stdout",
     "output_type": "stream",
     "text": [
      "[[   2   50    5 ...    0    0    0]\n",
      " [   2   17 2639 ...    0    0    0]\n",
      " [   2   36    7 ...    0    0    0]\n",
      " ...\n",
      " [   2  130    5 ...    0    0    0]\n",
      " [ 287   79  162 ...  877  647    3]\n",
      " [   2    7   34 ...    0    0    0]] <keras_preprocessing.text.Tokenizer object at 0x7fd6be305400>\n"
     ]
    }
   ],
   "source": [
    "# # 토큰화 할 때 텐서플로우의 Tokenizer와 pad_sequences를 사용합니다\n",
    "# # 더 잘 알기 위해 아래 문서들을 참고하면 좋습니다\n",
    "# # https://www.tensorflow.org/api_docs/python/tf/keras/preprocessing/text/Tokenizer\n",
    "# # https://www.tensorflow.org/api_docs/python/tf/keras/preprocessing/sequence/pad_sequences\n",
    "# def tokenize(corpus):\n",
    "#     # 12000단어를 기억할 수 있는 tokenizer(단어장)를 만들겁니다\n",
    "#     # 우리는 이미 문장을 정제했으니 filters가 필요없어요\n",
    "#     # 12000단어에 포함되지 못한 단어는 '<unk>'로 바꿀거에요\n",
    "#     tokenizer = tf.keras.preprocessing.text.Tokenizer(\n",
    "#         num_words=12000,  \n",
    "#         filters=' ',\n",
    "#         oov_token=\"<unk>\"\n",
    "#     )\n",
    "#     # corpus를 이용해 tokenizer 내부의 단어장을 완성합니다 - 문자 데이터 입력 받아 리스트 형태로 반환\n",
    "#     tokenizer.fit_on_texts(corpus)\n",
    "    \n",
    "#     # 준비한 tokenizer를 이용해 corpus를 Tensor(시퀀스)로 변환합니다\n",
    "#     tensor = tokenizer.texts_to_sequences(corpus)   \n",
    "    \n",
    "#     # 입력 데이터의 시퀀스 길이를 일정하게 맞춰줍니다\n",
    "#     # 만약 시퀀스가 짧다면 문장 뒤에 패딩을 붙여 길이를 맞춰줍니다.\n",
    "#     # 문장 앞에 패딩을 붙여 길이를 맞추고 싶다면 padding='pre'를 사용합니다\n",
    "#     tensor = tokenizer.texts_to_sequences(corpus)   # tokenizer는 구축한 사전으로부터 corpus를 해석해 Tensor로 변환합니다.\n",
    "\n",
    "#     total_data_text = list(tensor)\n",
    "#     num_tokens = [len(tokens) for tokens in total_data_text]\n",
    "#     max_tokens = np.mean(num_tokens) + 2 * np.std(num_tokens)\n",
    "#     maxlen = int(max_tokens)\n",
    "#     # 입력 데이터의 시퀀스 길이를 일정하게 맞추기 위한 padding  메소드를 제공합니다.\n",
    "#     # maxlen의 디폴트값은 None입니다. 이 경우 corpus의 가장 긴 문장을 기준으로 시퀀스 길이가 맞춰집니다.\n",
    "#     tensor = tf.keras.preprocessing.sequence.pad_sequences(tensor, padding='post', maxlen=maxlen) # maxlen 사용하여 문장길이 제한 \n",
    "    \n",
    "#     print(tensor,tokenizer)\n",
    "#     return tensor, tokenizer\n",
    "\n",
    "# tensor, tokenizer = tokenize(corpus)"
   ]
  },
  {
   "cell_type": "code",
   "execution_count": 7,
   "id": "cd122e36",
   "metadata": {
    "scrolled": true
   },
   "outputs": [
    {
     "name": "stdout",
     "output_type": "stream",
     "text": [
      "Now I've heard there was a secret chord\n",
      "That David played, and it pleased the Lord\n",
      "But you don't really care for music, do you?\n",
      "It goes like this\n",
      "The fourth, the fifth\n",
      "The minor fall, the major lift\n",
      "The baffled king composing Hallelujah Hallelujah\n",
      "Hallelujah\n",
      "Hallelujah\n",
      "Hallelujah Your faith was strong but you needed proof\n"
     ]
    }
   ],
   "source": [
    "for idx, sentence in enumerate(raw_corpus):\n",
    "    if len(sentence) == 0: continue   # 길이가 0인 문장은 건너뜁니다.\n",
    "    if sentence[-1] == \":\": continue  # 문장의 끝이 : 인 문장은 건너뜁니다.\n",
    "\n",
    "    if idx > 9: break   # 일단 문장 10개만 확인해 볼 겁니다.\n",
    "        \n",
    "    print(sentence)"
   ]
  },
  {
   "cell_type": "markdown",
   "id": "3f9d8754",
   "metadata": {},
   "source": [
    "생성된 텐서 데이터 5행까지 출력해보기 "
   ]
  },
  {
   "cell_type": "code",
   "execution_count": 8,
   "id": "adb925e2",
   "metadata": {
    "scrolled": false
   },
   "outputs": [
    {
     "name": "stdout",
     "output_type": "stream",
     "text": [
      "[[   2   50    5   91  297   65   57    9  969 6042    3    0    0    0\n",
      "     0]\n",
      " [   2   17 2639  873    4    8   11 6043    6  329    3    0    0    0\n",
      "     0]\n",
      " [   2   36    7   37   15  164  282   28  299    4   47    7   43    3\n",
      "     0]\n",
      " [   2   11  354   25   42    3    0    0    0    0    0    0    0    0\n",
      "     0]\n",
      " [   2    6 3604    4    6 2265    3    0    0    0    0    0    0    0\n",
      "     0]]\n"
     ]
    }
   ],
   "source": [
    "# tokenizer에 구축된 단어 사전의 인덱스 출력\n",
    "print(tensor[:5, :]) "
   ]
  },
  {
   "cell_type": "markdown",
   "id": "ce3e3d79",
   "metadata": {},
   "source": [
    "정제된 후 텐서, 문장 크기 출력해보기"
   ]
  },
  {
   "cell_type": "code",
   "execution_count": 9,
   "id": "22933b53",
   "metadata": {},
   "outputs": [
    {
     "name": "stdout",
     "output_type": "stream",
     "text": [
      "175749 175749\n"
     ]
    }
   ],
   "source": [
    "print(len(tensor), len(corpus))"
   ]
  },
  {
   "cell_type": "markdown",
   "id": "33d75f98",
   "metadata": {},
   "source": [
    "단어 사전이 어떻게 구축되었는지 확인해보기"
   ]
  },
  {
   "cell_type": "code",
   "execution_count": 10,
   "id": "db0f9f6f",
   "metadata": {
    "scrolled": true
   },
   "outputs": [
    {
     "name": "stdout",
     "output_type": "stream",
     "text": [
      "1 : <unk>\n",
      "2 : <start>\n",
      "3 : <end>\n",
      "4 : ,\n",
      "5 : i\n",
      "6 : the\n",
      "7 : you\n",
      "8 : and\n",
      "9 : a\n",
      "10 : to\n"
     ]
    }
   ],
   "source": [
    "for idx in tokenizer.index_word:\n",
    "    print(idx, \":\", tokenizer.index_word[idx])\n",
    "\n",
    "    if idx >= 10: break"
   ]
  },
  {
   "cell_type": "markdown",
   "id": "374c1629",
   "metadata": {},
   "source": [
    " 생성된 텐서를 소스와 타겟으로 분리하기"
   ]
  },
  {
   "cell_type": "code",
   "execution_count": 11,
   "id": "edd8d9ea",
   "metadata": {
    "scrolled": true
   },
   "outputs": [
    {
     "name": "stdout",
     "output_type": "stream",
     "text": [
      "[   2   50    5   91  297   65   57    9  969 6042    3    0    0    0]\n",
      "[  50    5   91  297   65   57    9  969 6042    3    0    0    0    0]\n"
     ]
    }
   ],
   "source": [
    "# tensor에서 마지막 토큰을 잘라내서 소스 문장을 생성합니다\n",
    "# 마지막 토큰은 <end>가 아니라 <pad>일 가능성이 높습니다.\n",
    "src_input = tensor[:, :-1]  \n",
    "# tensor에서 <start>를 잘라내서 타겟 문장을 생성합니다.\n",
    "tgt_input = tensor[:, 1:]    \n",
    "\n",
    "print(src_input[0])\n",
    "print(tgt_input[0])"
   ]
  },
  {
   "cell_type": "markdown",
   "id": "03ffa1d6",
   "metadata": {},
   "source": [
    "텐서로 생성된 데이터를 이용해 tf.data.Dataset 객체 생성하기\n",
    "- shuffle(), batch() 등 다양한 데이터셋 관련 기능 포함"
   ]
  },
  {
   "cell_type": "code",
   "execution_count": 12,
   "id": "46746353",
   "metadata": {},
   "outputs": [
    {
     "data": {
      "text/plain": [
       "<BatchDataset shapes: ((256, 14), (256, 14)), types: (tf.int32, tf.int32)>"
      ]
     },
     "execution_count": 12,
     "metadata": {},
     "output_type": "execute_result"
    }
   ],
   "source": [
    "BUFFER_SIZE = len(src_input)\n",
    "BATCH_SIZE = 256\n",
    "steps_per_epoch = len(src_input) // BATCH_SIZE\n",
    "\n",
    " # tokenizer가 구축한 단어사전 내 12000개와, 여기 포함되지 않은 0:<pad>를 포함하여 7001개\n",
    "VOCAB_SIZE = tokenizer.num_words + 1   \n",
    "\n",
    "# 준비한 데이터 소스로부터 데이터셋을 만듭니다\n",
    "# 데이터셋에 대해서는 아래 문서를 참고하세요\n",
    "# 자세히 알아둘수록 도움이 많이 되는 중요한 문서입니다\n",
    "# https://www.tensorflow.org/api_docs/python/tf/data/Dataset\n",
    "dataset = tf.data.Dataset.from_tensor_slices((src_input, tgt_input))\n",
    "dataset = dataset.shuffle(BUFFER_SIZE)\n",
    "dataset = dataset.batch(BATCH_SIZE, drop_remainder=True)\n",
    "dataset"
   ]
  },
  {
   "cell_type": "markdown",
   "id": "f6fce242",
   "metadata": {},
   "source": [
    "### Step 4. 평가 데이터셋 분리\n",
    "- 총 데이터의 20% 를 평가 데이터셋으로 사용"
   ]
  },
  {
   "cell_type": "code",
   "execution_count": 13,
   "id": "e7b9ece8",
   "metadata": {},
   "outputs": [],
   "source": [
    "from sklearn.model_selection import train_test_split"
   ]
  },
  {
   "cell_type": "code",
   "execution_count": 14,
   "id": "15da5d39",
   "metadata": {},
   "outputs": [],
   "source": [
    "enc_train, enc_val, dec_train, dec_val = train_test_split(src_input, \n",
    "                                                    tgt_input, \n",
    "                                                    test_size=0.2, \n",
    "                                                    random_state=42)"
   ]
  },
  {
   "cell_type": "code",
   "execution_count": 15,
   "id": "f097c7db",
   "metadata": {},
   "outputs": [
    {
     "name": "stdout",
     "output_type": "stream",
     "text": [
      "Source Train: (140599, 14)\n",
      "Target Train: (140599, 14)\n"
     ]
    }
   ],
   "source": [
    "print(\"Source Train:\", enc_train.shape)\n",
    "print(\"Target Train:\", dec_train.shape)"
   ]
  },
  {
   "cell_type": "markdown",
   "id": "586081c5",
   "metadata": {},
   "source": [
    "### Step 5. 인공지능 만들기\n",
    "\n",
    "- 모델의 Embedding Size와 Hidden Size를 조절하며 10 Epoch 안에 val_loss 값을 2.2 수준으로 줄일 수 있는 모델을 설계하세요! (Loss는 아래 제시된 Loss 함수를 그대로 사용!)"
   ]
  },
  {
   "cell_type": "markdown",
   "id": "4e56cfc6",
   "metadata": {},
   "source": [
    "model에 데이터를 아주 조금 태워 보기"
   ]
  },
  {
   "cell_type": "code",
   "execution_count": 27,
   "id": "af3e0924",
   "metadata": {},
   "outputs": [],
   "source": [
    "class TextGenerator(tf.keras.Model):\n",
    "    def __init__(self, vocab_size, embedding_size, hidden_size):\n",
    "        super().__init__()\n",
    "        \n",
    "        self.embedding = tf.keras.layers.Embedding(vocab_size, embedding_size)\n",
    "        self.rnn_1 = tf.keras.layers.LSTM(hidden_size, return_sequences=True)\n",
    "        self.rnn_2 = tf.keras.layers.LSTM(hidden_size, return_sequences=True)\n",
    "        self.linear = tf.keras.layers.Dense(vocab_size)\n",
    "        \n",
    "    def call(self, x):\n",
    "        out = self.embedding(x)\n",
    "        out = self.rnn_1(out)\n",
    "        out = self.rnn_2(out)\n",
    "        out = self.linear(out)\n",
    "        \n",
    "        return out\n",
    "    \n",
    "embedding_size = 256  # 값이 커질수록 단어의 추상적인 특징들을 더 잡아낼 수 있지만, 데이터 양이 충분해야함\n",
    "hidden_size = 1024   # 모델에 얼마나 많은 일꾼을 둘 것인가, 충분한 데이터가 주어져야 배가 산으로 가지 않음\n",
    "lyricist = TextGenerator(tokenizer.num_words + 1, embedding_size , hidden_size)"
   ]
  },
  {
   "cell_type": "code",
   "execution_count": 28,
   "id": "147cf5ee",
   "metadata": {
    "scrolled": true
   },
   "outputs": [
    {
     "data": {
      "text/plain": [
       "<tf.Tensor: shape=(256, 14, 12001), dtype=float32, numpy=\n",
       "array([[[ 4.38058487e-05, -1.41151359e-05,  3.74462325e-05, ...,\n",
       "          1.67248116e-04, -7.33670095e-05,  2.41298239e-05],\n",
       "        [ 1.92506734e-04, -4.78628717e-05, -8.75482147e-06, ...,\n",
       "          2.75178929e-04, -2.35268191e-04,  7.68402315e-05],\n",
       "        [ 3.00841435e-04, -1.15203671e-04,  5.58416759e-05, ...,\n",
       "          3.57482641e-04, -4.23312071e-04,  2.58713815e-04],\n",
       "        ...,\n",
       "        [-1.58602124e-04,  1.32800557e-03,  2.81016750e-04, ...,\n",
       "          8.03975854e-04, -3.26197757e-03,  4.60826937e-04],\n",
       "        [-2.51955091e-04,  1.51020614e-03,  2.31753394e-04, ...,\n",
       "          8.88120907e-04, -3.66782234e-03,  4.76644986e-04],\n",
       "        [-3.19709565e-04,  1.68129103e-03,  1.69322011e-04, ...,\n",
       "          9.86161525e-04, -4.04058862e-03,  4.76385118e-04]],\n",
       "\n",
       "       [[-2.39931069e-05,  6.45242180e-05,  2.20165442e-04, ...,\n",
       "          8.66469272e-05,  4.04357794e-04, -1.48011328e-04],\n",
       "        [ 2.57065898e-04,  8.17377222e-05,  5.02168143e-04, ...,\n",
       "          1.95804369e-05,  3.81790422e-04,  5.07867808e-05],\n",
       "        [ 4.69658058e-04,  1.70197571e-04,  5.72694524e-04, ...,\n",
       "         -6.07755919e-06,  4.61100353e-05, -3.60691774e-05],\n",
       "        ...,\n",
       "        [ 1.36265229e-03,  1.03788765e-03, -2.98538525e-05, ...,\n",
       "          1.15131564e-03, -3.23101413e-04, -2.00723251e-03],\n",
       "        [ 1.33644009e-03,  1.03324675e-03,  1.42255347e-04, ...,\n",
       "          1.24877749e-03, -2.34339197e-04, -1.85201736e-03],\n",
       "        [ 1.19692821e-03,  1.22630806e-03,  6.75812189e-05, ...,\n",
       "          1.31989096e-03, -2.68889089e-05, -1.57527672e-03]],\n",
       "\n",
       "       [[ 4.38058487e-05, -1.41151359e-05,  3.74462325e-05, ...,\n",
       "          1.67248116e-04, -7.33670095e-05,  2.41298239e-05],\n",
       "        [ 1.64926212e-04, -3.79555313e-05, -1.54542839e-04, ...,\n",
       "          3.08767078e-04, -1.08759297e-04, -1.84011995e-04],\n",
       "        [ 3.30348237e-04, -1.49961314e-04, -2.68836768e-04, ...,\n",
       "          2.81122251e-04, -2.32382896e-04, -3.51499504e-04],\n",
       "        ...,\n",
       "        [-4.24713595e-04,  4.01146332e-04, -5.63766007e-05, ...,\n",
       "          3.35705408e-04, -1.37110439e-03, -5.47380594e-04],\n",
       "        [-4.26954794e-04,  6.67229062e-04,  3.93198388e-06, ...,\n",
       "          3.91852693e-04, -1.95711013e-03, -3.67306377e-04],\n",
       "        [-4.35115013e-04,  9.22292587e-04,  3.80551537e-05, ...,\n",
       "          4.75426030e-04, -2.52614450e-03, -2.09242178e-04]],\n",
       "\n",
       "       ...,\n",
       "\n",
       "       [[ 4.38058487e-05, -1.41151359e-05,  3.74462325e-05, ...,\n",
       "          1.67248116e-04, -7.33670095e-05,  2.41298239e-05],\n",
       "        [ 3.05218331e-04, -1.73579538e-04,  1.86999518e-04, ...,\n",
       "          2.39853136e-04, -1.48957799e-04,  7.61813499e-05],\n",
       "        [ 5.46724768e-04, -3.65278742e-04,  2.74151273e-04, ...,\n",
       "          1.55650225e-04, -3.32203228e-04,  1.93729666e-05],\n",
       "        ...,\n",
       "        [ 1.33474707e-04,  1.30361866e-03,  1.95148561e-04, ...,\n",
       "          6.18808845e-04, -3.36643099e-03,  2.94925587e-04],\n",
       "        [ 8.61898297e-06,  1.51313993e-03,  1.51879212e-04, ...,\n",
       "          7.39405805e-04, -3.81672569e-03,  3.05954163e-04],\n",
       "        [-9.02975735e-05,  1.70134823e-03,  9.86649902e-05, ...,\n",
       "          8.67937342e-04, -4.21368657e-03,  3.08679213e-04]],\n",
       "\n",
       "       [[ 4.38058487e-05, -1.41151359e-05,  3.74462325e-05, ...,\n",
       "          1.67248116e-04, -7.33670095e-05,  2.41298239e-05],\n",
       "        [-1.34812915e-04, -9.07376580e-06,  2.18921283e-04, ...,\n",
       "          1.43181911e-04,  8.83118919e-05,  7.76999514e-05],\n",
       "        [-5.98350889e-05,  8.58471249e-05,  2.78059015e-04, ...,\n",
       "          3.91475478e-04,  2.02990544e-04, -1.41229757e-04],\n",
       "        ...,\n",
       "        [ 2.06500571e-03,  8.55451392e-04,  5.89411589e-04, ...,\n",
       "          2.27642152e-03, -8.26864445e-04, -1.12141459e-03],\n",
       "        [ 1.99096603e-03,  8.36708292e-04,  6.81694655e-04, ...,\n",
       "          2.43886095e-03, -5.71921235e-04, -1.13742938e-03],\n",
       "        [ 1.84968137e-03,  8.18694651e-04,  5.86559530e-04, ...,\n",
       "          2.26785732e-03, -3.92197631e-04, -1.27012213e-03]],\n",
       "\n",
       "       [[ 4.38058487e-05, -1.41151359e-05,  3.74462325e-05, ...,\n",
       "          1.67248116e-04, -7.33670095e-05,  2.41298239e-05],\n",
       "        [-2.53323698e-04, -5.63335343e-05,  1.27020438e-04, ...,\n",
       "          2.43677932e-04,  1.37714276e-04, -6.28152702e-05],\n",
       "        [-4.28599975e-04, -1.69570209e-04,  4.85889526e-04, ...,\n",
       "          1.70233747e-04,  1.12699185e-04, -9.72027119e-05],\n",
       "        ...,\n",
       "        [-9.31040995e-05,  1.04034378e-03, -1.72992717e-04, ...,\n",
       "          1.51972985e-04, -1.92314899e-03,  4.18495125e-04],\n",
       "        [-1.02824211e-04,  1.15599937e-03, -1.28007872e-04, ...,\n",
       "          2.61390203e-04, -2.40252702e-03,  4.58336610e-04],\n",
       "        [-1.34945643e-04,  1.29098725e-03, -1.02124999e-04, ...,\n",
       "          3.83664854e-04, -2.87466985e-03,  4.82438016e-04]]],\n",
       "      dtype=float32)>"
      ]
     },
     "execution_count": 28,
     "metadata": {},
     "output_type": "execute_result"
    }
   ],
   "source": [
    "# 데이터셋에서 데이터 한 배치만 불러오는 방법입니다.\n",
    "# 지금은 동작 원리에 너무 빠져들지 마세요~\n",
    "for src_sample, tgt_sample in dataset.take(1): break\n",
    "\n",
    "# 한 배치만 불러온 데이터를 모델에 넣어봅니다\n",
    "lyricist(src_sample)"
   ]
  },
  {
   "cell_type": "markdown",
   "id": "0e34c8cf",
   "metadata": {},
   "source": [
    "- 모델의 파라미터 사이즈 측정 --> 대략 29million\n",
    "- 입력 시퀀스의 길이를 모르기 때문에 Output Shape를 특정할 수 없"
   ]
  },
  {
   "cell_type": "code",
   "execution_count": 29,
   "id": "16525836",
   "metadata": {},
   "outputs": [
    {
     "name": "stdout",
     "output_type": "stream",
     "text": [
      "Model: \"text_generator_1\"\n",
      "_________________________________________________________________\n",
      "Layer (type)                 Output Shape              Param #   \n",
      "=================================================================\n",
      "embedding_1 (Embedding)      multiple                  3072256   \n",
      "_________________________________________________________________\n",
      "lstm_2 (LSTM)                multiple                  5246976   \n",
      "_________________________________________________________________\n",
      "lstm_3 (LSTM)                multiple                  8392704   \n",
      "_________________________________________________________________\n",
      "dense_1 (Dense)              multiple                  12301025  \n",
      "=================================================================\n",
      "Total params: 29,012,961\n",
      "Trainable params: 29,012,961\n",
      "Non-trainable params: 0\n",
      "_________________________________________________________________\n"
     ]
    }
   ],
   "source": [
    "lyricist.summary()"
   ]
  },
  {
   "cell_type": "code",
   "execution_count": 30,
   "id": "63d3fa19",
   "metadata": {},
   "outputs": [
    {
     "name": "stdout",
     "output_type": "stream",
     "text": [
      "Epoch 1/10\n",
      "686/686 [==============================] - 124s 178ms/step - loss: 3.6171\n",
      "Epoch 2/10\n",
      "686/686 [==============================] - 123s 178ms/step - loss: 3.1302\n",
      "Epoch 3/10\n",
      "686/686 [==============================] - 122s 178ms/step - loss: 2.9331\n",
      "Epoch 4/10\n",
      "686/686 [==============================] - 123s 179ms/step - loss: 2.7785\n",
      "Epoch 5/10\n",
      "686/686 [==============================] - 123s 179ms/step - loss: 2.6446\n",
      "Epoch 6/10\n",
      "686/686 [==============================] - 123s 179ms/step - loss: 2.5225\n",
      "Epoch 7/10\n",
      "686/686 [==============================] - 123s 179ms/step - loss: 2.4094\n",
      "Epoch 8/10\n",
      "686/686 [==============================] - 123s 179ms/step - loss: 2.3033\n",
      "Epoch 9/10\n",
      "686/686 [==============================] - 123s 179ms/step - loss: 2.2033\n",
      "Epoch 10/10\n",
      "686/686 [==============================] - 123s 179ms/step - loss: 2.1070\n"
     ]
    },
    {
     "data": {
      "text/plain": [
       "<keras.callbacks.History at 0x7f07a57283a0>"
      ]
     },
     "execution_count": 30,
     "metadata": {},
     "output_type": "execute_result"
    }
   ],
   "source": [
    "optimizer = tf.keras.optimizers.Adam()\n",
    "\n",
    "#Loss\n",
    "loss = tf.keras.losses.SparseCategoricalCrossentropy(\n",
    "    from_logits=True,\n",
    "    reduction='none'\n",
    ")\n",
    "\n",
    "lyricist.compile(loss=loss, optimizer=optimizer)\n",
    "lyricist.fit(dataset, epochs=10)"
   ]
  },
  {
   "cell_type": "markdown",
   "id": "cf011c1c",
   "metadata": {},
   "source": [
    "모델이 생성한 가사 한 줄 출력"
   ]
  },
  {
   "cell_type": "code",
   "execution_count": 31,
   "id": "8dbb8868",
   "metadata": {},
   "outputs": [],
   "source": [
    "def generate_text(lyricist, tokenizer, init_sentence=\"<start>\", max_len=20):\n",
    "    # 테스트를 위해서 입력받은 init_sentence도 텐서로 변환합니다\n",
    "    test_input = tokenizer.texts_to_sequences([init_sentence])\n",
    "    test_tensor = tf.convert_to_tensor(test_input, dtype=tf.int64)\n",
    "    end_token = tokenizer.word_index[\"<end>\"]\n",
    "\n",
    "    # 단어 하나씩 예측해 문장을 만듭니다\n",
    "    #    1. 입력받은 문장의 텐서를 입력합니다\n",
    "    #    2. 예측된 값 중 가장 높은 확률인 word index를 뽑아냅니다\n",
    "    #    3. 2에서 예측된 word index를 문장 뒤에 붙입니다\n",
    "    #    4. 모델이 <end>를 예측했거나, max_len에 도달했다면 문장 생성을 마칩니다\n",
    "    while True:\n",
    "        # 1\n",
    "        predict = lyricist(test_tensor) \n",
    "        # 2\n",
    "        predict_word = tf.argmax(tf.nn.softmax(predict, axis=-1), axis=-1)[:, -1] \n",
    "        # 3 \n",
    "        test_tensor = tf.concat([test_tensor, tf.expand_dims(predict_word, axis=0)], axis=-1)\n",
    "        # 4\n",
    "        if predict_word.numpy()[0] == end_token: break\n",
    "        if test_tensor.shape[1] >= max_len: break\n",
    "\n",
    "    generated = \"\"\n",
    "    # tokenizer를 이용해 word index를 단어로 하나씩 변환합니다 \n",
    "    for word_index in test_tensor[0].numpy():\n",
    "        generated += tokenizer.index_word[word_index] + \" \"\n",
    "\n",
    "    return generated"
   ]
  },
  {
   "cell_type": "code",
   "execution_count": 32,
   "id": "bcd8324f",
   "metadata": {
    "scrolled": true
   },
   "outputs": [
    {
     "data": {
      "text/plain": [
       "'<start> i love you <end> '"
      ]
     },
     "execution_count": 32,
     "metadata": {},
     "output_type": "execute_result"
    }
   ],
   "source": [
    "generate_text(lyricist, tokenizer, init_sentence=\"<start> i love\", max_len=20)"
   ]
  },
  {
   "cell_type": "markdown",
   "id": "b8627995",
   "metadata": {},
   "source": [
    "## 회고"
   ]
  },
  {
   "cell_type": "markdown",
   "id": "0a78a547",
   "metadata": {},
   "source": [
    "- 이번 프로젝트는 만드는 내내 조금 재미있었습니다. 인간의 영역이라고만 생각했던 '창조'를 AI가 학습을 통해 어떻게든 해낸다는게 대견하기도 하고 뿌듯하네요.\n",
    "\n",
    "- 다만, 토큰화할 때 정규표현식(Regex)을 이용해야 했는데 사용하는 것에 익숙하지가 않아서 조금 어려웠습니다. 자연어처리를 깊이있게 연구하려면 공부가 더 필요할 것 같다는 생각입니다. \n",
    "\n",
    "- 문장 길이를 15로 제한하는 것에 대해서 왜 if len(preprocessed_sentence.split()) > 15: continue:을 했는데 또 maxlen=15로 지정해야하는지 의문이 생겨 한참을 고민하고 찾아보다가 알아내는 과정에서 많이 배운 것 같습니다. 만약 앞에 있는 if문을 추가해주지 않으면 한 문장에 15개 단어가 넘는 것들이 걸러지는 것이 아니라 15개 단어에서 잘려서 나올 것이기 때문에 둘 다 필요하다는 것을 알게되었습니다. \n",
    "\n",
    "`total_data_text = list(tensor)\n",
    "num_tokens = [len(tokens) for tokens in total_data_text]\n",
    "max_tokens = np.mean(num_tokens) + 2 * np.std(num_tokens)\n",
    "maxlen = int(max_tokens)`\n",
    "- max_len을 이런식으로 표준정규분포에서 95% 확률 이내로 포함하게 하는 식(mean + 2*std)을 사용해서 지정해줄 수 있는데, 이렇게 통계학에서 배웠던 지식을 활용해 여러 방법들을 생각해보는게 재미있었습니다. \n",
    "\n",
    "- 앞으로도 열심히 배우겠습니다 !!! 💘💘💘"
   ]
  },
  {
   "cell_type": "code",
   "execution_count": null,
   "id": "2fb892a2",
   "metadata": {},
   "outputs": [],
   "source": []
  },
  {
   "cell_type": "code",
   "execution_count": null,
   "id": "862ec944",
   "metadata": {},
   "outputs": [],
   "source": []
  }
 ],
 "metadata": {
  "kernelspec": {
   "display_name": "Python 3 (ipykernel)",
   "language": "python",
   "name": "python3"
  },
  "language_info": {
   "codemirror_mode": {
    "name": "ipython",
    "version": 3
   },
   "file_extension": ".py",
   "mimetype": "text/x-python",
   "name": "python",
   "nbconvert_exporter": "python",
   "pygments_lexer": "ipython3",
   "version": "3.9.7"
  }
 },
 "nbformat": 4,
 "nbformat_minor": 5
}
