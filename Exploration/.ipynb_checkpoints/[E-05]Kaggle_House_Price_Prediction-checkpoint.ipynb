{
 "cells": [
  {
   "cell_type": "markdown",
   "id": "4f9b8f7f",
   "metadata": {},
   "source": [
    "## Exploration 5. Kaggle 경진대회 참가하기 🛸"
   ]
  },
  {
   "cell_type": "code",
   "execution_count": null,
   "id": "be5a9642",
   "metadata": {},
   "outputs": [],
   "source": [
    "# 필요한 라이브러리 설치하기\n",
    "# ! conda install -c conda-forge xgboost=1.3.3\n",
    "# ! conda install -c conda-forge lightgbm=3.1.1 \n",
    "# ! conda install -c conda-forge missingno=0.4.2"
   ]
  },
  {
   "cell_type": "markdown",
   "id": "0782bd9f",
   "metadata": {},
   "source": [
    "## 1. 필요한 라이브러리 불러오기"
   ]
  },
  {
   "cell_type": "code",
   "execution_count": null,
   "id": "8c47f2ff",
   "metadata": {},
   "outputs": [],
   "source": [
    "import matplotlib.pyplot as plt\n",
    "%matplotlib inline\n",
    "%config InlineBackend.figure_format = 'retina'\n",
    "\n",
    "import warnings\n",
    "warnings.filterwarnings(\"ignore\")\n",
    "\n",
    "import os\n",
    "from os.path import join\n",
    "\n",
    "import pandas as pd\n",
    "import numpy as np\n",
    "\n",
    "import missingno as msno\n",
    "\n",
    "from sklearn.ensemble import GradientBoostingRegressor\n",
    "from sklearn.model_selection import KFold, cross_val_score\n",
    "import xgboost as xgb\n",
    "import lightgbm as lgb\n",
    "\n",
    "import matplotlib.pyplot as plt\n",
    "import seaborn as sns"
   ]
  },
  {
   "cell_type": "markdown",
   "id": "d1bfa4d9",
   "metadata": {},
   "source": [
    "## 2. 데이터 살펴보기\n",
    "pandas의 read_csv 함수를 사용해 데이터를 읽어오고, 각 변수들이 나타내는 의미를 살펴보겠습니다.\n",
    "1. ID : 집을 구분하는 번호\n",
    "2. date : 집을 구매한 날짜\n",
    "3. price : 타겟 변수인 집의 가격\n",
    "4. bedrooms : 침실의 수\n",
    "5. bathrooms : 침실당 화장실 개수\n",
    "6. sqft_living : 주거 공간의 평방 피트\n",
    "7. sqft_lot : 부지의 평방 피트\n",
    "8. floors : 집의 층 수\n",
    "9. waterfront : 집의 전방에 강이 흐르는지 유무 (a.k.a. 리버뷰)\n",
    "10. view : 집이 얼마나 좋아 보이는지의 정도\n",
    "11. condition : 집의 전반적인 상태\n",
    "12. grade : King County grading 시스템 기준으로 매긴 집의 등급\n",
    "13. sqft_above : 지하실을 제외한 평방 피트\n",
    "14. sqft_basement : 지하실의 평방 피트\n",
    "15. yr_built : 집을 지은 년도\n",
    "16. yr_renovated : 집을 재건축한 년도\n",
    "17. zipcode : 우편번호\n",
    "18. lat : 위도\n",
    "19. long : 경도\n",
    "20. sqft_living15 : 2015년 기준 주거 공간의 평방 피트(집을 재건축했다면, 변화가 있을 수 있음)\n",
    "21. sqft_lot15 : 2015년 기준 부지의 평방 피트(집을 재건축했다면, 변화가 있을 수 있음)"
   ]
  },
  {
   "cell_type": "code",
   "execution_count": null,
   "id": "b317a3fe",
   "metadata": {},
   "outputs": [],
   "source": [
    "data_dir = os.getenv('HOME')+'/aiffel/kaggle_kakr_housing/data'\n",
    "\n",
    "train_data_path = join(data_dir, 'train.csv')\n",
    "sub_data_path = join(data_dir, 'test.csv')      # 테스트, 즉 submission 시 사용할 데이터 경로\n",
    "\n",
    "train = pd.read_csv(train_data_path)\n",
    "test = pd.read_csv(sub_data_path)\n",
    "\n",
    "print(train.shape, test.shape)"
   ]
  },
  {
   "cell_type": "code",
   "execution_count": null,
   "id": "56032df7",
   "metadata": {},
   "outputs": [],
   "source": [
    "train.head()"
   ]
  },
  {
   "cell_type": "code",
   "execution_count": null,
   "id": "858576dd",
   "metadata": {},
   "outputs": [],
   "source": [
    "# id 컬럼 삭제\n",
    "del train['id']\n",
    "print(train.columns)"
   ]
  },
  {
   "cell_type": "code",
   "execution_count": null,
   "id": "7229d330",
   "metadata": {},
   "outputs": [],
   "source": [
    "# train셋에서 date를 정수형 데이터로 처리\n",
    "train['date'] = train['date'].apply(lambda i: i[:6]).astype(int)\n",
    "train.head()"
   ]
  },
  {
   "cell_type": "code",
   "execution_count": null,
   "id": "c279f7a0",
   "metadata": {},
   "outputs": [],
   "source": [
    "# test셋에서 date를 정수형 데이터로 처리\n",
    "test['date'] = test['date'].apply(lambda i: i[:6]).astype(int)\n",
    "del test['id']\n",
    "\n",
    "print(test.columns)"
   ]
  },
  {
   "cell_type": "code",
   "execution_count": null,
   "id": "cbe74dac",
   "metadata": {},
   "outputs": [],
   "source": [
    "# target data에 해당하는 price 분리 --> 변수에 price를 넣어두고, train에서는 삭제\n",
    "y = train['price']\n",
    "del train['price']\n",
    "\n",
    "print(train.columns)"
   ]
  },
  {
   "cell_type": "code",
   "execution_count": null,
   "id": "87cd585c",
   "metadata": {},
   "outputs": [],
   "source": [
    "# 컬럼 수 같은지 확인 \n",
    "print(train.shape, test.shape)"
   ]
  },
  {
   "cell_type": "code",
   "execution_count": null,
   "id": "28118121",
   "metadata": {},
   "outputs": [],
   "source": [
    "# 타겟 데이터인 y 확인해보기\n",
    "y"
   ]
  },
  {
   "cell_type": "code",
   "execution_count": null,
   "id": "58045563",
   "metadata": {},
   "outputs": [],
   "source": [
    "# 'y' 가격 데이터의 분포도 확인 -> seaborn의 `kdeplot`을 활용해 가격그래프 그려보기 \n",
    "\n",
    "sns.kdeplot(y)\n",
    "plt.show()"
   ]
  },
  {
   "cell_type": "code",
   "execution_count": null,
   "id": "40553516",
   "metadata": {},
   "outputs": [],
   "source": [
    "# 왼쪽으로 크게 치우쳐 있는 형태 price --> np.log1p() 함수를 통해 로그 변환\n",
    "y = np.log1p(y)\n",
    "y"
   ]
  },
  {
   "cell_type": "code",
   "execution_count": null,
   "id": "e023e336",
   "metadata": {},
   "outputs": [],
   "source": [
    "sns.kdeplot(y)\n",
    "plt.show()"
   ]
  },
  {
   "cell_type": "code",
   "execution_count": null,
   "id": "744a3329",
   "metadata": {},
   "outputs": [],
   "source": [
    "# 전체 데이터의 자료형을 한눈에 확인해보기\n",
    "train.info()"
   ]
  },
  {
   "cell_type": "markdown",
   "id": "d85f0a86",
   "metadata": {},
   "source": [
    "#### 모두 다 정수형 or 실수형 변수로 이루어짐!! "
   ]
  },
  {
   "cell_type": "markdown",
   "id": "19121803",
   "metadata": {},
   "source": [
    "## 3. RMSE로 계산하기\n",
    "> np.log1p()로 변환이 된 값을 원래 데이터 단위에 맞게 np.expm1()을 활용해서 되돌리기 \n",
    "- 위에서 y값에 대해 log 변환을 취함 = RMSLE 값 계산\n",
    "- 실제 rmse 값을 계산하기 위해 다시 exp를 취해주어야 함"
   ]
  },
  {
   "cell_type": "code",
   "execution_count": null,
   "id": "2082ccec",
   "metadata": {},
   "outputs": [],
   "source": [
    "from sklearn.model_selection import train_test_split\n",
    "from sklearn.metrics import mean_squared_error\n",
    "\n",
    "def rmse(y_test, y_pred):\n",
    "    return np.sqrt(mean_squared_error(np.expm1(y_test), np.expm1(y_pred)))"
   ]
  },
  {
   "cell_type": "markdown",
   "id": "6d605c32",
   "metadata": {},
   "source": [
    "## 4. 모델 생성하기"
   ]
  },
  {
   "cell_type": "code",
   "execution_count": null,
   "id": "72ac55bb",
   "metadata": {},
   "outputs": [],
   "source": [
    "from xgboost import XGBRegressor\n",
    "from lightgbm import LGBMRegressor\n",
    "from sklearn.ensemble import GradientBoostingRegressor, RandomForestRegressor\n",
    "\n",
    "random_state=2022\n",
    "\n",
    "gboost = GradientBoostingRegressor(random_state=random_state)\n",
    "xgboost = XGBRegressor(random_state=random_state)\n",
    "lightgbm = LGBMRegressor(random_state=random_state)\n",
    "rdforest = RandomForestRegressor(random_state=random_state)\n",
    "\n",
    "models = [gboost, xgboost, lightgbm, rdforest]"
   ]
  },
  {
   "cell_type": "code",
   "execution_count": null,
   "id": "0adb7475",
   "metadata": {},
   "outputs": [],
   "source": [
    "# 각 모델의 이름은 다음과 같이 클래스의 __name__ 속성에 접근해서 얻을 수 있음 \n",
    "gboost.__class__.__name__"
   ]
  },
  {
   "cell_type": "code",
   "execution_count": null,
   "id": "cf53e825",
   "metadata": {},
   "outputs": [],
   "source": [
    "def get_scores(models, train, y):\n",
    "    df = {}\n",
    "\n",
    "    for model in models:\n",
    "        model_name = model.__class__.__name__ # 모델 이름 획득\n",
    "\n",
    "        X_train, X_test, y_train, y_test = train_test_split(train, y, random_state=random_state, test_size=0.2)\n",
    "        model.fit(X_train, y_train) # 모델 학습\n",
    "        y_pred = model.predict(X_test) # 예측\n",
    "        \n",
    "        # rmse 저장\n",
    "        df[model_name] = rmse(y_test, y_pred)\n",
    "        # dataframe에 저장\n",
    "        score_df = pd.DataFrame(df, index=['RMSE']).T.sort_values('RMSE', ascending=False) # 내림차순 정렬\n",
    "    \n",
    "    return score_df"
   ]
  },
  {
   "cell_type": "markdown",
   "id": "bca98d02",
   "metadata": {},
   "source": [
    "#### (1) 이름을 접근하여 for문 안에서 각 모델 별로 학습 및 예측하기"
   ]
  },
  {
   "cell_type": "code",
   "execution_count": null,
   "id": "c2d326b7",
   "metadata": {},
   "outputs": [],
   "source": [
    "df = {}\n",
    "\n",
    "for model in models:\n",
    "    # 모델 이름 획득\n",
    "    model_name = model.__class__.__name__\n",
    "\n",
    "    # train, test 데이터셋 분리 - 여기에도 random_state를 고정합니다. \n",
    "    X_train, X_test, y_train, y_test = train_test_split(train, y, random_state=random_state, test_size=0.2)\n",
    "\n",
    "    # 모델 학습\n",
    "    model.fit(X_train, y_train)\n",
    "    \n",
    "    # 예측\n",
    "    y_pred = model.predict(X_test)\n",
    "\n",
    "    # 예측 결과의 rmse값 저장\n",
    "    df[model_name] = rmse(y_test, y_pred)\n",
    "    \n",
    "    # data frame에 저장\n",
    "    score_df = pd.DataFrame(df, index=['RMSE']).T.sort_values('RMSE', ascending=False)\n",
    "    \n",
    "df  # 네 가지의 모델에 대해 모두 RMSE값 얻을 수 있음"
   ]
  },
  {
   "cell_type": "markdown",
   "id": "f4e54aae",
   "metadata": {},
   "source": [
    "#### (2) RMSE 결과값을 나타내주는 위의 과정을 get_scores(models, train, y) 함수로 만들어서 결과 보기"
   ]
  },
  {
   "cell_type": "code",
   "execution_count": null,
   "id": "ae279344",
   "metadata": {},
   "outputs": [],
   "source": [
    "def get_scores(models, train, y):\n",
    "    df = {}\n",
    "\n",
    "    for model in models:\n",
    "        model_name = model.__class__.__name__ # 모델 이름 획득\n",
    "\n",
    "        X_train, X_test, y_train, y_test = train_test_split(train, y, random_state=random_state, test_size=0.2)\n",
    "        model.fit(X_train, y_train) # 모델 학습\n",
    "        y_pred = model.predict(X_test) # 예측\n",
    "        \n",
    "        # rmse 저장\n",
    "        df[model_name] = rmse(y_test, y_pred)\n",
    "        # dataframe에 저장\n",
    "        score_df = pd.DataFrame(df, index=['RMSE']).T.sort_values('RMSE', ascending=False) # 내림차순 정렬\n",
    "    \n",
    "    return score_df\n",
    "\n",
    "get_scores(models, train, y)"
   ]
  },
  {
   "cell_type": "markdown",
   "id": "00c9647d",
   "metadata": {},
   "source": [
    "## 5. 사이킷런의 GridSearchCV\n",
    "#### 그리드 탐색\n",
    "🛸 탐색할 하이퍼 파라미터의 값들을 정해두고, 그 값들로 만들어질 수 있는 모든 조합을 (격자와 같이) 탐색   \n",
    "🛸 사람이 정해둔 값들로 조합 탐색하므로 최적의 조합 놓칠 수 있음\n",
    "\n",
    "- param_grid : 탐색할 파라미터의 종류 (딕셔너리로 입력)\n",
    "- scoring : 모델의 성능을 평가할 지표\n",
    "- cv : cross validation을 수행하기 위해 train 데이터셋을 나누는 조각의 개수\n",
    "- verbose : 그리드 탐색을 진행하면서 진행 과정을 출력해서 보여줄 메세지의 양 (숫자가 클수록 더 많은 메세지를 출력합니다.)\n",
    "- n_jobs : 그리드 탐색을 진행하면서 사용할 CPU의 개수\n",
    "\n",
    "#### (참고) 랜덤 탐색\n",
    "🛸 사람이 탐색할 하이퍼 파라미터의 공간만 정해두고, 그 안에서 랜덤으로 조합을 선택해 탐색하는 방법   \n",
    "🛸 랜덤으로 탐색하기 때문에 최적의 조합 찾을 수 있지만 가능성 또한 랜덤성에 의존 (보장 x)\n",
    "\n",
    "---"
   ]
  },
  {
   "cell_type": "markdown",
   "id": "fc08d63c",
   "metadata": {},
   "source": [
    "(1) GridSearchCV 활용: 다양한 파라미터를 입력하면 가능한 모든 조합 탐색"
   ]
  },
  {
   "cell_type": "code",
   "execution_count": null,
   "id": "4f6a0528",
   "metadata": {},
   "outputs": [],
   "source": [
    "from sklearn.model_selection import GridSearchCV"
   ]
  },
  {
   "cell_type": "markdown",
   "id": "d26f9ed6",
   "metadata": {},
   "source": [
    "(2) 탐색할 xgboost 관련 하이퍼 파라미터를 넣어서 준비하기\n",
    "\n",
    "- max_depth: 의사 결정 나무의 깊이 (정수)\n",
    "- learning_rate: 한 스텝에 이동하는 양을 결정하는 파라미터 (0.0001-0.1)\n",
    "- n_estimators: 사용하는 개별 모델의 수 (50-100)\n",
    "- num_leaves: 하나의 LightGBM 트리가 가질 수 있는 최대 잎 수\n",
    "- boostying_type: 부스팅 방식, gbdt, rf 등의 문자열 입력"
   ]
  },
  {
   "cell_type": "code",
   "execution_count": null,
   "id": "2bf59f05",
   "metadata": {},
   "outputs": [],
   "source": [
    "param_grid = {\n",
    "    'n_estimators': [50, 100],\n",
    "    'max_depth': [1, 10],\n",
    "}"
   ]
  },
  {
   "cell_type": "markdown",
   "id": "b1786c3e",
   "metadata": {},
   "source": [
    "(3) GridSearchCV 수행하기\n",
    "- GridSearchCV를 이용해서 grid_model 모델을 초기화하고, \n",
    "- train과 y 데이터로 모델을 간단히 학습시키면 param_grid 내의 모든 하이퍼 파라미터의 조합에 대해 실험하기"
   ]
  },
  {
   "cell_type": "code",
   "execution_count": null,
   "id": "7526d39c",
   "metadata": {},
   "outputs": [],
   "source": [
    "grid_model = GridSearchCV(model, param_grid=param_grid, \\\n",
    "                        scoring='neg_mean_squared_error', \\\n",
    "                        cv=5, verbose=1, n_jobs=5)\n",
    "\n",
    "grid_model.fit(train, y)  # grid_model.fit 함수 활용하여 2X2가지 조합에 대한 실험하기"
   ]
  },
  {
   "cell_type": "code",
   "execution_count": null,
   "id": "2098699a",
   "metadata": {},
   "outputs": [],
   "source": [
    "# 실험 결과 저장하기\n",
    "grid_model.cv_results_"
   ]
  },
  {
   "cell_type": "markdown",
   "id": "9d3d1b86",
   "metadata": {},
   "source": [
    "(4) 원하는 정보(값)만 빼오기(정제하기)\n",
    "- 어떤 파라미터 조합일 때 점수가 어떻게 나오게 되는지\n",
    "- 파라미터 조합은 위 딕셔너리 중 params에, 각각에 대한 테스트 점수는 mean_test_score에 저장되어 있음"
   ]
  },
  {
   "cell_type": "code",
   "execution_count": null,
   "id": "3e3abd28",
   "metadata": {},
   "outputs": [],
   "source": [
    "params = grid_model.cv_results_['params']\n",
    "score = grid_model.cv_results_['mean_test_score']\n",
    "params, score"
   ]
  },
  {
   "cell_type": "markdown",
   "id": "e73c9637",
   "metadata": {},
   "source": [
    "(5) 두 변수로 데이터 프레임을 만들고 최적의 성능을 내는 하이퍼 파라미터의 조합 찾기"
   ]
  },
  {
   "cell_type": "code",
   "execution_count": null,
   "id": "f81b4b4e",
   "metadata": {},
   "outputs": [],
   "source": [
    "results = pd.DataFrame(params)\n",
    "results['score'] = score\n",
    "\n",
    "results"
   ]
  },
  {
   "cell_type": "markdown",
   "id": "3a725bfa",
   "metadata": {},
   "source": [
    "> score 음수인 이유:'neg_mean_squared_error' 사용  \n",
    "> -MSE에서 간단한 변환 함수로 RMSE 점수 보기"
   ]
  },
  {
   "cell_type": "code",
   "execution_count": null,
   "id": "f13401da",
   "metadata": {},
   "outputs": [],
   "source": [
    "results['RMSE'] = np.sqrt(-1 * results['score'])\n",
    "results = results.rename(columns={'RMSE': 'RMSLE'})\n",
    "results"
   ]
  },
  {
   "cell_type": "code",
   "execution_count": null,
   "id": "6b5af7b1",
   "metadata": {},
   "outputs": [],
   "source": [
    "# 위의 표를 `RMSLE`가 낮은 순부터 높은 순서대로(낮은 순서대로) 정렬하기\n",
    "results.sort_values('RMSLE')"
   ]
  },
  {
   "cell_type": "markdown",
   "id": "4840e393",
   "metadata": {},
   "source": [
    "#### (6) 함수로 만들기"
   ]
  },
  {
   "cell_type": "code",
   "execution_count": null,
   "id": "bc740696",
   "metadata": {},
   "outputs": [],
   "source": [
    "def my_GridSearch(model, train, y, param_grid, verbose=2, n_jobs=5):\n",
    "    \n",
    "    # GridSearchCV 모델로 초기화\n",
    "    grid_model = GridSearchCV(model,\n",
    "                         param_grid=param_grid,\n",
    "                         scoring='neg_mean_squared_error',\n",
    "                         cv=5,\n",
    "                         verbose=verbose,\n",
    "                         n_jobs=n_jobs)\n",
    "    # 모델 fitting\n",
    "    grid_model.fit(train, y)\n",
    "    \n",
    "    # 결과값 저장\n",
    "    params = grid_model.cv_results_['params']\n",
    "    score = grid_model.cv_results_['mean_test_score']\n",
    "\n",
    "    # 데이터 프레임 생성\n",
    "    results = pd.DataFrame(params)\n",
    "    results['score'] = score\n",
    "    \n",
    "    # RMSLE 값 계산 후 정렬\n",
    "    results['RMSLE'] = np.sqrt(-1 * results['score'])\n",
    "    results = results.sort_values('RMSLE')\n",
    "\n",
    "    return results"
   ]
  },
  {
   "cell_type": "markdown",
   "id": "51de4ff6",
   "metadata": {},
   "source": [
    "### 6. 모델 학습 후 예측값인 submission.csv 파일 만들어서 제출하기"
   ]
  },
  {
   "cell_type": "code",
   "execution_count": null,
   "id": "7857aabf",
   "metadata": {},
   "outputs": [],
   "source": [
    "# 만들어 놓은 my_GridSearch() 함수로 간단한 그리드 탐색\n",
    "param_grid = {\n",
    "    'n_estimators': [50, 100],\n",
    "    'max_depth': [1, 10],\n",
    "}\n",
    "\n",
    "model = LGBMRegressor(random_state=random_state)\n",
    "my_GridSearch(model, train, y, param_grid, verbose=2, n_jobs=5)"
   ]
  },
  {
   "cell_type": "markdown",
   "id": "217780c0",
   "metadata": {},
   "source": [
    "   > 가장 좋은 조합은 max_depth=10, n_estimators=100 !!   "
   ]
  },
  {
   "cell_type": "markdown",
   "id": "43227577",
   "metadata": {},
   "source": [
    "(1) 해당 파라미터로 구성된 모델을 준비하고, 학습 후 예측 결과 생성"
   ]
  },
  {
   "cell_type": "code",
   "execution_count": null,
   "id": "4252b35b",
   "metadata": {},
   "outputs": [],
   "source": [
    "model = LGBMRegressor(max_depth=10, n_estimators=100, random_state=random_state)\n",
    "model.fit(train, y)\n",
    "prediction = model.predict(test)\n",
    "prediction"
   ]
  },
  {
   "cell_type": "markdown",
   "id": "7798172a",
   "metadata": {},
   "source": [
    "(2) 예측 결과에 np.expm1()을 씌워서 다시 원래 스케일로 되돌리기"
   ]
  },
  {
   "cell_type": "code",
   "execution_count": null,
   "id": "c72523c3",
   "metadata": {},
   "outputs": [],
   "source": [
    "prediction = np.expm1(prediction)\n",
    "prediction"
   ]
  },
  {
   "cell_type": "markdown",
   "id": "f4394a8e",
   "metadata": {},
   "source": [
    "(3) sample_submission.csv 파일을 가져오기"
   ]
  },
  {
   "cell_type": "code",
   "execution_count": null,
   "id": "e92d5803",
   "metadata": {},
   "outputs": [],
   "source": [
    "data_dir = os.getenv('HOME')+'/aiffel/kaggle_kakr_housing/data'\n",
    "\n",
    "submission_path = join(data_dir, 'sample_submission.csv')\n",
    "submission = pd.read_csv(submission_path)\n",
    "submission.head()"
   ]
  },
  {
   "cell_type": "markdown",
   "id": "b4c529d7",
   "metadata": {},
   "source": [
    "(4) 위의 데이터프레임에 우리의 모델이 예측한 값을 덮어씌우면 제출할 데이터 완성!"
   ]
  },
  {
   "cell_type": "code",
   "execution_count": null,
   "id": "a8f4bdfd",
   "metadata": {},
   "outputs": [],
   "source": [
    "submission['price'] = prediction\n",
    "submission.head()"
   ]
  },
  {
   "cell_type": "markdown",
   "id": "7e4280e6",
   "metadata": {},
   "source": [
    "#### (5) 위 과정 함수로 정리"
   ]
  },
  {
   "cell_type": "code",
   "execution_count": null,
   "id": "e1db6942",
   "metadata": {},
   "outputs": [],
   "source": [
    "def save_submission(model, train, y, test, model_name, rmsle=None):  # None 안넣으면 뭐가 달라지지? \n",
    "\n",
    "#\tmodel = LGBMRegressor(max_depth=10, n_estimators=100, random_state=random_state)\n",
    "    model.fit(train, y)\n",
    "    prediction = model.predict(test)\n",
    "    prediction = np.expm1(prediction)\n",
    "\n",
    "    data_dir = os.getenv('HOME')+'/aiffel/kaggle_kakr_housing/data'\n",
    "\n",
    "    submission_path = join(data_dir, 'sample_submission.csv')\n",
    "    submission = pd.read_csv(submission_path)\n",
    "\n",
    "    submission['price'] = prediction\n",
    "\n",
    "    submission_csv_path = '{}/submission_{}_RMSLE_{}.csv'.format(data_dir, model_name, rmsle)\n",
    "    submission.to_csv(submission_csv_path, index=False)\n",
    "    print(f\"{submission_csv_path} saved!\")"
   ]
  },
  {
   "cell_type": "markdown",
   "id": "823d2190",
   "metadata": {},
   "source": [
    "(6) 한 줄로 모델을 학습시킨 후 예측 결과 저장하기"
   ]
  },
  {
   "cell_type": "code",
   "execution_count": null,
   "id": "1a10be6c",
   "metadata": {},
   "outputs": [],
   "source": [
    "save_submission(model, train, y, test, 'lgbm', rmsle='0.0168')"
   ]
  },
  {
   "cell_type": "markdown",
   "id": "4ffb1d8e",
   "metadata": {},
   "source": [
    "## 7. 하이퍼 파라미터 튜닝튜닝튜닝 하기 🛸🛸🛸"
   ]
  },
  {
   "cell_type": "markdown",
   "id": "e692c3dc",
   "metadata": {},
   "source": [
    "**✓ 튜닝해볼 수 있는 모델 클래스 인자**  \n",
    "🛸 대표적으로 자주 튜닝하는 lightgbm 라이브러리의 인자는 다음과 같습니다.\n",
    "\n",
    "- max_depth : 의사 결정 나무의 깊이, 정수 사용\n",
    "- learning_rate : 한 스텝에 이동하는 양을 결정하는 파라미터, 보통 0.0001~0.1 사이의 실수 사용\n",
    "- n_estimators : 사용하는 개별 모델의 개수, 보통 50~100 이상의 정수 사용\n",
    "- num_leaves : 하나의 LightGBM 트리가 가질 수 있는 최대 잎의 수\n",
    "- boosting_type : 부스팅 방식, gbdt, rf 등의 문자열 입력\n",
    "    \n",
    "**✓ 시도해볼 수 있는 방법**  \n",
    "🛸 시도해볼 수 있는 방법은 다음과 같은 것들이 있습니다.\n",
    "\n",
    "- 기존에 있는 데이터의 피처를 모델을 보다 잘 표현할 수 있는 형태로 처리하기 (피처 엔지니어링)\n",
    "- LGBMRegressor, XGBRegressor, RandomForestRegressor 세 가지 이상의 다양한 모델에 대해 하이퍼 파라미터 튜닝하기\n",
    "- 다양한 하이퍼 파라미터에 대해 그리드 탐색을 시도해서 최적의 조합을 찾아보기\n",
    "- Baseline 커널에서 활용했던 블렌딩 방법 활용하기\n",
    "\n",
    "**✓ GridSearchCV**\n",
    "- param_grid: 탐색할 파라미터 종류\n",
    "- scoring: 모델의 성능을 평가할 지표\n",
    "- cv: cross validation을 수행하기 위해 train 데이터셋을 나누는 조각의 수\n",
    "- verbose: 그리드 탐색을 진행하며 진행 과정을 출력해서 보여줄 메시지 양\n",
    "- n_jobs: 그리드 탐색 진행하며 사용할 CPU 수"
   ]
  },
  {
   "cell_type": "markdown",
   "id": "2921f594",
   "metadata": {},
   "source": [
    "### (1) LGBMRegressor"
   ]
  },
  {
   "cell_type": "markdown",
   "id": "a0dd6a60",
   "metadata": {},
   "source": [
    "- 💃🏻 1st attempt"
   ]
  },
  {
   "cell_type": "code",
   "execution_count": null,
   "id": "8690c01d",
   "metadata": {},
   "outputs": [],
   "source": [
    "param_grid = {\n",
    "    'max_depth': [1, 3, 5, 7, 9],  # 1,2,3(데이터 엄청 작을 때만 사용)  3 5 7 9\n",
    "    'learning_rate': [0.0001, 0.001, 0.01, 0.1],\n",
    "    'n_estimators': [50, 70, 90, 100],  # 1000 ~ 5000 예시 케이스 검색.. 일반적인 케이스 정리해보기..\n",
    "    'num_leaves': [40, 50, 60]\n",
    "}"
   ]
  },
  {
   "cell_type": "code",
   "execution_count": null,
   "id": "a64de95e",
   "metadata": {
    "scrolled": true
   },
   "outputs": [],
   "source": [
    "# LightGBM(lgbm) 모델 사용\n",
    "model = LGBMRegressor(random_state=random_state)\n",
    "my_GridSearch(model, train, y, param_grid, verbose=2, n_jobs=5)"
   ]
  },
  {
   "cell_type": "markdown",
   "id": "83ae9bbd",
   "metadata": {},
   "source": [
    "RMSLE: 0.163707 \n",
    "> *가장 좋은 조합: learning_rate=0.1, max_depth=9, n_estimators=100, num_leaves=50*"
   ]
  },
  {
   "cell_type": "code",
   "execution_count": null,
   "id": "214ca4e0",
   "metadata": {},
   "outputs": [],
   "source": [
    "model = LGBMRegressor(max_depth=9,\n",
    "                      learning_rate=0.1,\n",
    "                      n_estimators=100,\n",
    "                      num_leaves=50,\n",
    "                      random_state=random_state)"
   ]
  },
  {
   "cell_type": "code",
   "execution_count": null,
   "id": "fe70140b",
   "metadata": {},
   "outputs": [],
   "source": [
    "save_submission(model, train, y, test, 'lgbm', rmsle='0.163707')"
   ]
  },
  {
   "cell_type": "markdown",
   "id": "ed2e6f0e",
   "metadata": {},
   "source": [
    "RMSLE가 조금 더 낮게 나오긴 했지만 별 차이가 없으므로 다른 함수를 만들어 하이퍼 파라미터 튜닝을 해보고자 한다 !! "
   ]
  },
  {
   "cell_type": "markdown",
   "id": "7a1250ac",
   "metadata": {},
   "source": [
    "### (2) Random Search"
   ]
  },
  {
   "cell_type": "markdown",
   "id": "c9fd05fe",
   "metadata": {},
   "source": [
    "- 💃🏻💃🏻 2nd attempt\n",
    "> 구글링 해본 결과 Random Search가 GridCV보다 성능이 좋다고 한다"
   ]
  },
  {
   "cell_type": "code",
   "execution_count": null,
   "id": "40679714",
   "metadata": {},
   "outputs": [],
   "source": [
    "from sklearn.model_selection import RandomizedSearchCV"
   ]
  },
  {
   "cell_type": "code",
   "execution_count": null,
   "id": "7321be9c",
   "metadata": {},
   "outputs": [],
   "source": [
    "def my_RandomSearch(model, train, y, param_distributions, verbose=2, n_jobs=5):\n",
    "    \n",
    "    # RandomizedSearchCV 모델로 초기화\n",
    "    random_model = RandomizedSearchCV(model,\n",
    "                             param_distributions=param_distributions,\n",
    "                             scoring='neg_mean_squared_error',\n",
    "                             cv=5,\n",
    "                             verbose=verbose,\n",
    "                             n_jobs=n_jobs)\n",
    "    # 모델 fitting\n",
    "    random_model.fit(train, y)\n",
    "    \n",
    "    # 결과값 저장\n",
    "    params = random_model.cv_results_['params']\n",
    "    score = random_model.cv_results_['mean_test_score']\n",
    "\n",
    "    # 데이터 프레임 생성\n",
    "    results = pd.DataFrame(params)\n",
    "    results['score'] = score\n",
    "    \n",
    "    # RMSLE 값 계산 후 정렬\n",
    "    results['RMSLE'] = np.sqrt(-1 * results['score'])\n",
    "    results = results.sort_values('RMSLE')\n",
    "\n",
    "    return results"
   ]
  },
  {
   "cell_type": "code",
   "execution_count": null,
   "id": "9d0dc1f0",
   "metadata": {},
   "outputs": [],
   "source": [
    "param_distributions = {\n",
    "    'max_depth': [3, 5, 7, 9, 11],\n",
    "    'learning_rate': [0.001, 0.01, 0.05, 0.1, 0.5],\n",
    "    'n_estimators': [100, 200, 300, 400, 600, 700, 800, 900, 1000],\n",
    "    'num_leaves': [20, 30, 40, 50, 60]\n",
    "}"
   ]
  },
  {
   "cell_type": "code",
   "execution_count": null,
   "id": "db840eea",
   "metadata": {},
   "outputs": [],
   "source": [
    "model = LGBMRegressor(random_state=random_state)\n",
    "my_RandomSearch(model, train, y, param_distributions, verbose=2, n_jobs=5)"
   ]
  },
  {
   "cell_type": "markdown",
   "id": "393f02bd",
   "metadata": {},
   "source": [
    "RMSLE: 0.162258\n",
    "> *가장 좋은 조합: learning_rate=0.1, max_depth=3, n_estimators=1000, num_leaves=30*"
   ]
  },
  {
   "cell_type": "code",
   "execution_count": null,
   "id": "7d01fcb2",
   "metadata": {},
   "outputs": [],
   "source": [
    "model = LGBMRegressor(max_depth=3,\n",
    "                      learning_rate=0.1,\n",
    "                      n_estimators=1000,\n",
    "                      num_leaves=30,\n",
    "                      random_state=random_state)\n",
    "\n",
    "save_submission(model, train, y, test, 'lgbm_random', rmsle='0.162258')"
   ]
  },
  {
   "cell_type": "markdown",
   "id": "27d30622",
   "metadata": {},
   "source": [
    "- 💃🏻💃💃🏻 3rd attempt\n",
    "> 함수는 그대로 쓰고 하이퍼 파라미터 튜닝만 해보기"
   ]
  },
  {
   "cell_type": "code",
   "execution_count": null,
   "id": "788c3ca1",
   "metadata": {},
   "outputs": [],
   "source": [
    "param_distributions = {\n",
    "    'max_depth': [5, 7, 9, 11, 13],\n",
    "    'learning_rate': [0.01, 0.015, 0.18, 0.02, 0.025],\n",
    "    'n_estimators': [800, 1000, 1400, 1600, 2000],\n",
    "   # 'n_leaves': [16, 32, 64, 88, 106, 128]\n",
    "}\n",
    "\n",
    "model = LGBMRegressor(random_state=random_state)\n",
    "my_RandomSearch(model, train, y, param_distributions, verbose=2, n_jobs=5)"
   ]
  },
  {
   "cell_type": "markdown",
   "id": "cda050bd",
   "metadata": {},
   "source": [
    "RMSLE: 0.160626\n",
    "> *가장 좋은 조합: learning_rate=0.025, max_depth=11, n_estimators=1400*"
   ]
  },
  {
   "cell_type": "code",
   "execution_count": null,
   "id": "c0fb56b1",
   "metadata": {},
   "outputs": [],
   "source": [
    "model = LGBMRegressor(max_depth=60,\n",
    "                      learning_rate=0.05,\n",
    "                      n_estimators=800,\n",
    "                      random_state=random_state)\n",
    "\n",
    "save_submission(model, train, y, test, 'lgbm_random', rmsle='0.160626')"
   ]
  },
  {
   "cell_type": "markdown",
   "id": "2434e6a1",
   "metadata": {},
   "source": [
    "### (3) Ensemble \n",
    "- 💃🏻💃💃💃🏻 4th attempt\n",
    "> https://www.kaggle.com/dhznsdl/house-price-regression-python 여기를 참고하여 앙상블 모델로 해보려고 했으나 ... 아직 제대로 구현해낼 수 있는 수준이 아니어서 하다가 포기... "
   ]
  },
  {
   "cell_type": "code",
   "execution_count": null,
   "id": "f6e5d9fe",
   "metadata": {},
   "outputs": [],
   "source": [
    "lgb_model = LGBMRegressor(learning_rate=0.05, \n",
    "                          max_depth=13, \n",
    "                          n_estimators=700, num_leaves=31, \n",
    "                          random_state=random_state)\n",
    "lgb_model.fit(train, y)\n",
    "lgb_pred = lgb_model.predict(test)\n",
    "lgb_pred = np.expm1(lgb_pred)"
   ]
  },
  {
   "cell_type": "code",
   "execution_count": null,
   "id": "3679fe1a",
   "metadata": {},
   "outputs": [],
   "source": [
    "xgb_model = LGBMRegressor(learning_rate=0.05, max_depth=13, n_estimators=700, num_leaves=31 , random_state=random_state)\n",
    "xgb_model.fit(train, y)\n",
    "xgb_pred = xgb_model.predict(test)\n",
    "xgb_pred = np.expm1(xgb_pred)"
   ]
  },
  {
   "cell_type": "code",
   "execution_count": null,
   "id": "1e9f08b4",
   "metadata": {},
   "outputs": [],
   "source": [
    "from sklearn import ensemble, linear_model\n",
    "from sklearn.metrics import mean_squared_error\n",
    "\n",
    "def eval(y_pred, y_true):\n",
    "    print('error : {}'.format(np.sqrt(mean_squared_error(y_true= np.expm1(y_true), y_pred=np.expm1(y_pred)))))\n",
    "    \n",
    "def predeval(x, y_true, clf):\n",
    "    print('error : {}'.format(np.sqrt(mean_squared_error(y_true= np.expm1(y_true), y_pred=np.expm1(clf.predict(x))))))"
   ]
  },
  {
   "cell_type": "code",
   "execution_count": null,
   "id": "ee334b6a",
   "metadata": {
    "scrolled": true
   },
   "outputs": [],
   "source": [
    "# import lightgbm as lgb\n",
    "\n",
    "# param = {'objective':'regression', 'metric':'rmse', 'num_iteration':1000, 'learning_rate':0.05, 'early_stopping_round':30,\n",
    "#          'max_depth':-1, 'num_leaves':15, 'feature_fraction':0.6,\n",
    "#          'num_threads':-1}\n",
    "\n",
    "# train_data = lgb.Dataset(trn_x, label=trn_y)\n",
    "# validation_data = lgb.Dataset(val_x, label=val_y, reference=train_data)\n",
    "# bst = lgb.train(param, train_data, valid_sets=[train_data, validation_data])\n",
    "# bst.save_model('model.txt', num_iteration=bst.best_iteration)\n",
    "\n",
    "\n",
    "# eval(y_pred=bst.predict(val_x), y_true=val_y_v)"
   ]
  },
  {
   "cell_type": "markdown",
   "id": "a11c9f16",
   "metadata": {},
   "source": [
    "## 8. Kaggle Submission 점수 집계"
   ]
  },
  {
   "cell_type": "markdown",
   "id": "845449e8",
   "metadata": {},
   "source": [
    "||파일 이름|점수|\n",
    "|-|:------:|:---:|\n",
    "|1|submission_lgbm_random_RMSLE_0.160626|109785.28895|\n",
    "|2|submission_lgbm_random_RMSLE_0.162258|111408.69100|\n",
    "|3|submission_lgbm_RMSLE_0.0168|111408.69100|\n",
    "|4|submission_lgbm_RMSLE_0.163707|116010.17220|"
   ]
  },
  {
   "cell_type": "code",
   "execution_count": null,
   "id": "f78d0ef4",
   "metadata": {},
   "outputs": [],
   "source": []
  },
  {
   "cell_type": "markdown",
   "id": "eaf8abd8",
   "metadata": {},
   "source": [
    "# 회고 🌞🌞🌞"
   ]
  },
  {
   "attachments": {
    "image-2.png": {
     "image/png": "[encoded data removed]"
    }
   },
   "cell_type": "markdown",
   "id": "caa10662",
   "metadata": {},
   "source": [
    "## 최종점수: 109785.28895\n",
    "\n",
    "1. 데이터 전처리 과정이 매우 중요하다는 것을 깨달았습니다. 특히 skewdness가 심한 경우 np.log1p(y) 로그 변환 함수를 취해주면 훨씬 더 나은 결과를 얻을 수 있다는 점 !!!  \n",
    "\n",
    "\n",
    "2. 스태킹 앙상블을 시도해보고자 했는데 ........ 아직 이해가 많이 부족했던 것 같습니다. 여러 강의들을 찾아보거나, Kaggle에 'Most Votes'로 해서 잘 정리되어 있는 Notebook들을 따라해보며 실력을 키워야겠다는 결심을 하게되었습니다.  \n",
    "\n",
    "\n",
    "3. 하이퍼파라미터 튜닝할 때 활용할 수 있는 사이트들을 검색해본 결과 optuna, hyperopt, Scikit-Optimize가 있었습니다. 이곳의 도움을 받아 그나마 마지막에 그나마 괜찮은 하이퍼파라미터를 설정하여 110000이하의 점수를 얻을 수 있었던 것 같습니다... 하이퍼파라미터는 **반드시** 공부가 더 필요한 부분이에요.   \n",
    "\n",
    "\n",
    "![image-2.png](attachment:image-2.png)  좌아아아아안 ~!  \n",
    "\n",
    "\n",
    "5. 여러 모델들과 함수를 자유자재로 사용할 수 있는 그날이 오기까지... 열심히 노력해야겠습니다...! "
   ]
  },
  {
   "cell_type": "code",
   "execution_count": null,
   "id": "978928cc",
   "metadata": {},
   "outputs": [],
   "source": []
  }
 ],
 "metadata": {
  "kernelspec": {
   "display_name": "Python 3 (ipykernel)",
   "language": "python",
   "name": "python3"
  },
  "language_info": {
   "codemirror_mode": {
    "name": "ipython",
    "version": 3
   },
   "file_extension": ".py",
   "mimetype": "text/x-python",
   "name": "python",
   "nbconvert_exporter": "python",
   "pygments_lexer": "ipython3",
   "version": "3.9.7"
  }
 },
 "nbformat": 4,
 "nbformat_minor": 5
}
