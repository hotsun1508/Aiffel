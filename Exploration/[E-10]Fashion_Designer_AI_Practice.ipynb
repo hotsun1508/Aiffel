{
 "cells": [
  {
   "cell_type": "markdown",
   "id": "31299f51",
   "metadata": {},
   "source": [
    "# Exploration 10. 인공지능으로 세상에 없던 새로운 패션 만들기 🎠🎡🎁🎨\n",
    "\n",
    "🎀 데이터셋: Fashion MNIST   \n",
    "🎀 https://github.com/zalandoresearch/fashion-mnist"
   ]
  },
  {
   "cell_type": "markdown",
   "id": "db244037",
   "metadata": {},
   "source": [
    "## 데이터 전처리하기\n",
    "### Step 1. 라이브러리 설치여부 확인하기"
   ]
  },
  {
   "cell_type": "code",
   "execution_count": null,
   "id": "8db513c4",
   "metadata": {},
   "outputs": [],
   "source": [
    "# $ pip list | grep -E 'imageio|Pillow'\n",
    "# imageio, pillow 라이브러리가 없을 경우 설치하세요.\n",
    "\n",
    "# $ pip install imageio\n",
    "# $ pip install Pillow\n",
    "# 그리고 다음과 같이 작업환경을 구성합시다.\n",
    "\n",
    "# $ mkdir -p ~/aiffel/dcgan_newimage/fashion/generated_samples\n",
    "# $ mkdir -p ~/aiffel/dcgan_newimage/fashion/training_checkpoints\n",
    "# $ mkdir -p ~/aiffel/dcgan_newimage/fashion/training_history"
   ]
  },
  {
   "cell_type": "code",
   "execution_count": 2,
   "id": "47676925",
   "metadata": {},
   "outputs": [
    {
     "name": "stdout",
     "output_type": "stream",
     "text": [
      "tensorflow 2.6.0\n"
     ]
    }
   ],
   "source": [
    "import os\n",
    "import glob\n",
    "import time\n",
    "\n",
    "import PIL\n",
    "import imageio\n",
    "import numpy as np\n",
    "import tensorflow as tf\n",
    "from tensorflow.keras import layers\n",
    "from IPython import display\n",
    "import matplotlib.pyplot as plt\n",
    "%matplotlib inline\n",
    "\n",
    "print(\"tensorflow\", tf.__version__)"
   ]
  },
  {
   "cell_type": "markdown",
   "id": "36724763",
   "metadata": {},
   "source": [
    "#### 🎀 파이썬 언더스코어(_)  \n",
    "> _는 또한 어떤 특정값을 무시하기 위한 용도로 사용되기도한다. 값이 필요하지 않거나 사용되지 않는 값을 _에 할당하기만 하면된다.\n",
    "\n",
    "### Step 2. 데이터셋 가져오기\n",
    "- `load_data()`로 데이터를 로딩\n",
    "- 각 이미지가 어떤 카테고리인지 나타내주는 라벨이 필요 없다. 우리가 MNIST 데이터로 분류 문제를 풀었을 때 필요했던 `y_train`, `y_test`에 해당하는 데이터 쓰지 않으므로 언더스코어(_)로 무시"
   ]
  },
  {
   "cell_type": "code",
   "execution_count": 4,
   "id": "8d492886",
   "metadata": {},
   "outputs": [],
   "source": [
    "fashion_mnist = tf.keras.datasets.fashion_mnist\n",
    "\n",
    "(train_x, _), (test_x, _) = fashion_mnist.load_data()"
   ]
  },
  {
   "cell_type": "code",
   "execution_count": 5,
   "id": "10ab05a6",
   "metadata": {},
   "outputs": [
    {
     "name": "stdout",
     "output_type": "stream",
     "text": [
      "max pixel: 255\n",
      "min pixel: 0\n"
     ]
    }
   ],
   "source": [
    "print(\"max pixel:\", train_x.max())\n",
    "print(\"min pixel:\", train_x.min())"
   ]
  },
  {
   "cell_type": "markdown",
   "id": "4a4c4e4b",
   "metadata": {},
   "source": [
    "🎀 Fashion MNIST 또한 MNIST와 같이 28x28 픽셀의 이미지로, 각 픽셀은 0~255 사이의 정숫값을 가진다.\n",
    "### Step 3. 정규화하기\n",
    "- 각 픽셀을 -1, 1로 정규화시켜서 사용할 예정이므로, 중간값을 0으로 맞춰주기 위해 127.5를 뺀 후 127.5로 나눠준다"
   ]
  },
  {
   "cell_type": "code",
   "execution_count": 6,
   "id": "c792f1b3",
   "metadata": {},
   "outputs": [
    {
     "name": "stdout",
     "output_type": "stream",
     "text": [
      "max pixel: 1.0\n",
      "min pixel: -1.0\n"
     ]
    }
   ],
   "source": [
    "train_x = (train_x - 127.5) / 127.5 # 이미지를 [-1, 1]로 정규화합니다.\n",
    "\n",
    "print(\"max pixel:\", train_x.max())\n",
    "print(\"min pixel:\", train_x.min())"
   ]
  },
  {
   "cell_type": "markdown",
   "id": "47d30a23",
   "metadata": {},
   "source": [
    "#### - 데이터셋의 shape 출력해보기"
   ]
  },
  {
   "cell_type": "code",
   "execution_count": 9,
   "id": "0bc4d756",
   "metadata": {},
   "outputs": [
    {
     "data": {
      "text/plain": [
       "(60000, 28, 28)"
      ]
     },
     "execution_count": 9,
     "metadata": {},
     "output_type": "execute_result"
    }
   ],
   "source": [
    "train_x.shape"
   ]
  },
  {
   "cell_type": "markdown",
   "id": "594c61f5",
   "metadata": {},
   "source": [
    "🎀 6만 장의 이미지  \n",
    "🎀 각 이미지의 사이즈는 28x28\n",
    "### Step 4. 데이터셋의 shape에 채널 수에 대한 차원 1(grayscale) 추가하기\n",
    "- CNN(합성곱) 계층을 다룰 때 배웠듯, 딥러닝에서 이미지를 다루려면 채널 수에 대한 차원이 필요\n",
    "- R, G, B 세 개의 채널이 있고, Gray Scale(흑백)의 경우 1개의 채널\n",
    "- Fashion MNIST 데이터는 흑백 이미지이므로, 채널 값은 1"
   ]
  },
  {
   "cell_type": "code",
   "execution_count": 10,
   "id": "a2adc126",
   "metadata": {},
   "outputs": [
    {
     "data": {
      "text/plain": [
       "(60000, 28, 28, 1)"
      ]
     },
     "execution_count": 10,
     "metadata": {},
     "output_type": "execute_result"
    }
   ],
   "source": [
    "train_x = train_x.reshape(train_x.shape[0], 28, 28, 1).astype('float32')\n",
    "train_x.shape"
   ]
  },
  {
   "cell_type": "markdown",
   "id": "d51e7e87",
   "metadata": {},
   "source": [
    "#### - 첫번째 데이터 꺼내보기 "
   ]
  },
  {
   "cell_type": "code",
   "execution_count": 11,
   "id": "ad2c8ff9",
   "metadata": {},
   "outputs": [
    {
     "data": {
      "image/png": "[encoded data removed]",
      "text/plain": [
       "<Figure size 432x288 with 2 Axes>"
      ]
     },
     "metadata": {
      "needs_background": "light"
     },
     "output_type": "display_data"
    }
   ],
   "source": [
    "plt.imshow(train_x[0].reshape(28, 28), cmap='gray')\n",
    "plt.colorbar()\n",
    "plt.show()"
   ]
  },
  {
   "cell_type": "markdown",
   "id": "f556fbef",
   "metadata": {},
   "source": [
    "🎀 `plt.colorbar()` 를 이용해 오른쪽에 각 픽셀의 값과 그에 따른 색 확인함 \n",
    "- 픽셀에는 정규화 해준 대로 -1 ~ 1 사이의 값을 가진다\n",
    "- -1이 가장 어두운 검은색, 1이 가장 밝은 흰색\n",
    "\n",
    "####  - for 문을 활용 데이터 10개 띄워보기"
   ]
  },
  {
   "cell_type": "code",
   "execution_count": 12,
   "id": "3c72c5fb",
   "metadata": {},
   "outputs": [
    {
     "data": {
      "image/png": "[encoded data removed]",
      "text/plain": [
       "<Figure size 720x360 with 10 Axes>"
      ]
     },
     "metadata": {
      "needs_background": "light"
     },
     "output_type": "display_data"
    }
   ],
   "source": [
    "plt.figure(figsize=(10, 5))\n",
    "\n",
    "for i in range(10):\n",
    "    plt.subplot(2, 5, i+1)\n",
    "    plt.imshow(train_x[i].reshape(28, 28), cmap='gray')\n",
    "    plt.title(f'index: {i}')\n",
    "    plt.axis('off')\n",
    "plt.show()"
   ]
  },
  {
   "cell_type": "markdown",
   "id": "bb046a24",
   "metadata": {},
   "source": [
    "#### - 이미지 25개를 5x5 의 배열로 띄워보기\n",
    "- `np.random.randint()`를 사용하여 train_images에서 랜덤으로 추출"
   ]
  },
  {
   "cell_type": "code",
   "execution_count": 13,
   "id": "91200bad",
   "metadata": {},
   "outputs": [
    {
     "data": {
      "image/png": "[encoded data removed]",
      "text/plain": [
       "<Figure size 720x864 with 25 Axes>"
      ]
     },
     "metadata": {
      "needs_background": "light"
     },
     "output_type": "display_data"
    }
   ],
   "source": [
    "plt.figure(figsize=(10, 12))\n",
    "\n",
    "for i in range(25):\n",
    "    # [[YOUR CODE]]\n",
    "    plt.subplot(5, 5, i+1)\n",
    "    random_index = np.random.randint(1, 60000)\n",
    "    plt.imshow(train_x[random_index].reshape(28, 28), cmap='gray')\n",
    "    plt.title(f'index: {random_index}')\n",
    "    plt.axis('off')\n",
    "\n",
    "plt.show()"
   ]
  },
  {
   "cell_type": "markdown",
   "id": "6e0d9d66",
   "metadata": {},
   "source": [
    "### Step 5. 정리된 데이터를 모델에 넣어 편하게 학습시킬 수 있도록 텐서플로우의 Dataset을 이용해 준비하기\n"
   ]
  },
  {
   "cell_type": "code",
   "execution_count": 14,
   "id": "d4091964",
   "metadata": {},
   "outputs": [],
   "source": [
    "BUFFER_SIZE = 60000\n",
    "BATCH_SIZE = 256  # minibatch"
   ]
  },
  {
   "cell_type": "markdown",
   "id": "33f7fd2c",
   "metadata": {},
   "source": [
    "🎀 BUFFER_SIZE은 전체 데이터를 섞기 위해 60,000으로 설정, `shuffle()` 함수가 데이터셋을 잘 섞어서 모델에 넣음  \n",
    "🎀 BATCH_SIZE는 모델이 한 번에 학습할 데이터의 양, 미니 배치 학습"
   ]
  },
  {
   "cell_type": "code",
   "execution_count": 15,
   "id": "ea50db90",
   "metadata": {},
   "outputs": [],
   "source": [
    "train_dataset = tf.data.Dataset.from_tensor_slices(train_x).shuffle(BUFFER_SIZE).batch(BATCH_SIZE)"
   ]
  },
  {
   "cell_type": "markdown",
   "id": "ede51ded",
   "metadata": {},
   "source": [
    "### 🎁 TIP\n",
    "> - tf.data.Dataset 모듈의 `from_tensor_slices() 함수를 사용하면 리스트, 넘파이, 또는 텐서플로우의 텐서 자료형에서 데이터셋을 만들 수 있다.\n",
    ">- 위 코드는 train_x라는 넘파이 배열(numpy ndarray)형 자료를 섞고, 이를 배치 사이즈에 따라 나누도록 합니다. \n",
    "> - 데이터가 잘 섞이게 하기 위해서는 버퍼 사이즈를 총 데이터 사이즈와 같거나 크게 설정하는 것이 좋습니다."
   ]
  },
  {
   "cell_type": "markdown",
   "id": "e88731a9",
   "metadata": {},
   "source": [
    "## DCGAN(Deep Convolutional GAN) 모델 구현하기\n",
    "- Keras Sequential API를 활용\n",
    "- https://www.tensorflow.org/tutorials/generative/dcgan?hl=ko 참고\n",
    "\n",
    "### Step 1. 생성자(Generator) 구현하기"
   ]
  },
  {
   "cell_type": "code",
   "execution_count": 16,
   "id": "c367240e",
   "metadata": {},
   "outputs": [],
   "source": [
    "def make_generator_model():\n",
    "\n",
    "    # Start\n",
    "    model = tf.keras.Sequential()\n",
    "\n",
    "    # First: Dense layer\n",
    "    model.add(layers.Dense(7*7*256, use_bias=False, input_shape=(100,)))\n",
    "    model.add(layers.BatchNormalization())\n",
    "    model.add(layers.LeakyReLU())\n",
    "\n",
    "    # Second: Reshape layer\n",
    "    model.add(layers.Reshape((7, 7, 256)))\n",
    "\n",
    "    # Third: Conv2DTranspose layer\n",
    "    model.add(layers.Conv2DTranspose(128, kernel_size=(5, 5), strides=(1, 1), padding='same', use_bias=False))\n",
    "    model.add(layers.BatchNormalization())\n",
    "    model.add(layers.LeakyReLU())\n",
    "\n",
    "    # Fourth: Conv2DTranspose layer\n",
    "    model.add(layers.Conv2DTranspose(64, kernel_size=(5, 5), strides=(2, 2), padding='same', use_bias=False))\n",
    "    model.add(layers.BatchNormalization())\n",
    "    model.add(layers.LeakyReLU())\n",
    "\n",
    "    # Fifth: Conv2DTranspose layer\n",
    "    model.add(layers.Conv2DTranspose(1, kernel_size=(5, 5), strides=(2, 2), padding='same', use_bias=False, \\\n",
    "                                     activation='tanh'))\n",
    "\n",
    "    return model"
   ]
  },
  {
   "cell_type": "markdown",
   "id": "ae6c19fd",
   "metadata": {},
   "source": [
    "## 🎁 정리\n",
    "- `make_generator_model`이라는 함수를 만들어서 언제든 생성자를 생성\n",
    "- `tf.keras.Sequential()`로 모델을 시작한 후 레이어 쌓기\n",
    "\n",
    "#### - Conv2DTranspose 레이어\n",
    "- Conv2D와 달리 이미지 사이즈를 넓혀주는 층\n",
    "- 세 번의 Conv2DTranspose 층을 이용해 (7, 7, 256) → (14, 14, 64) → (28, 28, 1) 순으로 이미지를 키워나간다\n",
    "- 최종 사이즈인 `(28, 28, 1)`은 우리가 준비했던 데이터셋과 형상이 동일\n",
    "\n",
    "#### - BatchNormalization 레이어\n",
    "- 신경망의 가중치가 폭발하지 않도록 가중치 값을 정규화시켜준다\n",
    "\n",
    "#### - 활성화함수\n",
    "- `LeakyReLU`를 사용\n",
    "- 마지막 층에는 활성화 함수로 `tanh`를 사용하는데, 이는 우리가 -1 ~ 1 이내의 값으로 픽셀 값을 정규화시켰던 데이터셋과 동일하게 하기 위함입니다.\n",
    "\n",
    "🎀 모델 입력값: (batch_size, 100) 형상의 노이즈 벡터  \n",
    "🎀 처음 입력된 (batch_size, 100) 벡터는 7 x 7 x 256 = 12544개의 노드를 가진 첫 번째 Dense 레이어를 거치며 (batch_size, 12544) 형상의 벡터가 됩니다.  \n",
    "🎀 첫 번째 레이어를 지난 후 벡터는 Reshape 레이어를 지나게 됩니다.  \n",
    "> 이는 이후의 Layer에서 Convolutional 연산을 할 수 있도록 1차원 벡터를 (7, 7, 256) 형상의 3차원 벡터로 변환시키는 작업입니다.\n",
    "\n",
    "### Step 2. 생성 모델을 generator라는 변수로 생성하고, 모델 세부 내용인 summary를 출력하기"
   ]
  },
  {
   "cell_type": "code",
   "execution_count": 17,
   "id": "7b34f223",
   "metadata": {},
   "outputs": [
    {
     "name": "stdout",
     "output_type": "stream",
     "text": [
      "Model: \"sequential\"\n",
      "_________________________________________________________________\n",
      "Layer (type)                 Output Shape              Param #   \n",
      "=================================================================\n",
      "dense (Dense)                (None, 12544)             1254400   \n",
      "_________________________________________________________________\n",
      "batch_normalization (BatchNo (None, 12544)             50176     \n",
      "_________________________________________________________________\n",
      "leaky_re_lu (LeakyReLU)      (None, 12544)             0         \n",
      "_________________________________________________________________\n",
      "reshape (Reshape)            (None, 7, 7, 256)         0         \n",
      "_________________________________________________________________\n",
      "conv2d_transpose (Conv2DTran (None, 7, 7, 128)         819200    \n",
      "_________________________________________________________________\n",
      "batch_normalization_1 (Batch (None, 7, 7, 128)         512       \n",
      "_________________________________________________________________\n",
      "leaky_re_lu_1 (LeakyReLU)    (None, 7, 7, 128)         0         \n",
      "_________________________________________________________________\n",
      "conv2d_transpose_1 (Conv2DTr (None, 14, 14, 64)        204800    \n",
      "_________________________________________________________________\n",
      "batch_normalization_2 (Batch (None, 14, 14, 64)        256       \n",
      "_________________________________________________________________\n",
      "leaky_re_lu_2 (LeakyReLU)    (None, 14, 14, 64)        0         \n",
      "_________________________________________________________________\n",
      "conv2d_transpose_2 (Conv2DTr (None, 28, 28, 1)         1600      \n",
      "=================================================================\n",
      "Total params: 2,330,944\n",
      "Trainable params: 2,305,472\n",
      "Non-trainable params: 25,472\n",
      "_________________________________________________________________\n"
     ]
    }
   ],
   "source": [
    "generator = make_generator_model()\n",
    "\n",
    "generator.summary()"
   ]
  },
  {
   "cell_type": "markdown",
   "id": "5ca79109",
   "metadata": {},
   "source": [
    "### Step 3.shape=(1, 100)의 형상을 가지는 랜덤 노이즈 벡터를 생성해서 결과물 만들어보기\n",
    "> `tf.random.normal`를 이용하여 가우시안 분포에서 뽑아낸 랜덤 벡터로 이루어진 노이즈 벡터 만들기  \n",
    "🎀 아직 모델이 학습되지 않았으니, 아마 결과물도 큰 의미가 있지는 않음 주의"
   ]
  },
  {
   "cell_type": "code",
   "execution_count": 18,
   "id": "b051eb64",
   "metadata": {},
   "outputs": [],
   "source": [
    "noise = tf.random.normal([1, 100])"
   ]
  },
  {
   "cell_type": "markdown",
   "id": "2fdaab9f",
   "metadata": {},
   "source": [
    "#### - 학습하는 중이 아니니 training=False 설정\n",
    "> Batch Normalization 레이어는 훈련 시기와 추론(inference) 시기의 행동이 다르기 때문에 training=False을 주어야 올바른 결과를 얻을 수 있다."
   ]
  },
  {
   "cell_type": "code",
   "execution_count": 19,
   "id": "6aa3e861",
   "metadata": {},
   "outputs": [
    {
     "data": {
      "text/plain": [
       "TensorShape([1, 28, 28, 1])"
      ]
     },
     "execution_count": 19,
     "metadata": {},
     "output_type": "execute_result"
    }
   ],
   "source": [
    "generated_image = generator(noise, training=False)\n",
    "generated_image.shape"
   ]
  },
  {
   "cell_type": "markdown",
   "id": "a790e69f",
   "metadata": {},
   "source": [
    "🎀 첫 번째 1은 1개(batch_size=1)라는 뜻을, 그 뒤로는 (28, 28, 1) 사이즈 이미지가 생성되었다는 뜻\n",
    "#### - 이미지 시각화해보기\n",
    "> matplotlib 라이브러리는 2차원 이미지만 보여줄 수 있으므로   \n",
    "  0번째와 3번째 축의 인덱스를 0으로 설정해서   \n",
    "  (28, 28) shape의 이미지를 꺼낼 수 있도록 해야한다."
   ]
  },
  {
   "cell_type": "code",
   "execution_count": 20,
   "id": "9b6bfc27",
   "metadata": {},
   "outputs": [
    {
     "data": {
      "image/png": "[encoded data removed]",
      "text/plain": [
       "<Figure size 432x288 with 2 Axes>"
      ]
     },
     "metadata": {
      "needs_background": "light"
     },
     "output_type": "display_data"
    }
   ],
   "source": [
    "plt.imshow(generated_image[0, :, :, 0], cmap='gray')\n",
    "plt.colorbar()\n",
    "plt.show()"
   ]
  },
  {
   "cell_type": "markdown",
   "id": "68d44033",
   "metadata": {},
   "source": [
    "🎀  -1과 1 사이의 값에서 적당히 잘 생성됨   \n",
    "🎀 모델이 전혀 학습하지 않은 상태이기 때문에 아무런 의미가 없는 노이즈 같은 이미지 생성"
   ]
  },
  {
   "cell_type": "markdown",
   "id": "0fcc846e",
   "metadata": {},
   "source": [
    "### Step 4. 판별자(Discriminator) 구현하기"
   ]
  },
  {
   "cell_type": "code",
   "execution_count": 22,
   "id": "bee11f76",
   "metadata": {},
   "outputs": [],
   "source": [
    "def make_discriminator_model():\n",
    "\n",
    "    # Start\n",
    "    model = tf.keras.Sequential()\n",
    "\n",
    "    # First: Conv2D Layer\n",
    "    model.add(layers.Conv2D(64, (5, 5), strides=(2, 2), padding='same', input_shape=[28, 28, 1]))\n",
    "    model.add(layers.LeakyReLU())\n",
    "    model.add(layers.Dropout(0.3))\n",
    "\n",
    "    # Second: Conv2D Layer\n",
    "    model.add(layers.Conv2D(128, (5, 5), strides=(2, 2), padding='same'))\n",
    "    model.add(layers.LeakyReLU())\n",
    "    model.add(layers.Dropout(0.3))\n",
    "\n",
    "    # Third: Flatten Layer\n",
    "    model.add(layers.Flatten())\n",
    "\n",
    "    # Fourth: Dense Layer\n",
    "    model.add(layers.Dense(1))\n",
    "\n",
    "    return model"
   ]
  },
  {
   "cell_type": "markdown",
   "id": "5023167c",
   "metadata": {},
   "source": [
    "## 🎁 정리\n",
    "- `make_discriminator_model` 함수로 구현\n",
    "\n",
    "#### Conv2DTranspose 층\n",
    "- 이미지를 키워나갔던 생성자와 반대로, 판별자는 Conv2D 층으로 이미지의 크기를 점점 줄여나간다\n",
    "- 첫 번째 Conv2D 층에서 입력된 [28, 28, 1] 사이즈의 이미지는 다음 층을 거치며 (28, 28, 1) → (14, 14, 64) → (7, 7, 128)\n",
    "\n",
    "#### Flatten 층\n",
    "- 3차원 이미지를 1차원으로 쭉 펴서 7x7x128=6272, 즉 (1, 6272) 형상의 벡터로 변환합니다. 이는 생성자의 Reshape 층에서 1차원 벡터를 3차원으로 변환했던 것과 정확히 반대 역할을 합니다. \n",
    "\n",
    "#### Dense Layer\n",
    "1차원 벡터로 변환한 후 Dense layer를 거쳐 단 하나의 값을 출력한다.\n",
    "\n",
    "#### - 🎀 판별 모델을 discriminator라는 변수 이름으로 생성하고, 모델 세부 내용인 summary를 출력해보기"
   ]
  },
  {
   "cell_type": "code",
   "execution_count": 23,
   "id": "5fb91f85",
   "metadata": {},
   "outputs": [
    {
     "name": "stdout",
     "output_type": "stream",
     "text": [
      "Model: \"sequential_1\"\n",
      "_________________________________________________________________\n",
      "Layer (type)                 Output Shape              Param #   \n",
      "=================================================================\n",
      "conv2d (Conv2D)              (None, 14, 14, 64)        1664      \n",
      "_________________________________________________________________\n",
      "leaky_re_lu_3 (LeakyReLU)    (None, 14, 14, 64)        0         \n",
      "_________________________________________________________________\n",
      "dropout (Dropout)            (None, 14, 14, 64)        0         \n",
      "_________________________________________________________________\n",
      "conv2d_1 (Conv2D)            (None, 7, 7, 128)         204928    \n",
      "_________________________________________________________________\n",
      "leaky_re_lu_4 (LeakyReLU)    (None, 7, 7, 128)         0         \n",
      "_________________________________________________________________\n",
      "dropout_1 (Dropout)          (None, 7, 7, 128)         0         \n",
      "_________________________________________________________________\n",
      "flatten (Flatten)            (None, 6272)              0         \n",
      "_________________________________________________________________\n",
      "dense_1 (Dense)              (None, 1)                 6273      \n",
      "=================================================================\n",
      "Total params: 212,865\n",
      "Trainable params: 212,865\n",
      "Non-trainable params: 0\n",
      "_________________________________________________________________\n"
     ]
    }
   ],
   "source": [
    "discriminator = make_discriminator_model()\n",
    "\n",
    "discriminator.summary()"
   ]
  },
  {
   "cell_type": "markdown",
   "id": "85bf2ae6",
   "metadata": {},
   "source": [
    "#### - 아까 생성했던 가짜 이미지를 판별자에 입력\n",
    "> 텐서플로우의 텐서 형태로 출력 - 아직까지는 아무런 의미 없음!"
   ]
  },
  {
   "cell_type": "code",
   "execution_count": 24,
   "id": "b4b87ede",
   "metadata": {},
   "outputs": [
    {
     "data": {
      "text/plain": [
       "<tf.Tensor: shape=(1, 1), dtype=float32, numpy=array([[0.00092654]], dtype=float32)>"
      ]
     },
     "execution_count": 24,
     "metadata": {},
     "output_type": "execute_result"
    }
   ],
   "source": [
    "decision = discriminator(generated_image, training=False)\n",
    "decision  "
   ]
  },
  {
   "cell_type": "markdown",
   "id": "7a4a38d0",
   "metadata": {},
   "source": [
    "## 손실함수와 최적화 함수\n",
    "\n",
    "### 🎁 모델 학습을 위한 재료\n",
    "#### (1) 손실함수 (loss function)\n",
    "- GAN은 손실함수로 `교차 엔트로피(Cross Entropy)`를 사용\n",
    "- `tf.keras.losses` 라이브러리\n",
    "-  Real Image에 대한 라벨이 1, Fake Image에 대한 라벨이 0 일 때,\n",
    "> 🎀 생성자 : 판별자가 Fake Image에 대해 판별한 값, 즉 D(fake_image) 값이 1에 가까워지는 것     \n",
    "🎀 판별자 : Real Image 판별값, 즉 D(real_image)는 1에, Fake Image 판별값, 즉 D(fake_image)는 0에 가까워지는 것\n",
    "- 마지막 Layer에는 값을 정규화시키는 sigmoid나 tanh 함수와 같은 활성화 함수가 없다. 즉, 구분자가 출력하는 값은 범위가 정해지지 않아 모든 실숫값을 가질 수 있다. \n",
    "> 🎀 그런데 tf.keras.losses의 BinaryCrossEntropy 클래스는 기본적으로 본인에게 들어오는 인풋값이 0-1 사이에 분포하는 확률값이라고 가정  \n",
    "🎀 `from_logits`를 `True`로 설정해 주어야 BinaryCrossEntropy에 입력된 값을 함수 내부에서 sigmoid 함수를 사용해 0~1 사이의 값으로 정규화\n",
    "- `y_pred (predicted value)`: This is the model's prediction, i.e, a single floating-point value which either represents a logit, (i.e, value in [-inf, inf] when from_logits=True) or a probability (i.e, value in [0., 1.] when from_logits=False)."
   ]
  },
  {
   "cell_type": "code",
   "execution_count": 25,
   "id": "95766bad",
   "metadata": {},
   "outputs": [],
   "source": [
    "cross_entropy = tf.keras.losses.BinaryCrossentropy(from_logits=True)"
   ]
  },
  {
   "cell_type": "markdown",
   "id": "10b3ba26",
   "metadata": {},
   "source": [
    "🎀 fake_output : 생성자가 생성한 Fake Image를 구분자에 입력시켜서 판별된 값, 즉 D(fake_image)  \n",
    "🎀 real_output : 기존에 있던 Real Image를 구분자에 입력시켜서 판별된 값, 즉 D(real_image)\n",
    "> `tf.ones_like()`와 `tf.zeros_like()` 함수 활용"
   ]
  },
  {
   "cell_type": "code",
   "execution_count": 26,
   "id": "89db89e9",
   "metadata": {},
   "outputs": [
    {
     "data": {
      "text/plain": [
       "<tf.Tensor: shape=(2, 3), dtype=int32, numpy=\n",
       "array([[1, 1, 1],\n",
       "       [1, 1, 1]], dtype=int32)>"
      ]
     },
     "execution_count": 26,
     "metadata": {},
     "output_type": "execute_result"
    }
   ],
   "source": [
    "vector = [[1, 2, 3],\n",
    "          [4, 5, 6]]\n",
    "\n",
    "tf.ones_like(vector)"
   ]
  },
  {
   "cell_type": "markdown",
   "id": "46d30fd1",
   "metadata": {},
   "source": [
    "## 🎠 discriminator_loss\n",
    "- discriminator_loss는 real_output 값은 1에 가까워지기를, fake_output 값은 0에 가까워지기를 바라므로, 두 가지 loss값을 모두 계산한다.\n",
    "> discriminator_loss = real_loss + fake_loss\n",
    "- `real_output`은 1로 채워진 벡터와, `fake_output`은 0으로 채워진 벡터와 비교"
   ]
  },
  {
   "cell_type": "code",
   "execution_count": 27,
   "id": "e619d933",
   "metadata": {},
   "outputs": [],
   "source": [
    "def discriminator_loss(real_output, fake_output):\n",
    "    real_loss = cross_entropy(tf.ones_like(real_output), real_output)\n",
    "    fake_loss = cross_entropy(tf.zeros_like(fake_output), fake_output)\n",
    "    total_loss = real_loss + fake_loss\n",
    "    return total_loss"
   ]
  },
  {
   "cell_type": "markdown",
   "id": "81a3d2db",
   "metadata": {},
   "source": [
    "## 🎠 discriminator accuracy\n",
    "- real output, fake output을 얼마나 정확히 판별하는지의 accuracy를 계산\n",
    "- 따로 계산해서 비교해 보기\n",
    "> (1) tf.math.greater_equal(real_output, tf.constant([0.5]) : real_output의 각 원소가 0.5 이상인지 True, False로 판별 - >> tf.Tensor([False, False, True, True])  \n",
    "(2) tf.cast( (1), tf.float32) : (1)의 결과가 True이면 1.0, False이면 0.0으로 변환 - >> tf.Tensor([0.0, 0.0, 1.0, 1.0])  \n",
    "(3) tf.reduce_mean( (2)) : (2)의 결과를 평균내어 이번 배치의 정확도(accuracy)를 계산 - >> 0.5"
   ]
  },
  {
   "cell_type": "code",
   "execution_count": null,
   "id": "20629054",
   "metadata": {},
   "outputs": [],
   "source": [
    "def discriminator_accuracy(real_output, fake_output):\n",
    "    real_accuracy = tf.reduce_mean(tf.cast(tf.math.greater_equal(real_output, tf.constant([0.5])), tf.float32))\n",
    "    fake_accuracy = tf.reduce_mean(tf.cast(tf.math.less(fake_output, tf.constant([0.5])), tf.float32))\n",
    "    return real_accuracy, fake_accuracy"
   ]
  },
  {
   "cell_type": "markdown",
   "id": "d0a1fef8",
   "metadata": {},
   "source": [
    "## 🎠 최적화 함수(optimizer)\n",
    "###  Adam 최적화 기법 활용\n",
    "- `tf.keras.optimizers` 안에 있음\n",
    "- `learning rate`는 0.0001  \n",
    "🎀 학습 품질을 올려보고 싶다면 하이퍼 파라미터를 여러 가지로 값을 바꾸어 가며 학습을 진행해 보는 것을 추천  \n",
    "🎀  생성자와 구분자는 따로따로 학습을 진행하는 개별 네트워크이기 때문에 optimizer를 따로 만들어주어야 한다"
   ]
  },
  {
   "cell_type": "code",
   "execution_count": 28,
   "id": "ce3dfd1d",
   "metadata": {},
   "outputs": [],
   "source": [
    "generator_optimizer = tf.keras.optimizers.Adam(1e-4)\n",
    "discriminator_optimizer = tf.keras.optimizers.Adam(1e-4)"
   ]
  },
  {
   "cell_type": "markdown",
   "id": "247d6304",
   "metadata": {},
   "source": [
    "#### - 샘플 한 번에 16장을 생성하여 학습이 어떻게 진행되어가고 있는지 확인하기\n",
    "- 고정된 seed 노이즈: 같은 노이즈로 생성해야 그에 대한 진전 과정 확인 가능\n",
    "- 100차원의 노이즈를 총 16개, (16, 100) 형상의 벡터를 만들기"
   ]
  },
  {
   "cell_type": "code",
   "execution_count": 30,
   "id": "82e05bd3",
   "metadata": {},
   "outputs": [
    {
     "data": {
      "text/plain": [
       "TensorShape([16, 100])"
      ]
     },
     "execution_count": 30,
     "metadata": {},
     "output_type": "execute_result"
    }
   ],
   "source": [
    "noise_dim = 100\n",
    "num_examples_to_generate = 16\n",
    "\n",
    "seed = tf.random.normal([num_examples_to_generate, noise_dim])\n",
    "seed.shape"
   ]
  },
  {
   "cell_type": "markdown",
   "id": "ddc63e2c",
   "metadata": {},
   "source": [
    "## 훈련과정 설계\n",
    "\n",
    "#### `train_step` 함수 만들기\n",
    "- `@tf.function` 이라는 데코레이터를 붙여서 사용  "
   ]
  },
  {
   "cell_type": "code",
   "execution_count": 31,
   "id": "26392f3a",
   "metadata": {},
   "outputs": [
    {
     "name": "stdout",
     "output_type": "stream",
     "text": [
      "<class 'numpy.ndarray'>\n",
      "<class 'numpy.ndarray'>\n"
     ]
    },
    {
     "data": {
      "text/plain": [
       "array([7, 7])"
      ]
     },
     "execution_count": 31,
     "metadata": {},
     "output_type": "execute_result"
    }
   ],
   "source": [
    "import numpy as np\n",
    "import tensorflow as tf\n",
    "\n",
    "def f(x, y):\n",
    "  print(type(x))\n",
    "  print(type(y))\n",
    "  return x ** 2 + y\n",
    "\n",
    "x = np.array([2, 3])\n",
    "y = np.array([3, -2])\n",
    "f(x, y)"
   ]
  },
  {
   "cell_type": "code",
   "execution_count": 32,
   "id": "2bacf968",
   "metadata": {},
   "outputs": [
    {
     "name": "stdout",
     "output_type": "stream",
     "text": [
      "<class 'tensorflow.python.framework.ops.Tensor'>\n",
      "<class 'tensorflow.python.framework.ops.Tensor'>\n"
     ]
    },
    {
     "data": {
      "text/plain": [
       "<tf.Tensor: shape=(2,), dtype=int64, numpy=array([7, 7])>"
      ]
     },
     "execution_count": 32,
     "metadata": {},
     "output_type": "execute_result"
    }
   ],
   "source": [
    "import numpy as np\n",
    "import tensorflow as tf\n",
    "\n",
    "@tf.function    # 위와 동일한 함수이지만 @tf.function 데코레이터가 적용되었습니다.\n",
    "def f(x, y):\n",
    "  print(type(x))\n",
    "  print(type(y))\n",
    "  return x ** 2 + y\n",
    "\n",
    "x = np.array([2, 3])\n",
    "y = np.array([3, -2])\n",
    "f(x, y)"
   ]
  },
  {
   "cell_type": "markdown",
   "id": "bbab0686",
   "metadata": {},
   "source": [
    "### 🎀 `@tf.function` \n",
    "데코레이터가 사용된 함수에 입력된 입력은 Tensorflow의 graph 노드가 될 수 있는 타입으로 자동 변환\n",
    "\n",
    "- `train_step` 함수를 하나하나 뜯어보면 다음과 같습니다.\n",
    "\n",
    "(1) 입력 데이터: Real Image 역할을 할 images 한 세트를 입력으로 받음  \n",
    "(2) 생성자 입력 노이즈 : generator가 FAKE IMAGE를 생성하기 위한 noise를 images 한 세트와 같은 크기인 BATCH_SIZE 만큼 생성함  \n",
    "(3) tf.GradientTape()는 가중치 갱신을 위한 Gradient를 자동 미분으로 계산하기 위해 with 구문 열기  \n",
    "(4) generated_images 생성 : generator가 noise를 입력받은 후 generated_images 생성  \n",
    "(5) discriminator 판별 : discriminator가 Real Image인 images와 Fake Image인 generated_images를 각각 입력받은 후 real_output, fake_output 출력  \n",
    "(6) loss 계산 : fake_output, real_output으로 generator와 discriminator 각각의 loss 계산  \n",
    "(7) accuracy 계산 : fake_output, real_output으로 discriminator의 정확도 계산  \n",
    "(8) gradient 계산 : gen_tape와 disc_tape를 활용해 gradient를 자동으로 계산  \n",
    "(9) 모델 학습 : 계산된 gradient를 optimizer에 입력해 가중치 갱신  \n",
    "(10) 리턴값 : 이번 스텝에 계산된 loss와 accuracy를 리턴"
   ]
  },
  {
   "cell_type": "code",
   "execution_count": 33,
   "id": "40752859",
   "metadata": {},
   "outputs": [],
   "source": [
    "@tf.function\n",
    "def train_step(images):  #(1) 입력데이터\n",
    "    noise = tf.random.normal([BATCH_SIZE, noise_dim])  #(2) 생성자 입력 노이즈\n",
    "\n",
    "    with tf.GradientTape() as gen_tape, tf.GradientTape() as disc_tape:  #(3) tf.GradientTape() 오픈\n",
    "        generated_images = generator(noise, training=True)  #(4) generated_images 생성\n",
    "\n",
    "        #(5) discriminator 판별\n",
    "        real_output = discriminator(images, training=True)\n",
    "        fake_output = discriminator(generated_images, training=True)\n",
    "\n",
    "        #(6) loss 계산\n",
    "        gen_loss = generator_loss(fake_output)\n",
    "        disc_loss = discriminator_loss(real_output, fake_output)\n",
    "\n",
    "        #(7) accuracy 계산\n",
    "        real_accuracy, fake_accuracy = discriminator_accuracy(real_output, fake_output) \n",
    "    \n",
    "    #(8) gradient 계산\n",
    "    gradients_of_generator = gen_tape.gradient(gen_loss, generator.trainable_variables)\n",
    "    gradients_of_discriminator = disc_tape.gradient(disc_loss, discriminator.trainable_variables)\n",
    "\n",
    "    #(9) 모델 학습\n",
    "    generator_optimizer.apply_gradients(zip(gradients_of_generator, generator.trainable_variables))\n",
    "    discriminator_optimizer.apply_gradients(zip(gradients_of_discriminator, discriminator.trainable_variables))\n",
    "\n",
    "    return gen_loss, disc_loss, real_accuracy, fake_accuracy  #(10) 리턴값"
   ]
  },
  {
   "cell_type": "markdown",
   "id": "fc91428f",
   "metadata": {},
   "source": [
    "#### - 한 단계씩 학습할 train_step과 함께 일정 간격으로 학습 현황을 볼 수 있는 샘플을 생성하는 함수 만들기"
   ]
  },
  {
   "cell_type": "code",
   "execution_count": 35,
   "id": "6611ad00",
   "metadata": {},
   "outputs": [],
   "source": [
    "def generate_and_save_images(model, epoch, it, sample_seeds):\n",
    "\n",
    "    predictions = model(sample_seeds, training=False)\n",
    "\n",
    "    fig = plt.figure(figsize=(4, 4))\n",
    "    for i in range(predictions.shape[0]):\n",
    "        plt.subplot(4, 4, i+1)\n",
    "        plt.imshow(predictions[i, :, :, 0], cmap='gray')\n",
    "        plt.axis('off')\n",
    "   \n",
    "    plt.savefig('{}/aiffel/dcgan_newimage/fashion/generated_samples/sample_epoch_{:04d}_iter_{:03d}.png'\n",
    "                    .format(os.getenv('HOME'), epoch, it))\n",
    "\n",
    "    plt.show()"
   ]
  },
  {
   "cell_type": "markdown",
   "id": "e9fb2da3",
   "metadata": {},
   "source": [
    "1. model이 16개의 seed가 들어있는 sample_seeds를 입력받아서 만들어낸 prediction을 matplotlib으로 시각화해주는 과정\n",
    "    - 🎀 subplot을 이용해서 총 16개의 sample을 시각화하는 과정입니다. 16개이므로 4행 4열로 나누어 subplot(4, 4, i+1)로 시각화  \n",
    "2. plt에 저장되어 보이는 이미지를 plt.savefig로 간단히 파일로 저장  \n",
    "3. train_step() 함수가 리턴하는 gen_loss, disc_loss, real_accuracy, fake_accuracy 이상 4가지 값을 history라는 dict 구조에 리스트로 저장하고 있다가 매 epoch마다 시각화하는 함수 만들기  \n",
    "4. 생성자의 loss의 history는 history['gen_loss']로 접근할 수 있는 list로 관리"
   ]
  },
  {
   "cell_type": "code",
   "execution_count": null,
   "id": "37abac53",
   "metadata": {},
   "outputs": [],
   "source": [
    "from matplotlib.pylab import rcParams\n",
    "rcParams['figure.figsize'] = 15, 6    # matlab 차트의 기본 크기를 15,6으로 지정해 줍니다.\n",
    "\n",
    "def draw_train_history(history, epoch):\n",
    "    # summarize history for loss  \n",
    "    plt.subplot(211)  \n",
    "    plt.plot(history['gen_loss'])  \n",
    "    plt.plot(history['disc_loss'])  \n",
    "    plt.title('model loss')  \n",
    "    plt.ylabel('loss')  \n",
    "    plt.xlabel('batch iters')  \n",
    "    plt.legend(['gen_loss', 'disc_loss'], loc='upper left')  \n",
    "\n",
    "    # summarize history for accuracy  \n",
    "    plt.subplot(212)  \n",
    "    plt.plot(history['fake_accuracy'])  \n",
    "    plt.plot(history['real_accuracy'])  \n",
    "    plt.title('discriminator accuracy')  \n",
    "    plt.ylabel('accuracy')  \n",
    "    plt.xlabel('batch iters')  \n",
    "    plt.legend(['fake_accuracy', 'real_accuracy'], loc='upper left')  \n",
    "    \n",
    "    # training_history 디렉토리에 epoch별로 그래프를 이미지 파일로 저장합니다.\n",
    "    plt.savefig('{}/aiffel/dcgan_newimage/fashion/training_history/train_history_{:04d}.png'\n",
    "                    .format(os.getenv('HOME'), epoch))\n",
    "    plt.show()"
   ]
  },
  {
   "cell_type": "markdown",
   "id": "bd7ded96",
   "metadata": {},
   "source": [
    "### 🎀 `tf.train.Checkpoint`\n",
    "- 매번 모델을 직접 저장해 주지 않아도, 코드 한 줄로 빠르고 편하게 버전 관리 가능\n",
    "- checkpoint에는 optimizer와 생성자, 판별자를 모두 넣어 저장\n",
    "- 작업환경 내에 `training_checkpoints` 라는 디렉토리 사용"
   ]
  },
  {
   "cell_type": "code",
   "execution_count": 36,
   "id": "1ff2cab3",
   "metadata": {},
   "outputs": [],
   "source": [
    "checkpoint_dir = os.getenv('HOME')+'/aiffel/dcgan_newimage/fashion/training_checkpoints'\n",
    "\n",
    "checkpoint_prefix = os.path.join(checkpoint_dir, \"ckpt\")\n",
    "checkpoint = tf.train.Checkpoint(generator_optimizer=generator_optimizer,\n",
    "                                 discriminator_optimizer=discriminator_optimizer,\n",
    "                                 generator=generator,\n",
    "                                 discriminator=discriminator)"
   ]
  },
  {
   "cell_type": "markdown",
   "id": "276d1e6a",
   "metadata": {},
   "source": [
    "## 모델 학습시키기\n",
    "- train_step, 샘플 이미지를 생성하고 저장하기 위한 generate_and_save_images(), 학습 과정을 시각화하는 draw_train_history(), 그리고 모델까지 저장하기 위한 checkpoint까지 모두 준비가 되었으니 이것들을 한곳에 합치기"
   ]
  },
  {
   "cell_type": "code",
   "execution_count": 37,
   "id": "a755af8b",
   "metadata": {},
   "outputs": [],
   "source": [
    "def train(dataset, epochs, save_every):\n",
    "    start = time.time()\n",
    "    history = {'gen_loss':[], 'disc_loss':[], 'real_accuracy':[], 'fake_accuracy':[]}\n",
    "\n",
    "    for epoch in range(epochs):\n",
    "        epoch_start = time.time()\n",
    "        for it, image_batch in enumerate(dataset):\n",
    "            gen_loss, disc_loss, real_accuracy, fake_accuracy = train_step(image_batch)\n",
    "            history['gen_loss'].append(gen_loss)\n",
    "            history['disc_loss'].append(disc_loss)\n",
    "            history['real_accuracy'].append(real_accuracy)\n",
    "            history['fake_accuracy'].append(fake_accuracy)\n",
    "\n",
    "            if it % 50 == 0:\n",
    "                display.clear_output(wait=True)\n",
    "                generate_and_save_images(generator, epoch+1, it+1, seed)\n",
    "                print('Epoch {} | iter {}'.format(epoch+1, it+1))\n",
    "                print('Time for epoch {} : {} sec'.format(epoch+1, int(time.time()-epoch_start)))\n",
    "\n",
    "        if (epoch + 1) % save_every == 0:\n",
    "            checkpoint.save(file_prefix=checkpoint_prefix)\n",
    "\n",
    "        display.clear_output(wait=True)\n",
    "        generate_and_save_images(generator, epochs, it, seed)\n",
    "        print('Time for training : {} sec'.format(int(time.time()-start)))\n",
    "\n",
    "        draw_train_history(history, epoch)"
   ]
  },
  {
   "cell_type": "markdown",
   "id": "f7fc3ba8",
   "metadata": {},
   "source": [
    "#### - 생성된 샘플을 시각화하거나 원하는 시간을 출력하기\n",
    "- print문과 몇 번마다 출력하는지에 대한 구문을 원하는 대로 수정\n",
    "- `save_every`와 전체 학습 에포크를 결정하는 `EPOCHS` 파라미터도 설정해 준 후 훈련시키기 \n",
    "- `train()` 함수를 실행시키면 드디어 모델이 학습해 나가면서 만들어내는 결과물을 실시간으로 확인\n",
    ">본 학습은 이미지를 활용한 것이기 때문에 CPU 환경에서는 매우 느릴 수 있습니다.  \n",
    "RTX2070 또는 구글 Colab의 T4 정도 사양의 경우 1 Epoch 당 10초가 걸리는 반면, 일반적인 CPU 환경에서는 최소 3분에서 10분 이상이 걸릴 수 있으므로 최대한 GPU 환경에서 실습해 보는 것을 추천"
   ]
  },
  {
   "cell_type": "code",
   "execution_count": null,
   "id": "d5bc559a",
   "metadata": {},
   "outputs": [],
   "source": [
    "save_every = 5\n",
    "EPOCHS = 50\n",
    "\n",
    "# 사용가능한 GPU 디바이스 확인\n",
    "tf.config.list_physical_devices(\"GPU\")"
   ]
  },
  {
   "cell_type": "code",
   "execution_count": null,
   "id": "6f3e9a65",
   "metadata": {},
   "outputs": [],
   "source": [
    "%%time\n",
    "train(train_dataset, EPOCHS, save_every)\n",
    "\n",
    "# 학습과정의 loss, accuracy 그래프 이미지 파일이 ~/aiffel/dcgan_newimage/fashion/training_history 경로에 생성되고 있으니\n",
    "# 진행 과정을 수시로 확인해 보시길 권합니다."
   ]
  },
  {
   "cell_type": "markdown",
   "id": "a625cb24",
   "metadata": {},
   "source": [
    "#### 🎠 만약 생성자가 만든 Fake Image에 대한 판별자의 Accuracy(fake_accuracy)가 계속 1에 가깝게 유지되고 있다면,    생성자가 만든 이미지가 아직 판별자를 성공적으로 속이지 못하고 있다는 뜻\n",
    "- 더욱 많은 epoch으로 학습을 시켜야 함 !! \n",
    "- 단순히 학습 수행 시간만 늘리는 것보다, 모델 구조나 학습 방법을 바꾸어 봐야 할 수도 있다"
   ]
  },
  {
   "cell_type": "markdown",
   "id": "baceed03",
   "metadata": {},
   "source": [
    "## 학습과정 시각화하기\n",
    "- 생성했던 샘플 이미지들을 합쳐 GIF 파일, 일명 움짤로 만들어보기\n",
    "> 1. GIF 파일은 우리가 오래전에 import 해놓았던 `imageio 라이브러리`를 활용  \n",
    "> 2. `imageio.get_writer`를 활용해서 파일을 열고, \n",
    "> 3. `append_data`로 이미지를 하나씩 붙여나가는 방식\n",
    "> 4. 실행되면, `fasion_mnist_dcgan.gif` 파일이 저장되어 있는 것을 확인"
   ]
  },
  {
   "cell_type": "code",
   "execution_count": null,
   "id": "b7ae2fe6",
   "metadata": {},
   "outputs": [],
   "source": [
    "anim_file = os.getenv('HOME')+'/aiffel/dcgan_newimage/fashion/fashion_mnist_dcgan.gif'\n",
    "\n",
    "with imageio.get_writer(anim_file, mode='I') as writer:\n",
    "    filenames = glob.glob('{}/aiffel/dcgan_newimage/fashion/generated_samples/sample*.png'.format(os.getenv('HOME')))\n",
    "    filenames = sorted(filenames)\n",
    "    last = -1\n",
    "    for i, filename in enumerate(filenames):\n",
    "        frame = 2*(i**0.5)\n",
    "        if round(frame) > round(last):\n",
    "            last = frame\n",
    "        else:\n",
    "            continue\n",
    "        image = imageio.imread(filename)\n",
    "        writer.append_data(image)\n",
    "    image = imageio.imread(filename)\n",
    "    writer.append_data(image)\n",
    "\n",
    "!ls -l ~/aiffel/dcgan_newimage/fashion/fashion_mnist_dcgan.gif"
   ]
  },
  {
   "cell_type": "markdown",
   "id": "c431e406",
   "metadata": {},
   "source": [
    "클라우드에서는 확인을 위하여 cloud jupyrer를 열어서 ~/aiffel/dcgan_newimage/fashion/ 폴더 경로에 fashion_mnist_dcgan.gif를 클릭하시면 생성자가 만들어내는 이미지의 품질이 점점 개선되어 가는 과정을 한눈에 볼 수 있다."
   ]
  },
  {
   "cell_type": "code",
   "execution_count": null,
   "id": "64011fe5",
   "metadata": {},
   "outputs": [],
   "source": []
  }
 ],
 "metadata": {
  "kernelspec": {
   "display_name": "Python 3 (ipykernel)",
   "language": "python",
   "name": "python3"
  },
  "language_info": {
   "codemirror_mode": {
    "name": "ipython",
    "version": 3
   },
   "file_extension": ".py",
   "mimetype": "text/x-python",
   "name": "python",
   "nbconvert_exporter": "python",
   "pygments_lexer": "ipython3",
   "version": "3.9.7"
  }
 },
 "nbformat": 4,
 "nbformat_minor": 5
}
